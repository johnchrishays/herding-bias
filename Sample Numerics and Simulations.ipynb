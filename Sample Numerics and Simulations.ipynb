{
 "cells": [
  {
   "cell_type": "markdown",
   "metadata": {},
   "source": [
    "# Runs numerics for mean field model and numerics in finite state space continuous time Markov chain with N listings."
   ]
  },
  {
   "cell_type": "code",
   "execution_count": 2,
   "metadata": {
    "ExecuteTime": {
     "end_time": "2023-11-30T15:52:50.751898Z",
     "start_time": "2023-11-30T15:52:49.128665Z"
    }
   },
   "outputs": [],
   "source": [
    "import numpy as np\n",
    "import pandas as pd\n",
    "import matplotlib.pyplot as plt\n",
    "import seaborn as sns\n",
    "import copy\n",
    "import csv\n",
    "import time\n",
    "import itertools\n",
    "from numpy import random\n",
    "from operator import itemgetter\n",
    "import importlib\n",
    "import multiprocessing as mp\n",
    "import json"
   ]
  },
  {
   "cell_type": "code",
   "execution_count": 3,
   "metadata": {
    "ExecuteTime": {
     "end_time": "2023-11-30T15:52:50.762476Z",
     "start_time": "2023-11-30T15:52:50.753823Z"
    }
   },
   "outputs": [],
   "source": [
    "import experiment_helper\n",
    "import exp_wrapper \n",
    "\n",
    "import finite_sim as sim\n",
    "import finite_sim_wrapper as sim_wrapper"
   ]
  },
  {
   "cell_type": "code",
   "execution_count": 4,
   "metadata": {
    "ExecuteTime": {
     "end_time": "2023-11-30T15:52:50.783416Z",
     "start_time": "2023-11-30T15:52:50.763942Z"
    }
   },
   "outputs": [
    {
     "data": {
      "text/plain": [
       "<module 'finite_sim_wrapper' from '/home/jhays/herding-bias/finite_sim_wrapper.py'>"
      ]
     },
     "execution_count": 4,
     "metadata": {},
     "output_type": "execute_result"
    }
   ],
   "source": [
    "importlib.reload(exp_wrapper)\n",
    "importlib.reload(experiment_helper)\n",
    "importlib.reload(sim)\n",
    "importlib.reload(sim_wrapper)"
   ]
  },
  {
   "cell_type": "markdown",
   "metadata": {
    "heading_collapsed": true
   },
   "source": [
    "# Setting parameters model parameters"
   ]
  },
  {
   "cell_type": "code",
   "execution_count": 4,
   "metadata": {
    "ExecuteTime": {
     "end_time": "2023-11-30T14:48:03.203312Z",
     "start_time": "2023-11-30T14:48:03.195944Z"
    },
    "hidden": true
   },
   "outputs": [],
   "source": [
    "alpha = 1\n",
    "epsilon = 1\n",
    "tau = 1\n",
    "lams = [ .1, 1, 10]\n",
    "\n",
    "\n",
    "tsr_ac_al_values = [.5]\n",
    "cr_a_C = 0.5\n",
    "lr_a_L = 0.5\n",
    "\n",
    "tsr_est_types = ['tsr_est_naive', 'tsri_1.0','tsri_2.0']\n"
   ]
  },
  {
   "cell_type": "code",
   "execution_count": 5,
   "metadata": {
    "ExecuteTime": {
     "end_time": "2023-11-30T14:48:04.338003Z",
     "start_time": "2023-11-30T14:48:04.312095Z"
    },
    "hidden": true
   },
   "outputs": [
    {
     "name": "stdout",
     "output_type": "stream",
     "text": [
      "customer c1\n",
      "control {'l': 0.315}\n",
      "treatment {'l': 0.3937} \n",
      "\n",
      "Rhos: {'l': 1}\n",
      "Customer Proportions: {'c1': 1}\n"
     ]
    }
   ],
   "source": [
    "customer_types = ['c1']\n",
    "listing_types = ['l']\n",
    "exp_conditions = ['control', 'treat']\n",
    "rhos_pre_treat = {'l':1} #adds up to 1\n",
    "customer_proportions = {'c1':1} #adds up to 1\n",
    "\n",
    "# used for multiplicative utilities\n",
    "customer_type_base = {'c1':.315 }\n",
    "listing_type_base = {'l':1}\n",
    "exp_condition_base = {'control':1, 'treat':1.25}\n",
    "\n",
    "vs = {}\n",
    "#multiplicative -- default\n",
    "for c in customer_types:\n",
    "    vs[c] = {}\n",
    "    vs[c]['treat'] = {}   \n",
    "    vs[c]['control'] = {}\n",
    "    for l in listing_types:\n",
    "        for e in exp_conditions:\n",
    "            vs[c][e][l] = round(customer_type_base[c]\n",
    "                                *exp_condition_base[e]\n",
    "                                *listing_type_base[l],4)\n",
    "\n",
    "for c in customer_types:\n",
    "    print(\"customer\", c)\n",
    "    print(\"control\", vs[c]['control'])\n",
    "    print(\"treatment\", vs[c]['treat'], \"\\n\")\n",
    "print('Rhos:', rhos_pre_treat)\n",
    "print(\"Customer Proportions:\", customer_proportions)"
   ]
  },
  {
   "cell_type": "markdown",
   "metadata": {
    "heading_collapsed": true
   },
   "source": [
    "# Simulations"
   ]
  },
  {
   "cell_type": "markdown",
   "metadata": {
    "hidden": true
   },
   "source": [
    "Setting simulation parameters. Remaining model parameters as defined in mean field parameters."
   ]
  },
  {
   "cell_type": "code",
   "execution_count": 36,
   "metadata": {
    "ExecuteTime": {
     "end_time": "2023-11-30T03:14:43.110968Z",
     "start_time": "2023-11-30T03:14:43.102198Z"
    },
    "hidden": true
   },
   "outputs": [],
   "source": [
    "T_0 = 5\n",
    "T_1 = 25\n",
    "\n",
    "# normalizes time horizon by min(lam, tau)\n",
    "T_start = {lam: T_0/min(lam,tau) for lam in lams}\n",
    "T_end = {lam: T_1/min(lam,tau) for lam in lams}\n",
    "\n",
    "varying_time_horizons = True\n",
    "\n",
    "n_runs = 100\n",
    "n_listings = 1000"
   ]
  },
  {
   "cell_type": "markdown",
   "metadata": {
    "hidden": true
   },
   "source": [
    "Define choice set type. If 'alpha', customers sample items into consideration set with prob alpha. If 'finite_k', each customer draws a fixed $k$ number of items into their consideration set."
   ]
  },
  {
   "cell_type": "code",
   "execution_count": 37,
   "metadata": {
    "ExecuteTime": {
     "end_time": "2023-11-30T03:14:43.605028Z",
     "start_time": "2023-11-30T03:14:43.600467Z"
    },
    "hidden": true
   },
   "outputs": [],
   "source": [
    "choice_set_type = 'alpha' #customers sample items into consideration set with prob alpha\n",
    "k = None"
   ]
  },
  {
   "cell_type": "code",
   "execution_count": 38,
   "metadata": {
    "ExecuteTime": {
     "end_time": "2023-11-30T03:14:43.890465Z",
     "start_time": "2023-11-30T03:14:43.883904Z"
    },
    "hidden": true
   },
   "outputs": [],
   "source": [
    "params = sim_wrapper.calc_all_params(listing_types, rhos_pre_treat, \n",
    "                                     customer_types, customer_proportions, vs, \n",
    "                                    alpha, epsilon, tau, lams,\n",
    "                                    tsr_ac_al_values, cr_a_C, lr_a_L)"
   ]
  },
  {
   "cell_type": "markdown",
   "metadata": {
    "hidden": true
   },
   "source": [
    "## Herding"
   ]
  },
  {
   "cell_type": "code",
   "execution_count": 39,
   "metadata": {
    "ExecuteTime": {
     "end_time": "2023-11-30T14:43:57.911499Z",
     "start_time": "2023-11-30T03:14:44.668823Z"
    },
    "hidden": true
   },
   "outputs": [
    {
     "name": "stdout",
     "output_type": "stream",
     "text": [
      "lambda= 0.1\n",
      "Time elapsed:  6883.96\n",
      "lambda= 1\n",
      "Time elapsed:  5925.33\n",
      "lambda= 10\n"
     ]
    },
    {
     "name": "stderr",
     "output_type": "stream",
     "text": [
      "Process ForkPoolWorker-1189:\n",
      "Process ForkPoolWorker-1212:\n",
      "Process ForkPoolWorker-1196:\n",
      "Process ForkPoolWorker-1208:\n",
      "Process ForkPoolWorker-1202:\n",
      "Process ForkPoolWorker-1174:\n",
      "Process ForkPoolWorker-1197:\n",
      "Process ForkPoolWorker-1204:\n",
      "Process ForkPoolWorker-1215:\n",
      "Process ForkPoolWorker-1198:\n",
      "Process ForkPoolWorker-1171:\n",
      "Process ForkPoolWorker-1195:\n",
      "Process ForkPoolWorker-1191:\n",
      "Process ForkPoolWorker-1201:\n",
      "Process ForkPoolWorker-1192:\n",
      "Process ForkPoolWorker-1213:\n",
      "Process ForkPoolWorker-1190:\n",
      "Process ForkPoolWorker-1207:\n",
      "Process ForkPoolWorker-1193:\n",
      "Process ForkPoolWorker-1179:\n",
      "Process ForkPoolWorker-1211:\n",
      "Process ForkPoolWorker-1214:\n",
      "Traceback (most recent call last):\n",
      "Process ForkPoolWorker-1180:\n",
      "Process ForkPoolWorker-1194:\n",
      "Process ForkPoolWorker-1181:\n",
      "Process ForkPoolWorker-1178:\n",
      "Process ForkPoolWorker-1209:\n",
      "Traceback (most recent call last):\n",
      "Process ForkPoolWorker-1184:\n",
      "Process ForkPoolWorker-1199:\n",
      "Process ForkPoolWorker-1176:\n",
      "Process ForkPoolWorker-1188:\n",
      "Process ForkPoolWorker-1187:\n",
      "Process ForkPoolWorker-1173:\n",
      "Process ForkPoolWorker-1177:\n",
      "Process ForkPoolWorker-1172:\n",
      "Process ForkPoolWorker-1182:\n",
      "Traceback (most recent call last):\n",
      "Process ForkPoolWorker-1183:\n",
      "Traceback (most recent call last):\n",
      "Process ForkPoolWorker-1205:\n",
      "Process ForkPoolWorker-1185:\n",
      "Process ForkPoolWorker-1200:\n",
      "Traceback (most recent call last):\n",
      "Process ForkPoolWorker-1206:\n",
      "Process ForkPoolWorker-1203:\n",
      "Process ForkPoolWorker-1210:\n",
      "Traceback (most recent call last):\n",
      "Traceback (most recent call last):\n",
      "Traceback (most recent call last):\n",
      "Process ForkPoolWorker-1186:\n",
      "Traceback (most recent call last):\n",
      "Traceback (most recent call last):\n",
      "Traceback (most recent call last):\n",
      "Traceback (most recent call last):\n",
      "Traceback (most recent call last):\n",
      "Traceback (most recent call last):\n",
      "Traceback (most recent call last):\n",
      "Traceback (most recent call last):\n",
      "Traceback (most recent call last):\n",
      "Traceback (most recent call last):\n",
      "Traceback (most recent call last):\n",
      "Traceback (most recent call last):\n",
      "Traceback (most recent call last):\n",
      "Traceback (most recent call last):\n",
      "  File \"/usr/lib64/python3.6/multiprocessing/process.py\", line 258, in _bootstrap\n",
      "    self.run()\n",
      "Traceback (most recent call last):\n",
      "Traceback (most recent call last):\n",
      "Traceback (most recent call last):\n",
      "Traceback (most recent call last):\n",
      "Traceback (most recent call last):\n",
      "Traceback (most recent call last):\n",
      "Traceback (most recent call last):\n",
      "Traceback (most recent call last):\n",
      "  File \"/usr/lib64/python3.6/multiprocessing/process.py\", line 258, in _bootstrap\n",
      "    self.run()\n",
      "Traceback (most recent call last):\n",
      "Traceback (most recent call last):\n",
      "Traceback (most recent call last):\n",
      "Traceback (most recent call last):\n",
      "Traceback (most recent call last):\n",
      "  File \"/usr/lib64/python3.6/multiprocessing/process.py\", line 258, in _bootstrap\n",
      "    self.run()\n",
      "  File \"/usr/lib64/python3.6/multiprocessing/process.py\", line 258, in _bootstrap\n",
      "    self.run()\n",
      "  File \"/usr/lib64/python3.6/multiprocessing/process.py\", line 258, in _bootstrap\n",
      "    self.run()\n",
      "  File \"/usr/lib64/python3.6/multiprocessing/process.py\", line 258, in _bootstrap\n",
      "    self.run()\n",
      "  File \"/usr/lib64/python3.6/multiprocessing/process.py\", line 258, in _bootstrap\n",
      "    self.run()\n",
      "  File \"/usr/lib64/python3.6/multiprocessing/process.py\", line 258, in _bootstrap\n",
      "    self.run()\n",
      "  File \"/usr/lib64/python3.6/multiprocessing/process.py\", line 258, in _bootstrap\n",
      "    self.run()\n",
      "  File \"/usr/lib64/python3.6/multiprocessing/process.py\", line 258, in _bootstrap\n",
      "    self.run()\n",
      "  File \"/usr/lib64/python3.6/multiprocessing/process.py\", line 258, in _bootstrap\n",
      "    self.run()\n",
      "  File \"/usr/lib64/python3.6/multiprocessing/process.py\", line 258, in _bootstrap\n",
      "    self.run()\n",
      "  File \"/usr/lib64/python3.6/multiprocessing/process.py\", line 258, in _bootstrap\n",
      "    self.run()\n",
      "  File \"/usr/lib64/python3.6/multiprocessing/process.py\", line 258, in _bootstrap\n",
      "    self.run()\n",
      "  File \"/usr/lib64/python3.6/multiprocessing/process.py\", line 258, in _bootstrap\n",
      "    self.run()\n",
      "  File \"/usr/lib64/python3.6/multiprocessing/process.py\", line 258, in _bootstrap\n",
      "    self.run()\n",
      "  File \"/usr/lib64/python3.6/multiprocessing/process.py\", line 258, in _bootstrap\n",
      "    self.run()\n",
      "Traceback (most recent call last):\n",
      "Traceback (most recent call last):\n",
      "  File \"/usr/lib64/python3.6/multiprocessing/process.py\", line 258, in _bootstrap\n",
      "    self.run()\n",
      "  File \"/usr/lib64/python3.6/multiprocessing/process.py\", line 258, in _bootstrap\n",
      "    self.run()\n",
      "  File \"/usr/lib64/python3.6/multiprocessing/process.py\", line 258, in _bootstrap\n",
      "    self.run()\n",
      "  File \"/usr/lib64/python3.6/multiprocessing/process.py\", line 93, in run\n",
      "    self._target(*self._args, **self._kwargs)\n",
      "  File \"/usr/lib64/python3.6/multiprocessing/process.py\", line 258, in _bootstrap\n",
      "    self.run()\n",
      "  File \"/usr/lib64/python3.6/multiprocessing/process.py\", line 258, in _bootstrap\n",
      "    self.run()\n",
      "  File \"/usr/lib64/python3.6/multiprocessing/process.py\", line 258, in _bootstrap\n",
      "    self.run()\n",
      "  File \"/usr/lib64/python3.6/multiprocessing/process.py\", line 258, in _bootstrap\n",
      "    self.run()\n",
      "  File \"/usr/lib64/python3.6/multiprocessing/process.py\", line 93, in run\n",
      "    self._target(*self._args, **self._kwargs)\n",
      "  File \"/usr/lib64/python3.6/multiprocessing/process.py\", line 93, in run\n",
      "    self._target(*self._args, **self._kwargs)\n",
      "  File \"/usr/lib64/python3.6/multiprocessing/process.py\", line 258, in _bootstrap\n",
      "    self.run()\n",
      "Traceback (most recent call last):\n",
      "  File \"/usr/lib64/python3.6/multiprocessing/process.py\", line 258, in _bootstrap\n",
      "    self.run()\n",
      "  File \"/usr/lib64/python3.6/multiprocessing/process.py\", line 93, in run\n",
      "    self._target(*self._args, **self._kwargs)\n",
      "  File \"/usr/lib64/python3.6/multiprocessing/process.py\", line 258, in _bootstrap\n",
      "    self.run()\n",
      "  File \"/usr/lib64/python3.6/multiprocessing/process.py\", line 258, in _bootstrap\n",
      "    self.run()\n",
      "  File \"/usr/lib64/python3.6/multiprocessing/process.py\", line 258, in _bootstrap\n",
      "    self.run()\n",
      "  File \"/usr/lib64/python3.6/multiprocessing/process.py\", line 258, in _bootstrap\n",
      "    self.run()\n",
      "  File \"/usr/lib64/python3.6/multiprocessing/process.py\", line 258, in _bootstrap\n",
      "    self.run()\n",
      "  File \"/usr/lib64/python3.6/multiprocessing/process.py\", line 258, in _bootstrap\n",
      "    self.run()\n",
      "  File \"/usr/lib64/python3.6/multiprocessing/process.py\", line 258, in _bootstrap\n",
      "    self.run()\n",
      "Traceback (most recent call last):\n",
      "  File \"/usr/lib64/python3.6/multiprocessing/process.py\", line 258, in _bootstrap\n",
      "    self.run()\n",
      "  File \"/usr/lib64/python3.6/multiprocessing/process.py\", line 93, in run\n",
      "    self._target(*self._args, **self._kwargs)\n",
      "Traceback (most recent call last):\n",
      "  File \"/usr/lib64/python3.6/multiprocessing/process.py\", line 258, in _bootstrap\n",
      "    self.run()\n",
      "  File \"/usr/lib64/python3.6/multiprocessing/process.py\", line 93, in run\n",
      "    self._target(*self._args, **self._kwargs)\n",
      "  File \"/usr/lib64/python3.6/multiprocessing/process.py\", line 93, in run\n",
      "    self._target(*self._args, **self._kwargs)\n",
      "  File \"/usr/lib64/python3.6/multiprocessing/pool.py\", line 108, in worker\n",
      "    task = get()\n",
      "  File \"/usr/lib64/python3.6/multiprocessing/process.py\", line 93, in run\n",
      "    self._target(*self._args, **self._kwargs)\n",
      "  File \"/usr/lib64/python3.6/multiprocessing/process.py\", line 93, in run\n",
      "    self._target(*self._args, **self._kwargs)\n",
      "  File \"/usr/lib64/python3.6/multiprocessing/process.py\", line 93, in run\n",
      "    self._target(*self._args, **self._kwargs)\n"
     ]
    },
    {
     "ename": "KeyboardInterrupt",
     "evalue": "",
     "output_type": "error",
     "traceback": [
      "\u001b[0;31m---------------------------------------------------------------------------\u001b[0m",
      "\u001b[0;31mKeyboardInterrupt\u001b[0m                         Traceback (most recent call last)",
      "\u001b[0;32m<ipython-input-39-745288d8b15c>\u001b[0m in \u001b[0;36m<module>\u001b[0;34m\u001b[0m\n\u001b[1;32m      2\u001b[0m                                   \u001b[0mchoice_set_type\u001b[0m\u001b[0;34m,\u001b[0m \u001b[0mk\u001b[0m\u001b[0;34m,\u001b[0m\u001b[0;34m\u001b[0m\u001b[0;34m\u001b[0m\u001b[0m\n\u001b[1;32m      3\u001b[0m                                  \u001b[0malpha\u001b[0m\u001b[0;34m,\u001b[0m \u001b[0mepsilon\u001b[0m\u001b[0;34m,\u001b[0m \u001b[0mtau\u001b[0m\u001b[0;34m,\u001b[0m \u001b[0mlams\u001b[0m\u001b[0;34m,\u001b[0m\u001b[0;34m\u001b[0m\u001b[0;34m\u001b[0m\u001b[0m\n\u001b[0;32m----> 4\u001b[0;31m                                  **params, herding=True)\n\u001b[0m\u001b[1;32m      5\u001b[0m est_stats_herding = sim_wrapper.calc_all_ests_stats(\"sample\", T_start, T_end, \n\u001b[1;32m      6\u001b[0m                                             \u001b[0mn_listings\u001b[0m\u001b[0;34m,\u001b[0m \u001b[0mtau\u001b[0m\u001b[0;34m=\u001b[0m\u001b[0mtau\u001b[0m\u001b[0;34m,\u001b[0m\u001b[0;34m\u001b[0m\u001b[0;34m\u001b[0m\u001b[0m\n",
      "\u001b[0;32m~/herding-bias/finite_sim_wrapper.py\u001b[0m in \u001b[0;36mrun_all_sims\u001b[0;34m(n_runs, n_listings, T_start, T_end, choice_set_type, k, alpha, epsilon, tau, lams, a_Cs, a_Ls, cr_weights, cr_params, lr_params, tsr_fixed_params, tsr_opt_params, cr_a_C, lr_a_L, tsr_ac_al_values, herding)\u001b[0m\n\u001b[1;32m    422\u001b[0m                                                     \u001b[0ma_C\u001b[0m\u001b[0;34m=\u001b[0m\u001b[0ma_Cs\u001b[0m\u001b[0;34m[\u001b[0m\u001b[0mlam\u001b[0m\u001b[0;34m]\u001b[0m\u001b[0;34m,\u001b[0m \u001b[0ma_L\u001b[0m\u001b[0;34m=\u001b[0m\u001b[0ma_Ls\u001b[0m\u001b[0;34m[\u001b[0m\u001b[0mlam\u001b[0m\u001b[0;34m]\u001b[0m\u001b[0;34m,\u001b[0m\u001b[0;34m\u001b[0m\u001b[0;34m\u001b[0m\u001b[0m\n\u001b[1;32m    423\u001b[0m                                                     \u001b[0mtsr_est_types\u001b[0m\u001b[0;34m=\u001b[0m\u001b[0mtsr_est_types\u001b[0m\u001b[0;34m,\u001b[0m\u001b[0;34m\u001b[0m\u001b[0;34m\u001b[0m\u001b[0m\n\u001b[0;32m--> 424\u001b[0;31m                                                 cr_weight=cr_weights[lam], herding=herding)\n\u001b[0m\u001b[1;32m    425\u001b[0m \u001b[0;34m\u001b[0m\u001b[0m\n\u001b[1;32m    426\u001b[0m \u001b[0;34m\u001b[0m\u001b[0m\n",
      "\u001b[0;32m~/herding-bias/finite_sim_wrapper.py\u001b[0m in \u001b[0;36mmult_runs_events\u001b[0;34m(choice_type, k, exp_type, exp_param, tau, alpha, epsilon, n_runs, n_listings, T_start, T_end, a_C, a_L, tsr_est_types, cr_weight, num_threads, herding)\u001b[0m\n\u001b[1;32m     67\u001b[0m                     \u001b[0mT_end\u001b[0m\u001b[0;34m,\u001b[0m \u001b[0mexp_param\u001b[0m\u001b[0;34m[\u001b[0m\u001b[0;34m'thetas_exp'\u001b[0m\u001b[0;34m]\u001b[0m\u001b[0;34m,\u001b[0m\u001b[0;34m\u001b[0m\u001b[0;34m\u001b[0m\u001b[0m\n\u001b[1;32m     68\u001b[0m                     \u001b[0mexp_param\u001b[0m\u001b[0;34m[\u001b[0m\u001b[0;34m'gammas_exp'\u001b[0m\u001b[0;34m]\u001b[0m\u001b[0;34m,\u001b[0m \u001b[0mexp_param\u001b[0m\u001b[0;34m[\u001b[0m\u001b[0;34m'v_gammas_exp'\u001b[0m\u001b[0;34m]\u001b[0m\u001b[0;34m,\u001b[0m\u001b[0;34m\u001b[0m\u001b[0;34m\u001b[0m\u001b[0m\n\u001b[0;32m---> 69\u001b[0;31m                     tau, exp_param['lam_gammas_exp'], alpha, epsilon, herding=herding), range(n_runs)):\n\u001b[0m\u001b[1;32m     70\u001b[0m         \u001b[0;32mif\u001b[0m \u001b[0mexp_type\u001b[0m\u001b[0;34m==\u001b[0m\u001b[0;34m\"cr\"\u001b[0m\u001b[0;34m:\u001b[0m\u001b[0;34m\u001b[0m\u001b[0;34m\u001b[0m\u001b[0m\n\u001b[1;32m     71\u001b[0m             \u001b[0mevents\u001b[0m\u001b[0;34m[\u001b[0m\u001b[0;34m'cr'\u001b[0m\u001b[0;34m]\u001b[0m\u001b[0;34m.\u001b[0m\u001b[0mappend\u001b[0m\u001b[0;34m(\u001b[0m\u001b[0;34m[\u001b[0m\u001b[0mevents_one_run\u001b[0m\u001b[0;34m[\u001b[0m\u001b[0;34m'events'\u001b[0m\u001b[0;34m]\u001b[0m\u001b[0;34m]\u001b[0m\u001b[0;34m)\u001b[0m\u001b[0;34m\u001b[0m\u001b[0;34m\u001b[0m\u001b[0m\n",
      "\u001b[0;32m/usr/lib64/python3.6/multiprocessing/pool.py\u001b[0m in \u001b[0;36mmap\u001b[0;34m(self, func, iterable, chunksize)\u001b[0m\n\u001b[1;32m    264\u001b[0m         \u001b[0;32min\u001b[0m \u001b[0ma\u001b[0m \u001b[0mlist\u001b[0m \u001b[0mthat\u001b[0m \u001b[0;32mis\u001b[0m \u001b[0mreturned\u001b[0m\u001b[0;34m.\u001b[0m\u001b[0;34m\u001b[0m\u001b[0;34m\u001b[0m\u001b[0m\n\u001b[1;32m    265\u001b[0m         '''\n\u001b[0;32m--> 266\u001b[0;31m         \u001b[0;32mreturn\u001b[0m \u001b[0mself\u001b[0m\u001b[0;34m.\u001b[0m\u001b[0m_map_async\u001b[0m\u001b[0;34m(\u001b[0m\u001b[0mfunc\u001b[0m\u001b[0;34m,\u001b[0m \u001b[0miterable\u001b[0m\u001b[0;34m,\u001b[0m \u001b[0mmapstar\u001b[0m\u001b[0;34m,\u001b[0m \u001b[0mchunksize\u001b[0m\u001b[0;34m)\u001b[0m\u001b[0;34m.\u001b[0m\u001b[0mget\u001b[0m\u001b[0;34m(\u001b[0m\u001b[0;34m)\u001b[0m\u001b[0;34m\u001b[0m\u001b[0;34m\u001b[0m\u001b[0m\n\u001b[0m\u001b[1;32m    267\u001b[0m \u001b[0;34m\u001b[0m\u001b[0m\n\u001b[1;32m    268\u001b[0m     \u001b[0;32mdef\u001b[0m \u001b[0mstarmap\u001b[0m\u001b[0;34m(\u001b[0m\u001b[0mself\u001b[0m\u001b[0;34m,\u001b[0m \u001b[0mfunc\u001b[0m\u001b[0;34m,\u001b[0m \u001b[0miterable\u001b[0m\u001b[0;34m,\u001b[0m \u001b[0mchunksize\u001b[0m\u001b[0;34m=\u001b[0m\u001b[0;32mNone\u001b[0m\u001b[0;34m)\u001b[0m\u001b[0;34m:\u001b[0m\u001b[0;34m\u001b[0m\u001b[0;34m\u001b[0m\u001b[0m\n",
      "\u001b[0;32m/usr/lib64/python3.6/multiprocessing/pool.py\u001b[0m in \u001b[0;36mget\u001b[0;34m(self, timeout)\u001b[0m\n\u001b[1;32m    636\u001b[0m \u001b[0;34m\u001b[0m\u001b[0m\n\u001b[1;32m    637\u001b[0m     \u001b[0;32mdef\u001b[0m \u001b[0mget\u001b[0m\u001b[0;34m(\u001b[0m\u001b[0mself\u001b[0m\u001b[0;34m,\u001b[0m \u001b[0mtimeout\u001b[0m\u001b[0;34m=\u001b[0m\u001b[0;32mNone\u001b[0m\u001b[0;34m)\u001b[0m\u001b[0;34m:\u001b[0m\u001b[0;34m\u001b[0m\u001b[0;34m\u001b[0m\u001b[0m\n\u001b[0;32m--> 638\u001b[0;31m         \u001b[0mself\u001b[0m\u001b[0;34m.\u001b[0m\u001b[0mwait\u001b[0m\u001b[0;34m(\u001b[0m\u001b[0mtimeout\u001b[0m\u001b[0;34m)\u001b[0m\u001b[0;34m\u001b[0m\u001b[0;34m\u001b[0m\u001b[0m\n\u001b[0m\u001b[1;32m    639\u001b[0m         \u001b[0;32mif\u001b[0m \u001b[0;32mnot\u001b[0m \u001b[0mself\u001b[0m\u001b[0;34m.\u001b[0m\u001b[0mready\u001b[0m\u001b[0;34m(\u001b[0m\u001b[0;34m)\u001b[0m\u001b[0;34m:\u001b[0m\u001b[0;34m\u001b[0m\u001b[0;34m\u001b[0m\u001b[0m\n\u001b[1;32m    640\u001b[0m             \u001b[0;32mraise\u001b[0m \u001b[0mTimeoutError\u001b[0m\u001b[0;34m\u001b[0m\u001b[0;34m\u001b[0m\u001b[0m\n",
      "\u001b[0;32m/usr/lib64/python3.6/multiprocessing/pool.py\u001b[0m in \u001b[0;36mwait\u001b[0;34m(self, timeout)\u001b[0m\n\u001b[1;32m    633\u001b[0m \u001b[0;34m\u001b[0m\u001b[0m\n\u001b[1;32m    634\u001b[0m     \u001b[0;32mdef\u001b[0m \u001b[0mwait\u001b[0m\u001b[0;34m(\u001b[0m\u001b[0mself\u001b[0m\u001b[0;34m,\u001b[0m \u001b[0mtimeout\u001b[0m\u001b[0;34m=\u001b[0m\u001b[0;32mNone\u001b[0m\u001b[0;34m)\u001b[0m\u001b[0;34m:\u001b[0m\u001b[0;34m\u001b[0m\u001b[0;34m\u001b[0m\u001b[0m\n\u001b[0;32m--> 635\u001b[0;31m         \u001b[0mself\u001b[0m\u001b[0;34m.\u001b[0m\u001b[0m_event\u001b[0m\u001b[0;34m.\u001b[0m\u001b[0mwait\u001b[0m\u001b[0;34m(\u001b[0m\u001b[0mtimeout\u001b[0m\u001b[0;34m)\u001b[0m\u001b[0;34m\u001b[0m\u001b[0;34m\u001b[0m\u001b[0m\n\u001b[0m\u001b[1;32m    636\u001b[0m \u001b[0;34m\u001b[0m\u001b[0m\n\u001b[1;32m    637\u001b[0m     \u001b[0;32mdef\u001b[0m \u001b[0mget\u001b[0m\u001b[0;34m(\u001b[0m\u001b[0mself\u001b[0m\u001b[0;34m,\u001b[0m \u001b[0mtimeout\u001b[0m\u001b[0;34m=\u001b[0m\u001b[0;32mNone\u001b[0m\u001b[0;34m)\u001b[0m\u001b[0;34m:\u001b[0m\u001b[0;34m\u001b[0m\u001b[0;34m\u001b[0m\u001b[0m\n",
      "\u001b[0;32m/usr/lib64/python3.6/threading.py\u001b[0m in \u001b[0;36mwait\u001b[0;34m(self, timeout)\u001b[0m\n\u001b[1;32m    549\u001b[0m             \u001b[0msignaled\u001b[0m \u001b[0;34m=\u001b[0m \u001b[0mself\u001b[0m\u001b[0;34m.\u001b[0m\u001b[0m_flag\u001b[0m\u001b[0;34m\u001b[0m\u001b[0;34m\u001b[0m\u001b[0m\n\u001b[1;32m    550\u001b[0m             \u001b[0;32mif\u001b[0m \u001b[0;32mnot\u001b[0m \u001b[0msignaled\u001b[0m\u001b[0;34m:\u001b[0m\u001b[0;34m\u001b[0m\u001b[0;34m\u001b[0m\u001b[0m\n\u001b[0;32m--> 551\u001b[0;31m                 \u001b[0msignaled\u001b[0m \u001b[0;34m=\u001b[0m \u001b[0mself\u001b[0m\u001b[0;34m.\u001b[0m\u001b[0m_cond\u001b[0m\u001b[0;34m.\u001b[0m\u001b[0mwait\u001b[0m\u001b[0;34m(\u001b[0m\u001b[0mtimeout\u001b[0m\u001b[0;34m)\u001b[0m\u001b[0;34m\u001b[0m\u001b[0;34m\u001b[0m\u001b[0m\n\u001b[0m\u001b[1;32m    552\u001b[0m             \u001b[0;32mreturn\u001b[0m \u001b[0msignaled\u001b[0m\u001b[0;34m\u001b[0m\u001b[0;34m\u001b[0m\u001b[0m\n\u001b[1;32m    553\u001b[0m \u001b[0;34m\u001b[0m\u001b[0m\n",
      "\u001b[0;32m/usr/lib64/python3.6/threading.py\u001b[0m in \u001b[0;36mwait\u001b[0;34m(self, timeout)\u001b[0m\n\u001b[1;32m    293\u001b[0m         \u001b[0;32mtry\u001b[0m\u001b[0;34m:\u001b[0m    \u001b[0;31m# restore state no matter what (e.g., KeyboardInterrupt)\u001b[0m\u001b[0;34m\u001b[0m\u001b[0;34m\u001b[0m\u001b[0m\n\u001b[1;32m    294\u001b[0m             \u001b[0;32mif\u001b[0m \u001b[0mtimeout\u001b[0m \u001b[0;32mis\u001b[0m \u001b[0;32mNone\u001b[0m\u001b[0;34m:\u001b[0m\u001b[0;34m\u001b[0m\u001b[0;34m\u001b[0m\u001b[0m\n\u001b[0;32m--> 295\u001b[0;31m                 \u001b[0mwaiter\u001b[0m\u001b[0;34m.\u001b[0m\u001b[0macquire\u001b[0m\u001b[0;34m(\u001b[0m\u001b[0;34m)\u001b[0m\u001b[0;34m\u001b[0m\u001b[0;34m\u001b[0m\u001b[0m\n\u001b[0m\u001b[1;32m    296\u001b[0m                 \u001b[0mgotit\u001b[0m \u001b[0;34m=\u001b[0m \u001b[0;32mTrue\u001b[0m\u001b[0;34m\u001b[0m\u001b[0;34m\u001b[0m\u001b[0m\n\u001b[1;32m    297\u001b[0m             \u001b[0;32melse\u001b[0m\u001b[0;34m:\u001b[0m\u001b[0;34m\u001b[0m\u001b[0;34m\u001b[0m\u001b[0m\n",
      "\u001b[0;31mKeyboardInterrupt\u001b[0m: "
     ]
    },
    {
     "name": "stderr",
     "output_type": "stream",
     "text": [
      "  File \"/usr/lib64/python3.6/multiprocessing/process.py\", line 93, in run\n",
      "    self._target(*self._args, **self._kwargs)\n",
      "  File \"/usr/lib64/python3.6/multiprocessing/process.py\", line 93, in run\n",
      "    self._target(*self._args, **self._kwargs)\n",
      "  File \"/usr/lib64/python3.6/multiprocessing/process.py\", line 93, in run\n",
      "    self._target(*self._args, **self._kwargs)\n",
      "  File \"/usr/lib64/python3.6/multiprocessing/process.py\", line 93, in run\n",
      "    self._target(*self._args, **self._kwargs)\n",
      "  File \"/usr/lib64/python3.6/multiprocessing/process.py\", line 258, in _bootstrap\n",
      "    self.run()\n",
      "  File \"/usr/lib64/python3.6/multiprocessing/process.py\", line 93, in run\n",
      "    self._target(*self._args, **self._kwargs)\n",
      "Traceback (most recent call last):\n",
      "  File \"/usr/lib64/python3.6/multiprocessing/process.py\", line 93, in run\n",
      "    self._target(*self._args, **self._kwargs)\n",
      "  File \"/usr/lib64/python3.6/multiprocessing/process.py\", line 93, in run\n",
      "    self._target(*self._args, **self._kwargs)\n",
      "Traceback (most recent call last):\n",
      "  File \"/usr/lib64/python3.6/multiprocessing/process.py\", line 93, in run\n",
      "    self._target(*self._args, **self._kwargs)\n",
      "  File \"/usr/lib64/python3.6/multiprocessing/process.py\", line 93, in run\n",
      "    self._target(*self._args, **self._kwargs)\n",
      "  File \"/usr/lib64/python3.6/multiprocessing/process.py\", line 93, in run\n",
      "    self._target(*self._args, **self._kwargs)\n",
      "  File \"/usr/lib64/python3.6/multiprocessing/process.py\", line 258, in _bootstrap\n",
      "    self.run()\n",
      "  File \"/usr/lib64/python3.6/multiprocessing/pool.py\", line 119, in worker\n",
      "    result = (True, func(*args, **kwds))\n",
      "  File \"/usr/lib64/python3.6/multiprocessing/pool.py\", line 108, in worker\n",
      "    task = get()\n",
      "  File \"/usr/lib64/python3.6/multiprocessing/process.py\", line 93, in run\n",
      "    self._target(*self._args, **self._kwargs)\n",
      "  File \"/usr/lib64/python3.6/multiprocessing/process.py\", line 93, in run\n",
      "    self._target(*self._args, **self._kwargs)\n",
      "  File \"/usr/lib64/python3.6/multiprocessing/process.py\", line 93, in run\n",
      "    self._target(*self._args, **self._kwargs)\n",
      "  File \"/usr/lib64/python3.6/multiprocessing/process.py\", line 93, in run\n",
      "    self._target(*self._args, **self._kwargs)\n",
      "  File \"/usr/lib64/python3.6/multiprocessing/process.py\", line 93, in run\n",
      "    self._target(*self._args, **self._kwargs)\n",
      "  File \"/usr/lib64/python3.6/multiprocessing/process.py\", line 93, in run\n",
      "    self._target(*self._args, **self._kwargs)\n",
      "  File \"/usr/lib64/python3.6/multiprocessing/process.py\", line 93, in run\n",
      "    self._target(*self._args, **self._kwargs)\n",
      "  File \"/usr/lib64/python3.6/multiprocessing/process.py\", line 93, in run\n",
      "    self._target(*self._args, **self._kwargs)\n",
      "  File \"/usr/lib64/python3.6/multiprocessing/process.py\", line 93, in run\n",
      "    self._target(*self._args, **self._kwargs)\n",
      "  File \"/usr/lib64/python3.6/multiprocessing/process.py\", line 93, in run\n",
      "    self._target(*self._args, **self._kwargs)\n",
      "  File \"/usr/lib64/python3.6/multiprocessing/process.py\", line 258, in _bootstrap\n",
      "    self.run()\n",
      "  File \"/usr/lib64/python3.6/multiprocessing/process.py\", line 93, in run\n",
      "    self._target(*self._args, **self._kwargs)\n",
      "  File \"/usr/lib64/python3.6/multiprocessing/process.py\", line 93, in run\n",
      "    self._target(*self._args, **self._kwargs)\n",
      "  File \"/usr/lib64/python3.6/multiprocessing/pool.py\", line 44, in mapstar\n",
      "    return list(map(*args))\n",
      "  File \"/usr/lib64/python3.6/multiprocessing/process.py\", line 93, in run\n",
      "    self._target(*self._args, **self._kwargs)\n",
      "  File \"/usr/lib64/python3.6/multiprocessing/process.py\", line 258, in _bootstrap\n",
      "    self.run()\n",
      "  File \"/usr/lib64/python3.6/multiprocessing/process.py\", line 93, in run\n",
      "    self._target(*self._args, **self._kwargs)\n",
      "  File \"/usr/lib64/python3.6/multiprocessing/process.py\", line 93, in run\n",
      "    self._target(*self._args, **self._kwargs)\n",
      "  File \"/usr/lib64/python3.6/multiprocessing/queues.py\", line 334, in get\n",
      "    with self._rlock:\n",
      "  File \"/usr/lib64/python3.6/multiprocessing/pool.py\", line 119, in worker\n",
      "    result = (True, func(*args, **kwds))\n",
      "  File \"/usr/lib64/python3.6/multiprocessing/pool.py\", line 119, in worker\n",
      "    result = (True, func(*args, **kwds))\n",
      "  File \"/usr/lib64/python3.6/multiprocessing/pool.py\", line 108, in worker\n",
      "    task = get()\n",
      "  File \"/usr/lib64/python3.6/multiprocessing/process.py\", line 258, in _bootstrap\n",
      "    self.run()\n",
      "  File \"/usr/lib64/python3.6/multiprocessing/process.py\", line 93, in run\n",
      "    self._target(*self._args, **self._kwargs)\n",
      "  File \"/usr/lib64/python3.6/multiprocessing/process.py\", line 258, in _bootstrap\n",
      "    self.run()\n",
      "  File \"/usr/lib64/python3.6/multiprocessing/pool.py\", line 108, in worker\n",
      "    task = get()\n",
      "  File \"/usr/lib64/python3.6/multiprocessing/pool.py\", line 108, in worker\n",
      "    task = get()\n",
      "  File \"/usr/lib64/python3.6/multiprocessing/pool.py\", line 108, in worker\n",
      "    task = get()\n",
      "  File \"/usr/lib64/python3.6/multiprocessing/pool.py\", line 119, in worker\n",
      "    result = (True, func(*args, **kwds))\n",
      "Traceback (most recent call last):\n",
      "Traceback (most recent call last):\n",
      "  File \"/usr/lib64/python3.6/multiprocessing/pool.py\", line 108, in worker\n",
      "    task = get()\n",
      "  File \"/usr/lib64/python3.6/multiprocessing/pool.py\", line 119, in worker\n",
      "    result = (True, func(*args, **kwds))\n",
      "  File \"/usr/lib64/python3.6/multiprocessing/pool.py\", line 108, in worker\n",
      "    task = get()\n",
      "  File \"/usr/lib64/python3.6/multiprocessing/pool.py\", line 108, in worker\n",
      "    task = get()\n",
      "  File \"/usr/lib64/python3.6/multiprocessing/pool.py\", line 108, in worker\n",
      "    task = get()\n",
      "  File \"/usr/lib64/python3.6/multiprocessing/process.py\", line 258, in _bootstrap\n",
      "    self.run()\n",
      "  File \"/usr/lib64/python3.6/multiprocessing/pool.py\", line 108, in worker\n",
      "    task = get()\n",
      "  File \"/usr/lib64/python3.6/multiprocessing/pool.py\", line 108, in worker\n",
      "    task = get()\n",
      "  File \"/usr/lib64/python3.6/multiprocessing/queues.py\", line 334, in get\n",
      "    with self._rlock:\n",
      "  File \"/usr/lib64/python3.6/multiprocessing/pool.py\", line 108, in worker\n",
      "    task = get()\n",
      "  File \"/usr/lib64/python3.6/multiprocessing/pool.py\", line 108, in worker\n",
      "    task = get()\n",
      "  File \"/usr/lib64/python3.6/multiprocessing/pool.py\", line 108, in worker\n",
      "    task = get()\n",
      "  File \"/usr/lib64/python3.6/multiprocessing/pool.py\", line 108, in worker\n",
      "    task = get()\n",
      "  File \"/usr/lib64/python3.6/multiprocessing/pool.py\", line 108, in worker\n",
      "    task = get()\n",
      "  File \"/usr/lib64/python3.6/multiprocessing/pool.py\", line 119, in worker\n",
      "    result = (True, func(*args, **kwds))\n",
      "  File \"/usr/lib64/python3.6/multiprocessing/pool.py\", line 119, in worker\n",
      "    result = (True, func(*args, **kwds))\n",
      "  File \"/usr/lib64/python3.6/multiprocessing/pool.py\", line 108, in worker\n",
      "    task = get()\n",
      "  File \"/usr/lib64/python3.6/multiprocessing/process.py\", line 93, in run\n",
      "    self._target(*self._args, **self._kwargs)\n",
      "  File \"/usr/lib64/python3.6/multiprocessing/pool.py\", line 119, in worker\n",
      "    result = (True, func(*args, **kwds))\n",
      "  File \"/usr/lib64/python3.6/multiprocessing/pool.py\", line 108, in worker\n",
      "    task = get()\n",
      "  File \"/usr/lib64/python3.6/multiprocessing/pool.py\", line 119, in worker\n",
      "    result = (True, func(*args, **kwds))\n",
      "  File \"/usr/lib64/python3.6/multiprocessing/process.py\", line 93, in run\n",
      "    self._target(*self._args, **self._kwargs)\n",
      "  File \"/usr/lib64/python3.6/multiprocessing/process.py\", line 93, in run\n",
      "    self._target(*self._args, **self._kwargs)\n",
      "  File \"/usr/lib64/python3.6/multiprocessing/synchronize.py\", line 95, in __enter__\n",
      "    return self._semlock.__enter__()\n",
      "  File \"/usr/lib64/python3.6/multiprocessing/pool.py\", line 108, in worker\n",
      "    task = get()\n",
      "  File \"/usr/lib64/python3.6/multiprocessing/pool.py\", line 119, in worker\n",
      "    result = (True, func(*args, **kwds))\n",
      "  File \"/usr/lib64/python3.6/multiprocessing/pool.py\", line 108, in worker\n",
      "    task = get()\n",
      "  File \"/usr/lib64/python3.6/multiprocessing/pool.py\", line 44, in mapstar\n",
      "    return list(map(*args))\n",
      "  File \"/usr/lib64/python3.6/multiprocessing/queues.py\", line 334, in get\n",
      "    with self._rlock:\n",
      "  File \"/usr/lib64/python3.6/multiprocessing/process.py\", line 93, in run\n",
      "    self._target(*self._args, **self._kwargs)\n",
      "  File \"/usr/lib64/python3.6/multiprocessing/pool.py\", line 108, in worker\n",
      "    task = get()\n",
      "  File \"/usr/lib64/python3.6/multiprocessing/pool.py\", line 44, in mapstar\n",
      "    return list(map(*args))\n"
     ]
    },
    {
     "name": "stderr",
     "output_type": "stream",
     "text": [
      "  File \"/usr/lib64/python3.6/multiprocessing/pool.py\", line 119, in worker\n",
      "    result = (True, func(*args, **kwds))\n",
      "  File \"/usr/lib64/python3.6/multiprocessing/pool.py\", line 119, in worker\n",
      "    result = (True, func(*args, **kwds))\n",
      "  File \"/usr/lib64/python3.6/multiprocessing/queues.py\", line 334, in get\n",
      "    with self._rlock:\n",
      "  File \"/usr/lib64/python3.6/multiprocessing/pool.py\", line 44, in mapstar\n",
      "    return list(map(*args))\n",
      "  File \"/usr/lib64/python3.6/multiprocessing/pool.py\", line 108, in worker\n",
      "    task = get()\n",
      "  File \"/home/jhays/herding-bias/finite_sim.py\", line 188, in run_mc_listing_ids\n",
      "    thetas, gammas, tau, lam_gammas)\n",
      "  File \"/usr/lib64/python3.6/multiprocessing/process.py\", line 93, in run\n",
      "    self._target(*self._args, **self._kwargs)\n",
      "  File \"/usr/lib64/python3.6/multiprocessing/queues.py\", line 334, in get\n",
      "    with self._rlock:\n",
      "  File \"/usr/lib64/python3.6/multiprocessing/process.py\", line 258, in _bootstrap\n",
      "    self.run()\n",
      "  File \"/usr/lib64/python3.6/multiprocessing/queues.py\", line 334, in get\n",
      "    with self._rlock:\n",
      "  File \"/usr/lib64/python3.6/multiprocessing/queues.py\", line 334, in get\n",
      "    with self._rlock:\n",
      "  File \"/usr/lib64/python3.6/multiprocessing/pool.py\", line 44, in mapstar\n",
      "    return list(map(*args))\n",
      "  File \"/usr/lib64/python3.6/multiprocessing/queues.py\", line 334, in get\n",
      "    with self._rlock:\n",
      "  File \"/usr/lib64/python3.6/multiprocessing/queues.py\", line 334, in get\n",
      "    with self._rlock:\n",
      "  File \"/usr/lib64/python3.6/multiprocessing/queues.py\", line 334, in get\n",
      "    with self._rlock:\n",
      "  File \"/usr/lib64/python3.6/multiprocessing/queues.py\", line 334, in get\n",
      "    with self._rlock:\n",
      "  File \"/usr/lib64/python3.6/multiprocessing/pool.py\", line 108, in worker\n",
      "    task = get()\n",
      "  File \"/usr/lib64/python3.6/multiprocessing/queues.py\", line 334, in get\n",
      "    with self._rlock:\n",
      "  File \"/usr/lib64/python3.6/multiprocessing/process.py\", line 93, in run\n",
      "    self._target(*self._args, **self._kwargs)\n",
      "  File \"/usr/lib64/python3.6/multiprocessing/process.py\", line 258, in _bootstrap\n",
      "    self.run()\n",
      "  File \"/usr/lib64/python3.6/multiprocessing/queues.py\", line 334, in get\n",
      "    with self._rlock:\n",
      "  File \"/usr/lib64/python3.6/multiprocessing/pool.py\", line 119, in worker\n",
      "    result = (True, func(*args, **kwds))\n",
      "  File \"/usr/lib64/python3.6/multiprocessing/pool.py\", line 44, in mapstar\n",
      "    return list(map(*args))\n",
      "KeyboardInterrupt\n",
      "  File \"/usr/lib64/python3.6/multiprocessing/pool.py\", line 44, in mapstar\n",
      "    return list(map(*args))\n",
      "  File \"/usr/lib64/python3.6/multiprocessing/queues.py\", line 334, in get\n",
      "    with self._rlock:\n",
      "  File \"/usr/lib64/python3.6/multiprocessing/pool.py\", line 119, in worker\n",
      "    result = (True, func(*args, **kwds))\n",
      "  File \"/usr/lib64/python3.6/multiprocessing/pool.py\", line 119, in worker\n",
      "    result = (True, func(*args, **kwds))\n",
      "  File \"/usr/lib64/python3.6/multiprocessing/queues.py\", line 334, in get\n",
      "    with self._rlock:\n",
      "  File \"/usr/lib64/python3.6/multiprocessing/queues.py\", line 335, in get\n",
      "    res = self._reader.recv_bytes()\n",
      "  File \"/usr/lib64/python3.6/multiprocessing/synchronize.py\", line 95, in __enter__\n",
      "    return self._semlock.__enter__()\n",
      "  File \"/usr/lib64/python3.6/multiprocessing/queues.py\", line 334, in get\n",
      "    with self._rlock:\n",
      "  File \"/usr/lib64/python3.6/multiprocessing/queues.py\", line 334, in get\n",
      "    with self._rlock:\n",
      "  File \"/usr/lib64/python3.6/multiprocessing/queues.py\", line 334, in get\n",
      "    with self._rlock:\n",
      "  File \"/usr/lib64/python3.6/multiprocessing/queues.py\", line 334, in get\n",
      "    with self._rlock:\n",
      "  File \"/usr/lib64/python3.6/multiprocessing/pool.py\", line 44, in mapstar\n",
      "    return list(map(*args))\n",
      "  File \"/usr/lib64/python3.6/multiprocessing/pool.py\", line 44, in mapstar\n",
      "    return list(map(*args))\n",
      "  File \"/usr/lib64/python3.6/multiprocessing/queues.py\", line 334, in get\n",
      "    with self._rlock:\n",
      "  File \"/usr/lib64/python3.6/multiprocessing/pool.py\", line 44, in mapstar\n",
      "    return list(map(*args))\n",
      "  File \"/usr/lib64/python3.6/multiprocessing/pool.py\", line 119, in worker\n",
      "    result = (True, func(*args, **kwds))\n",
      "  File \"/usr/lib64/python3.6/multiprocessing/queues.py\", line 334, in get\n",
      "    with self._rlock:\n",
      "  File \"/home/jhays/herding-bias/finite_sim.py\", line 197, in run_mc_listing_ids\n",
      "    alpha, epsilon)\n",
      "  File \"/home/jhays/herding-bias/finite_sim.py\", line 56, in draw_next_event\n",
      "    rep_times[theta] = min(np.random.exponential(1/tau, num_booked))\n",
      "  File \"/usr/lib64/python3.6/multiprocessing/pool.py\", line 44, in mapstar\n",
      "    return list(map(*args))\n",
      "  File \"/home/jhays/herding-bias/finite_sim.py\", line 188, in run_mc_listing_ids\n",
      "    thetas, gammas, tau, lam_gammas)\n",
      "  File \"/usr/lib64/python3.6/multiprocessing/synchronize.py\", line 95, in __enter__\n",
      "    return self._semlock.__enter__()\n",
      "  File \"/usr/lib64/python3.6/multiprocessing/pool.py\", line 119, in worker\n",
      "    result = (True, func(*args, **kwds))\n",
      "  File \"/usr/lib64/python3.6/multiprocessing/synchronize.py\", line 95, in __enter__\n",
      "    return self._semlock.__enter__()\n",
      "  File \"/usr/lib64/python3.6/multiprocessing/queues.py\", line 334, in get\n",
      "    with self._rlock:\n",
      "  File \"/home/jhays/herding-bias/finite_sim.py\", line 210, in run_mc_listing_ids\n",
      "    listings_df.loc[the_chosen_one, 'available'] += 1\n",
      "  File \"/usr/lib64/python3.6/multiprocessing/synchronize.py\", line 95, in __enter__\n",
      "    return self._semlock.__enter__()\n",
      "  File \"/usr/lib64/python3.6/multiprocessing/pool.py\", line 44, in mapstar\n",
      "    return list(map(*args))\n",
      "  File \"/usr/lib64/python3.6/multiprocessing/synchronize.py\", line 95, in __enter__\n",
      "    return self._semlock.__enter__()\n",
      "  File \"/usr/lib64/python3.6/multiprocessing/queues.py\", line 334, in get\n",
      "    with self._rlock:\n",
      "  File \"/usr/lib64/python3.6/multiprocessing/pool.py\", line 119, in worker\n",
      "    result = (True, func(*args, **kwds))\n",
      "  File \"/usr/lib64/python3.6/multiprocessing/synchronize.py\", line 95, in __enter__\n",
      "    return self._semlock.__enter__()\n",
      "  File \"/usr/lib64/python3.6/multiprocessing/synchronize.py\", line 95, in __enter__\n",
      "    return self._semlock.__enter__()\n",
      "  File \"/usr/lib64/python3.6/multiprocessing/synchronize.py\", line 95, in __enter__\n",
      "    return self._semlock.__enter__()\n",
      "  File \"/usr/lib64/python3.6/multiprocessing/connection.py\", line 216, in recv_bytes\n",
      "    buf = self._recv_bytes(maxlength)\n",
      "  File \"/usr/lib64/python3.6/multiprocessing/synchronize.py\", line 95, in __enter__\n",
      "    return self._semlock.__enter__()\n",
      "  File \"/usr/lib64/python3.6/multiprocessing/process.py\", line 93, in run\n",
      "    self._target(*self._args, **self._kwargs)\n",
      "  File \"/usr/lib64/python3.6/multiprocessing/process.py\", line 93, in run\n",
      "    self._target(*self._args, **self._kwargs)\n",
      "  File \"/usr/lib64/python3.6/multiprocessing/synchronize.py\", line 95, in __enter__\n",
      "    return self._semlock.__enter__()\n",
      "  File \"/usr/lib64/python3.6/multiprocessing/synchronize.py\", line 95, in __enter__\n",
      "    return self._semlock.__enter__()\n",
      "  File \"/home/jhays/herding-bias/finite_sim.py\", line 197, in run_mc_listing_ids\n",
      "    alpha, epsilon)\n",
      "  File \"/usr/lib64/python3.6/multiprocessing/synchronize.py\", line 95, in __enter__\n",
      "    return self._semlock.__enter__()\n",
      "  File \"/usr/lib64/python3.6/multiprocessing/synchronize.py\", line 95, in __enter__\n",
      "    return self._semlock.__enter__()\n",
      "  File \"/home/jhays/herding-bias/finite_sim.py\", line 197, in run_mc_listing_ids\n",
      "    alpha, epsilon)\n",
      "  File \"/usr/lib64/python3.6/multiprocessing/pool.py\", line 44, in mapstar\n",
      "    return list(map(*args))\n",
      "  File \"/usr/lib64/python3.6/multiprocessing/synchronize.py\", line 95, in __enter__\n",
      "    return self._semlock.__enter__()\n",
      "  File \"/usr/lib64/python3.6/multiprocessing/synchronize.py\", line 95, in __enter__\n",
      "    return self._semlock.__enter__()\n",
      "  File \"/usr/lib64/python3.6/multiprocessing/pool.py\", line 44, in mapstar\n",
      "    return list(map(*args))\n",
      "KeyboardInterrupt\n",
      "  File \"/home/jhays/herding-bias/finite_sim.py\", line 210, in run_mc_listing_ids\n",
      "    listings_df.loc[the_chosen_one, 'available'] += 1\n",
      "  File \"/usr/lib64/python3.6/multiprocessing/synchronize.py\", line 95, in __enter__\n",
      "    return self._semlock.__enter__()\n",
      "  File \"/home/jhays/herding-bias/finite_sim.py\", line 197, in run_mc_listing_ids\n",
      "    alpha, epsilon)\n",
      "  File \"/usr/lib64/python3.6/multiprocessing/pool.py\", line 44, in mapstar\n",
      "    return list(map(*args))\n"
     ]
    },
    {
     "name": "stderr",
     "output_type": "stream",
     "text": [
      "  File \"/usr/lib64/python3.6/multiprocessing/synchronize.py\", line 95, in __enter__\n",
      "    return self._semlock.__enter__()\n",
      "  File \"/home/jhays/herding-bias/finite_sim.py\", line 197, in run_mc_listing_ids\n",
      "    alpha, epsilon)\n",
      "  File \"/usr/lib64/python3.6/multiprocessing/synchronize.py\", line 95, in __enter__\n",
      "    return self._semlock.__enter__()\n",
      "KeyboardInterrupt\n",
      "  File \"/home/jhays/herding-bias/finite_sim.py\", line 188, in run_mc_listing_ids\n",
      "    thetas, gammas, tau, lam_gammas)\n",
      "  File \"/home/jhays/.local/lib/python3.6/site-packages/pandas/core/indexing.py\", line 670, in __setitem__\n",
      "    iloc._setitem_with_indexer(indexer, value)\n",
      "  File \"/usr/lib64/python3.6/multiprocessing/pool.py\", line 44, in mapstar\n",
      "    return list(map(*args))\n",
      "  File \"/usr/lib64/python3.6/multiprocessing/synchronize.py\", line 95, in __enter__\n",
      "    return self._semlock.__enter__()\n",
      "  File \"/home/jhays/herding-bias/finite_sim.py\", line 136, in customer_choice\n",
      "    choice = customer_choice_alpha(n, s_t, thetas, gamma, vs_gamma, alpha, epsilon)\n",
      "  File \"/home/jhays/herding-bias/finite_sim.py\", line 188, in run_mc_listing_ids\n",
      "    thetas, gammas, tau, lam_gammas)\n",
      "  File \"/usr/lib64/python3.6/multiprocessing/pool.py\", line 44, in mapstar\n",
      "    return list(map(*args))\n",
      "  File \"/home/jhays/herding-bias/finite_sim.py\", line 43, in draw_next_event\n",
      "    for gamma in gammas:\n",
      "KeyboardInterrupt\n",
      "KeyboardInterrupt\n",
      "  File \"/usr/lib64/python3.6/multiprocessing/synchronize.py\", line 95, in __enter__\n",
      "    return self._semlock.__enter__()\n",
      "  File \"/usr/lib64/python3.6/multiprocessing/synchronize.py\", line 95, in __enter__\n",
      "    return self._semlock.__enter__()\n",
      "  File \"/home/jhays/herding-bias/finite_sim.py\", line 197, in run_mc_listing_ids\n",
      "    alpha, epsilon)\n",
      "KeyboardInterrupt\n",
      "KeyboardInterrupt\n",
      "KeyboardInterrupt\n",
      "  File \"/home/jhays/herding-bias/finite_sim.py\", line 136, in customer_choice\n",
      "    choice = customer_choice_alpha(n, s_t, thetas, gamma, vs_gamma, alpha, epsilon)\n",
      "KeyboardInterrupt\n",
      "KeyboardInterrupt\n",
      "  File \"/usr/lib64/python3.6/multiprocessing/pool.py\", line 119, in worker\n",
      "    result = (True, func(*args, **kwds))\n",
      "  File \"/usr/lib64/python3.6/multiprocessing/pool.py\", line 44, in mapstar\n",
      "    return list(map(*args))\n",
      "  File \"/usr/lib64/python3.6/multiprocessing/synchronize.py\", line 95, in __enter__\n",
      "    return self._semlock.__enter__()\n",
      "  File \"/home/jhays/herding-bias/finite_sim.py\", line 136, in customer_choice\n",
      "    choice = customer_choice_alpha(n, s_t, thetas, gamma, vs_gamma, alpha, epsilon)\n",
      "KeyboardInterrupt\n",
      "KeyboardInterrupt\n",
      "  File \"/usr/lib64/python3.6/multiprocessing/pool.py\", line 119, in worker\n",
      "    result = (True, func(*args, **kwds))\n",
      "KeyboardInterrupt\n",
      "KeyboardInterrupt\n",
      "  File \"/home/jhays/herding-bias/finite_sim.py\", line 234, in run_mc_listing_ids\n",
      "    the_chosen_one = unavailable_set.sample(n=1).index[0]\n",
      "  File \"/home/jhays/herding-bias/finite_sim.py\", line 136, in customer_choice\n",
      "    choice = customer_choice_alpha(n, s_t, thetas, gamma, vs_gamma, alpha, epsilon)\n",
      "  File \"/home/jhays/herding-bias/finite_sim.py\", line 188, in run_mc_listing_ids\n",
      "    thetas, gammas, tau, lam_gammas)\n",
      "KeyboardInterrupt\n",
      "  File \"/home/jhays/herding-bias/finite_sim.py\", line 208, in run_mc_listing_ids\n",
      "    the_chosen_one = available_set.sample(n=1).index[0]\n",
      "KeyboardInterrupt\n",
      "KeyboardInterrupt\n",
      "  File \"/home/jhays/.local/lib/python3.6/site-packages/pandas/core/indexing.py\", line 869, in __getitem__\n",
      "    return self.obj._get_value(*key, takeable=self._takeable)\n",
      "  File \"/usr/lib64/python3.6/multiprocessing/connection.py\", line 407, in _recv_bytes\n",
      "    buf = self._recv(4)\n",
      "KeyboardInterrupt\n",
      "  File \"/home/jhays/herding-bias/finite_sim.py\", line 136, in customer_choice\n",
      "    choice = customer_choice_alpha(n, s_t, thetas, gamma, vs_gamma, alpha, epsilon)\n",
      "KeyboardInterrupt\n",
      "  File \"/home/jhays/herding-bias/finite_sim.py\", line 45, in draw_next_event\n",
      "    first_customer = min(arrival_times.items(), key=itemgetter(1))\n",
      "  File \"/home/jhays/.local/lib/python3.6/site-packages/pandas/core/indexing.py\", line 1763, in _setitem_with_indexer\n",
      "    isetter(loc, value)\n",
      "KeyboardInterrupt\n",
      "  File \"/home/jhays/herding-bias/finite_sim.py\", line 83, in customer_choice_alpha\n",
      "    choice_set = random.sample(all_available, int(n_total_avail*alpha))\n",
      "KeyboardInterrupt\n",
      "  File \"/home/jhays/herding-bias/finite_sim.py\", line 204, in run_mc_listing_ids\n",
      "    available_set = listings_df[(listings_df['type']==choice)]\n",
      "  File \"/home/jhays/herding-bias/finite_sim.py\", line 56, in draw_next_event\n",
      "    rep_times[theta] = min(np.random.exponential(1/tau, num_booked))\n",
      "  File \"/home/jhays/herding-bias/finite_sim.py\", line 197, in run_mc_listing_ids\n",
      "    alpha, epsilon)\n",
      "KeyboardInterrupt\n",
      "  File \"/home/jhays/herding-bias/finite_sim.py\", line 136, in customer_choice\n",
      "    choice = customer_choice_alpha(n, s_t, thetas, gamma, vs_gamma, alpha, epsilon)\n",
      "KeyboardInterrupt\n",
      "KeyboardInterrupt\n",
      "  File \"/home/jhays/.local/lib/python3.6/site-packages/pandas/core/generic.py\", line 4996, in sample\n",
      "    return self.take(locs, axis=axis)\n",
      "  File \"/home/jhays/.local/lib/python3.6/site-packages/pandas/core/generic.py\", line 4996, in sample\n",
      "    return self.take(locs, axis=axis)\n",
      "  File \"/home/jhays/herding-bias/finite_sim.py\", line 83, in customer_choice_alpha\n",
      "    choice_set = random.sample(all_available, int(n_total_avail*alpha))\n",
      "  File \"/home/jhays/herding-bias/finite_sim.py\", line 85, in customer_choice_alpha\n",
      "    choices, counts = np.unique(choice_set, return_counts=True)\n",
      "  File \"/usr/lib64/python3.6/multiprocessing/pool.py\", line 44, in mapstar\n",
      "    return list(map(*args))\n",
      "  File \"/home/jhays/herding-bias/finite_sim.py\", line 234, in run_mc_listing_ids\n",
      "    the_chosen_one = unavailable_set.sample(n=1).index[0]\n",
      "  File \"/home/jhays/herding-bias/finite_sim.py\", line 90, in customer_choice_alpha\n",
      "    for choice in choice_counts.keys()])\n",
      "  File \"/home/jhays/herding-bias/finite_sim.py\", line 45, in draw_next_event\n",
      "    first_customer = min(arrival_times.items(), key=itemgetter(1))\n",
      "  File \"/home/jhays/herding-bias/finite_sim.py\", line 83, in customer_choice_alpha\n",
      "    choice_set = random.sample(all_available, int(n_total_avail*alpha))\n",
      "KeyboardInterrupt\n",
      "  File \"/usr/lib64/python3.6/multiprocessing/connection.py\", line 379, in _recv\n",
      "    chunk = read(handle, remaining)\n",
      "  File \"/home/jhays/.local/lib/python3.6/site-packages/pandas/core/frame.py\", line 3015, in _get_value\n",
      "    return series._values[loc]\n",
      "  File \"/home/jhays/.local/lib/python3.6/site-packages/pandas/core/indexing.py\", line 1689, in isetter\n",
      "    ser._mgr = ser._mgr.setitem(indexer=plane_indexer, value=v)\n",
      "  File \"/usr/lib64/python3.6/multiprocessing/pool.py\", line 44, in mapstar\n",
      "    return list(map(*args))\n",
      "KeyboardInterrupt\n",
      "  File \"/usr/lib64/python3.6/random.py\", line 329, in sample\n",
      "    j = randbelow(n-i)\n",
      "KeyboardInterrupt\n",
      "  File \"/home/jhays/.local/lib/python3.6/site-packages/pandas/core/frame.py\", line 2897, in __getitem__\n",
      "    return self._getitem_bool_array(key)\n",
      "  File \"/home/jhays/.local/lib/python3.6/site-packages/pandas/core/generic.py\", line 3351, in take\n",
      "    indices, axis=self._get_block_manager_axis(axis), verify=True\n",
      "  File \"/home/jhays/.local/lib/python3.6/site-packages/pandas/core/generic.py\", line 4996, in sample\n",
      "    return self.take(locs, axis=axis)\n",
      "  File \"/usr/lib64/python3.6/random.py\", line 329, in sample\n",
      "    j = randbelow(n-i)\n",
      "  File \"/home/jhays/.local/lib/python3.6/site-packages/pandas/core/generic.py\", line 3351, in take\n",
      "    indices, axis=self._get_block_manager_axis(axis), verify=True\n",
      "  File \"<__array_function__ internals>\", line 6, in unique\n",
      "  File \"/home/jhays/herding-bias/finite_sim.py\", line 229, in run_mc_listing_ids\n",
      "    & (listings_df['available']>=2)]\n",
      "KeyboardInterrupt\n",
      "  File \"/usr/lib64/python3.6/random.py\", line 329, in sample\n",
      "    j = randbelow(n-i)\n",
      "KeyboardInterrupt\n",
      "  File \"/home/jhays/herding-bias/finite_sim.py\", line 85, in customer_choice_alpha\n",
      "    choices, counts = np.unique(choice_set, return_counts=True)\n",
      "  File \"/home/jhays/herding-bias/finite_sim.py\", line 136, in customer_choice\n",
      "    choice = customer_choice_alpha(n, s_t, thetas, gamma, vs_gamma, alpha, epsilon)\n",
      "KeyboardInterrupt\n",
      "  File \"/home/jhays/.local/lib/python3.6/site-packages/pandas/core/internals/managers.py\", line 543, in setitem\n",
      "    return self.apply(\"setitem\", indexer=indexer, value=value)\n"
     ]
    },
    {
     "name": "stderr",
     "output_type": "stream",
     "text": [
      "  File \"/home/jhays/herding-bias/finite_sim.py\", line 204, in run_mc_listing_ids\n",
      "    available_set = listings_df[(listings_df['type']==choice)]\n",
      "  File \"/home/jhays/.local/lib/python3.6/site-packages/pandas/core/series.py\", line 540, in _values\n",
      "    @property\n",
      "  File \"/usr/lib64/python3.6/random.py\", line 233, in _randbelow\n",
      "    r = getrandbits(k)          # 0 <= r < 2**k\n",
      "  File \"/home/jhays/.local/lib/python3.6/site-packages/pandas/core/frame.py\", line 2951, in _getitem_bool_array\n",
      "    return self._take_with_is_copy(indexer, axis=0)\n",
      "  File \"/home/jhays/.local/lib/python3.6/site-packages/pandas/core/internals/managers.py\", line 1457, in take\n",
      "    new_axis=new_labels, indexer=indexer, axis=axis, allow_dups=True\n",
      "  File \"<__array_function__ internals>\", line 6, in unique\n",
      "  File \"/home/jhays/.local/lib/python3.6/site-packages/numpy/lib/arraysetops.py\", line 261, in unique\n",
      "    ret = _unique1d(ar, return_index, return_inverse, return_counts)\n",
      "KeyboardInterrupt\n",
      "  File \"/home/jhays/.local/lib/python3.6/site-packages/pandas/core/internals/managers.py\", line 1457, in take\n",
      "    new_axis=new_labels, indexer=indexer, axis=axis, allow_dups=True\n",
      "  File \"/home/jhays/.local/lib/python3.6/site-packages/pandas/core/generic.py\", line 3351, in take\n",
      "    indices, axis=self._get_block_manager_axis(axis), verify=True\n",
      "  File \"/usr/lib64/python3.6/random.py\", line 235, in _randbelow\n",
      "    r = getrandbits(k)\n",
      "  File \"/home/jhays/herding-bias/finite_sim.py\", line 83, in customer_choice_alpha\n",
      "    choice_set = random.sample(all_available, int(n_total_avail*alpha))\n",
      "  File \"/home/jhays/.local/lib/python3.6/site-packages/pandas/core/ops/common.py\", line 65, in new_method\n",
      "    return method(self, other)\n",
      "  File \"/home/jhays/.local/lib/python3.6/site-packages/pandas/core/internals/managers.py\", line 409, in apply\n",
      "    applied = getattr(b, f)(**kwargs)\n",
      "KeyboardInterrupt\n",
      "  File \"/home/jhays/.local/lib/python3.6/site-packages/pandas/core/frame.py\", line 2897, in __getitem__\n",
      "    return self._getitem_bool_array(key)\n",
      "KeyboardInterrupt\n",
      "  File \"/home/jhays/.local/lib/python3.6/site-packages/pandas/core/generic.py\", line 3363, in _take_with_is_copy\n",
      "    result = self.take(indices=indices, axis=axis)\n",
      "  File \"/home/jhays/.local/lib/python3.6/site-packages/pandas/core/internals/managers.py\", line 1457, in take\n",
      "    new_axis=new_labels, indexer=indexer, axis=axis, allow_dups=True\n",
      "  File \"/home/jhays/.local/lib/python3.6/site-packages/pandas/core/internals/managers.py\", line 1301, in reindex_indexer\n",
      "    for blk in self.blocks\n",
      "  File \"/home/jhays/.local/lib/python3.6/site-packages/numpy/lib/arraysetops.py\", line 338, in _unique1d\n",
      "    ret += (np.diff(idx),)\n",
      "KeyboardInterrupt\n",
      "  File \"/home/jhays/.local/lib/python3.6/site-packages/numpy/lib/arraysetops.py\", line 261, in unique\n",
      "    ret = _unique1d(ar, return_index, return_inverse, return_counts)\n",
      "  File \"/home/jhays/.local/lib/python3.6/site-packages/pandas/core/ops/__init__.py\", line 370, in wrapper\n",
      "    res_values = comparison_op(lvalues, rvalues, op)\n",
      "  File \"/home/jhays/.local/lib/python3.6/site-packages/pandas/core/internals/managers.py\", line 1301, in reindex_indexer\n",
      "    for blk in self.blocks\n",
      "  File \"/usr/lib64/python3.6/random.py\", line 329, in sample\n",
      "    j = randbelow(n-i)\n",
      "  File \"/home/jhays/.local/lib/python3.6/site-packages/pandas/core/internals/blocks.py\", line 868, in setitem\n",
      "    values[indexer] = value\n",
      "  File \"/home/jhays/.local/lib/python3.6/site-packages/pandas/core/frame.py\", line 2951, in _getitem_bool_array\n",
      "    return self._take_with_is_copy(indexer, axis=0)\n",
      "  File \"/home/jhays/.local/lib/python3.6/site-packages/pandas/core/generic.py\", line 3351, in take\n",
      "    indices, axis=self._get_block_manager_axis(axis), verify=True\n",
      "  File \"/home/jhays/.local/lib/python3.6/site-packages/pandas/core/internals/managers.py\", line 1301, in reindex_indexer\n",
      "    for blk in self.blocks\n",
      "  File \"<__array_function__ internals>\", line 6, in diff\n",
      "  File \"/home/jhays/.local/lib/python3.6/site-packages/pandas/core/ops/array_ops.py\", line 251, in comparison_op\n",
      "    res_values = na_arithmetic_op(lvalues, rvalues, op, is_cmp=True)\n",
      "  File \"/home/jhays/.local/lib/python3.6/site-packages/pandas/core/internals/managers.py\", line 1301, in <listcomp>\n",
      "    for blk in self.blocks\n",
      "  File \"/home/jhays/.local/lib/python3.6/site-packages/numpy/lib/arraysetops.py\", line 328, in _unique1d\n",
      "    ret = (aux[mask],)\n",
      "  File \"/usr/lib64/python3.6/random.py\", line 231, in _randbelow\n",
      "    if type(random) is BuiltinMethod or type(getrandbits) is Method:\n",
      "  File \"/home/jhays/.local/lib/python3.6/site-packages/pandas/core/internals/managers.py\", line 1301, in <listcomp>\n",
      "    for blk in self.blocks\n",
      "KeyboardInterrupt\n",
      "  File \"/home/jhays/.local/lib/python3.6/site-packages/pandas/core/generic.py\", line 3363, in _take_with_is_copy\n",
      "    result = self.take(indices=indices, axis=axis)\n",
      "  File \"/home/jhays/.local/lib/python3.6/site-packages/pandas/core/internals/managers.py\", line 1301, in <listcomp>\n",
      "    for blk in self.blocks\n",
      "  File \"/home/jhays/.local/lib/python3.6/site-packages/pandas/core/internals/managers.py\", line 1449, in take\n",
      "    indexer = maybe_convert_indices(indexer, n)\n",
      "  File \"/home/jhays/.local/lib/python3.6/site-packages/numpy/lib/function_base.py\", line 1280, in diff\n",
      "    a = op(a[slice1], a[slice2])\n",
      "  File \"/home/jhays/.local/lib/python3.6/site-packages/pandas/core/internals/blocks.py\", line 1256, in take_nd\n",
      "    values, indexer, axis=axis, allow_fill=allow_fill, fill_value=fill_value\n",
      "KeyboardInterrupt\n",
      "  File \"/home/jhays/.local/lib/python3.6/site-packages/pandas/core/ops/array_ops.py\", line 143, in na_arithmetic_op\n",
      "    result = expressions.evaluate(op, left, right)\n",
      "  File \"/home/jhays/.local/lib/python3.6/site-packages/pandas/core/internals/blocks.py\", line 1256, in take_nd\n",
      "    values, indexer, axis=axis, allow_fill=allow_fill, fill_value=fill_value\n",
      "KeyboardInterrupt\n",
      "  File \"/home/jhays/.local/lib/python3.6/site-packages/pandas/core/generic.py\", line 3351, in take\n",
      "    indices, axis=self._get_block_manager_axis(axis), verify=True\n",
      "  File \"/home/jhays/.local/lib/python3.6/site-packages/pandas/core/internals/blocks.py\", line 1256, in take_nd\n",
      "    values, indexer, axis=axis, allow_fill=allow_fill, fill_value=fill_value\n",
      "KeyboardInterrupt\n",
      "  File \"/home/jhays/.local/lib/python3.6/site-packages/pandas/core/indexers.py\", line 244, in maybe_convert_indices\n",
      "    if mask.any():\n",
      "  File \"/home/jhays/.local/lib/python3.6/site-packages/pandas/core/computation/expressions.py\", line 233, in evaluate\n",
      "    return _evaluate(op, op_str, a, b)  # type: ignore\n",
      "  File \"/home/jhays/.local/lib/python3.6/site-packages/pandas/core/algorithms.py\", line 1735, in take_nd\n",
      "    arr.ndim, arr.dtype, out.dtype, axis=axis, mask_info=mask_info\n",
      "  File \"/home/jhays/.local/lib/python3.6/site-packages/pandas/core/algorithms.py\", line 1735, in take_nd\n",
      "    arr.ndim, arr.dtype, out.dtype, axis=axis, mask_info=mask_info\n",
      "  File \"/home/jhays/.local/lib/python3.6/site-packages/pandas/core/internals/managers.py\", line 1455, in take\n",
      "    new_labels = self.axes[axis].take(indexer)\n",
      "KeyboardInterrupt\n",
      "  File \"/home/jhays/.local/lib/python3.6/site-packages/numpy/core/_methods.py\", line 54, in _any\n",
      "    return umr_any(a, axis, dtype, out, keepdims)\n",
      "  File \"/home/jhays/.local/lib/python3.6/site-packages/pandas/core/computation/expressions.py\", line 100, in _evaluate_numexpr\n",
      "    if _can_use_numexpr(op, op_str, a, b, \"evaluate\"):\n",
      "  File \"/home/jhays/.local/lib/python3.6/site-packages/pandas/core/algorithms.py\", line 1515, in _get_take_nd_function\n",
      "    tup = (arr_dtype.name, out_dtype.name)\n",
      "  File \"/home/jhays/.local/lib/python3.6/site-packages/pandas/core/algorithms.py\", line 1515, in _get_take_nd_function\n",
      "    tup = (arr_dtype.name, out_dtype.name)\n",
      "KeyboardInterrupt\n",
      "  File \"/home/jhays/.local/lib/python3.6/site-packages/pandas/core/indexes/base.py\", line 712, in take\n",
      "    na_value=self._na_value,\n",
      "  File \"/home/jhays/.local/lib/python3.6/site-packages/numpy/core/_dtype.py\", line 321, in _name_get\n",
      "    def _name_get(dtype):\n",
      "  File \"/home/jhays/.local/lib/python3.6/site-packages/pandas/core/computation/expressions.py\", line 76, in _can_use_numexpr\n",
      "    if np.prod(a.shape) > _MIN_ELEMENTS:\n",
      "  File \"/home/jhays/.local/lib/python3.6/site-packages/numpy/core/_dtype.py\", line 321, in _name_get\n",
      "    def _name_get(dtype):\n"
     ]
    },
    {
     "name": "stderr",
     "output_type": "stream",
     "text": [
      "  File \"/home/jhays/.local/lib/python3.6/site-packages/pandas/core/indexes/base.py\", line 742, in _assert_take_fillable\n",
      "    taken = values.take(indices)\n",
      "KeyboardInterrupt\n",
      "  File \"<__array_function__ internals>\", line 6, in prod\n",
      "KeyboardInterrupt\n",
      "KeyboardInterrupt\n",
      "  File \"/home/jhays/.local/lib/python3.6/site-packages/numpy/core/fromnumeric.py\", line 3000, in prod\n",
      "    keepdims=keepdims, initial=initial, where=where)\n",
      "  File \"/home/jhays/.local/lib/python3.6/site-packages/numpy/core/fromnumeric.py\", line 71, in _wrapreduction\n",
      "    passkwargs = {k: v for k, v in kwargs.items()\n",
      "  File \"/home/jhays/.local/lib/python3.6/site-packages/numpy/core/fromnumeric.py\", line 71, in <dictcomp>\n",
      "    passkwargs = {k: v for k, v in kwargs.items()\n",
      "KeyboardInterrupt\n"
     ]
    }
   ],
   "source": [
    "events_herding = sim_wrapper.run_all_sims(n_runs, n_listings, T_start, T_end, \n",
    "                                  choice_set_type, k,\n",
    "                                 alpha, epsilon, tau, lams,\n",
    "                                 **params, herding=True)\n",
    "est_stats_herding = sim_wrapper.calc_all_ests_stats(\"sample\", T_start, T_end, \n",
    "                                            n_listings, tau=tau, \n",
    "                                            tsr_est_types=tsr_est_types,\n",
    "                                            events=events_herding, \n",
    "                                            varying_time_horizons=varying_time_horizons,\n",
    "                                            **params\n",
    "                                           )"
   ]
  },
  {
   "cell_type": "code",
   "execution_count": null,
   "metadata": {
    "ExecuteTime": {
     "end_time": "2023-11-30T14:43:57.914118Z",
     "start_time": "2023-11-30T03:13:23.331Z"
    },
    "hidden": true
   },
   "outputs": [],
   "source": [
    "est_stats_herding = est_stats_herding.rename({'cr':\"Customer-Side\", 'lr':\"Service-Side\",\n",
    "                            'tsri_2.0':'TSRI-2', 'tsri_1.0':'TSRI-1',\n",
    "                             'tsr_est_naive':\"TSR-Naive\"\n",
    "                            })"
   ]
  },
  {
   "cell_type": "markdown",
   "metadata": {
    "hidden": true
   },
   "source": [
    "## Competition"
   ]
  },
  {
   "cell_type": "code",
   "execution_count": null,
   "metadata": {
    "ExecuteTime": {
     "end_time": "2023-11-30T14:43:57.915139Z",
     "start_time": "2023-11-30T03:13:23.909Z"
    },
    "hidden": true
   },
   "outputs": [],
   "source": [
    "events_competition = sim_wrapper.run_all_sims(n_runs, n_listings, T_start, T_end, \n",
    "                                  choice_set_type, k,\n",
    "                                 alpha, epsilon, tau, lams,\n",
    "                                 **params)\n",
    "est_stats_competition = sim_wrapper.calc_all_ests_stats(\"sample\", T_start, T_end, \n",
    "                                            n_listings, tau=tau, \n",
    "                                            tsr_est_types=tsr_est_types,\n",
    "                                            events=events_competition, \n",
    "                                            varying_time_horizons=varying_time_horizons,\n",
    "                                            **params\n",
    "                                           )"
   ]
  },
  {
   "cell_type": "code",
   "execution_count": null,
   "metadata": {
    "ExecuteTime": {
     "end_time": "2023-11-30T14:43:57.915939Z",
     "start_time": "2023-11-30T03:13:24.257Z"
    },
    "hidden": true
   },
   "outputs": [],
   "source": [
    "est_stats_competition = est_stats_competition.rename({'cr':\"Customer-Side\", 'lr':\"Service-Side\",\n",
    "                            'tsri_2.0':'TSRI-2', 'tsri_1.0':'TSRI-1',\n",
    "                             'tsr_est_naive':\"TSR-Naive\"\n",
    "                            })"
   ]
  },
  {
   "cell_type": "markdown",
   "metadata": {},
   "source": [
    "# Visualizations"
   ]
  },
  {
   "cell_type": "markdown",
   "metadata": {},
   "source": [
    "## Visualizations: Herding"
   ]
  },
  {
   "cell_type": "code",
   "execution_count": 36,
   "metadata": {
    "ExecuteTime": {
     "end_time": "2023-11-30T19:30:45.100896Z",
     "start_time": "2023-11-30T19:30:45.091507Z"
    }
   },
   "outputs": [],
   "source": [
    "rgb_dict = {'cr': (0, 114, 178), 'lr':(255, 127, 14),\n",
    "          'tsrn':(0, 158, 115), 'tsri1':(240, 228, 66), \n",
    "            'tsri2':(204, 121, 167),\n",
    "          'cluster':(86, 180, 233)}\n",
    "\n",
    "rgb_0_1_array = np.array(list(rgb_dict.values()))/255"
   ]
  },
  {
   "cell_type": "code",
   "execution_count": 37,
   "metadata": {
    "ExecuteTime": {
     "end_time": "2023-11-30T19:30:45.842392Z",
     "start_time": "2023-11-30T19:30:45.347220Z"
    }
   },
   "outputs": [],
   "source": [
    "est_stats_herding = pd.read_csv(\"sample_total_stats_herding.csv\", index_col=[\"estimator_type\", \"lambda\"])\n",
    "\n",
    "est_stats_herding = est_stats_herding.rename({'cr':\"Customer-Side\", 'lr':\"Product-Side\",\n",
    "                            'tsri_2.0':'TSRI-2', 'tsri_1.0':'TSRI-1',\n",
    "                             'tsr_est_naive':\"TSR-Naive\"\n",
    "                            })"
   ]
  },
  {
   "cell_type": "code",
   "execution_count": 38,
   "metadata": {
    "ExecuteTime": {
     "end_time": "2023-11-30T19:30:48.476825Z",
     "start_time": "2023-11-30T19:30:48.042393Z"
    }
   },
   "outputs": [
    {
     "data": {
      "image/png": "[encoded data removed]",
      "text/plain": [
       "<Figure size 432x288 with 1 Axes>"
      ]
     },
     "metadata": {
      "needs_background": "light"
     },
     "output_type": "display_data"
    }
   ],
   "source": [
    "stat = 'bias'\n",
    "\n",
    "(est_stats_herding\n",
    " .unstack(level=0)[stat]\n",
    " .plot(kind='bar', color=rgb_0_1_array))\n",
    "\n",
    "#plt.yscale('log')\n",
    "plt.title(\"Herding Simulations: Bias\")\n",
    "plt.legend(loc=[1.02,0.5])\n",
    "plt.ylabel(\"Bias\")\n",
    "plt.xlabel(\"Relative user arrival rate $\\lambda/\\\\tau$\")\n",
    "plt.tight_layout()\n",
    "sns.despine()\n",
    "plt.savefig(\"herding_bias.svg\")"
   ]
  },
  {
   "cell_type": "code",
   "execution_count": 39,
   "metadata": {
    "ExecuteTime": {
     "end_time": "2023-11-30T19:31:00.613902Z",
     "start_time": "2023-11-30T19:30:55.070152Z"
    }
   },
   "outputs": [
    {
     "data": {
      "image/png": "[encoded data removed]",
      "text/plain": [
       "<Figure size 432x288 with 1 Axes>"
      ]
     },
     "metadata": {
      "needs_background": "light"
     },
     "output_type": "display_data"
    }
   ],
   "source": [
    "stat = 'bias_over_GTE'\n",
    "\n",
    "(est_stats_herding\n",
    " .unstack(level=0)[stat]\n",
    " .plot(kind='bar', color=rgb_0_1_array))\n",
    "\n",
    "#plt.yscale('log')\n",
    "plt.title(\"Herding Simulations: Bias\")\n",
    "plt.legend(loc=[1.02,0.5])\n",
    "plt.ylabel(\"Bias/GTE\")\n",
    "plt.xlabel(\"Relative user arrival rate $\\lambda/\\\\tau$\")\n",
    "plt.tight_layout()\n",
    "sns.despine()\n",
    "plt.savefig(\"herding_bias.svg\")"
   ]
  },
  {
   "cell_type": "code",
   "execution_count": 40,
   "metadata": {
    "ExecuteTime": {
     "end_time": "2023-11-30T19:31:00.919100Z",
     "start_time": "2023-11-30T19:31:00.616992Z"
    }
   },
   "outputs": [
    {
     "data": {
      "image/png": "[encoded data removed]",
      "text/plain": [
       "<Figure size 432x288 with 1 Axes>"
      ]
     },
     "metadata": {
      "needs_background": "light"
     },
     "output_type": "display_data"
    }
   ],
   "source": [
    "stat = 'std_over_GTE'\n",
    "\n",
    "(est_stats_herding\n",
    " .unstack(level=0)[stat]\n",
    " .plot(kind='bar',color=rgb_0_1_array))\n",
    "\n",
    "\n",
    "plt.xlabel(\"Relative user arrival rate $\\lambda/\\\\tau$\")\n",
    "plt.title(\"Herding Simulations: Standard Error\")\n",
    "plt.legend(loc=[1.02,0.5])\n",
    "plt.ylabel(\"Standard Error/GTE\")\n",
    "plt.tight_layout()\n",
    "sns.despine()\n"
   ]
  },
  {
   "cell_type": "code",
   "execution_count": 41,
   "metadata": {
    "ExecuteTime": {
     "end_time": "2023-11-30T19:31:20.785617Z",
     "start_time": "2023-11-30T19:31:20.241260Z"
    }
   },
   "outputs": [
    {
     "data": {
      "image/png": "[encoded data removed]",
      "text/plain": [
       "<Figure size 432x288 with 1 Axes>"
      ]
     },
     "metadata": {
      "needs_background": "light"
     },
     "output_type": "display_data"
    }
   ],
   "source": [
    "stat = 'rmse_over_GTE'\n",
    "\n",
    "(est_stats_herding\n",
    " .unstack(level=0)[stat]\n",
    " .plot(kind='bar', color=rgb_0_1_array))\n",
    "\n",
    "\n",
    "plt.yscale('log')\n",
    "plt.xlabel(\"Relative user arrival rate $\\lambda/\\\\tau$\")\n",
    "plt.title(\"Herding Simulations: RMSE\")\n",
    "plt.legend(loc=[1.02,0.5])\n",
    "plt.ylabel(\"RMSE/GTE\")\n",
    "plt.tight_layout()\n",
    "sns.despine()"
   ]
  },
  {
   "cell_type": "markdown",
   "metadata": {},
   "source": [
    "## Visualizations: competition"
   ]
  },
  {
   "cell_type": "code",
   "execution_count": 42,
   "metadata": {
    "ExecuteTime": {
     "end_time": "2023-11-30T19:31:29.135865Z",
     "start_time": "2023-11-30T19:31:29.110384Z"
    }
   },
   "outputs": [],
   "source": [
    "est_stats_competition = pd.read_csv(\"sample_total_stats_competition.csv\", index_col=[\"estimator_type\", \"lambda\"])\n",
    "\n",
    "est_stats_competition = est_stats_herding.rename({'cr':\"Customer-Side\", 'lr':\"Service-Side\",\n",
    "                            'tsri_2.0':'TSRI-2', 'tsri_1.0':'TSRI-1',\n",
    "                             'tsr_est_naive':\"TSR-Naive\"\n",
    "                            })"
   ]
  },
  {
   "cell_type": "code",
   "execution_count": 43,
   "metadata": {
    "ExecuteTime": {
     "end_time": "2023-11-30T19:31:33.190696Z",
     "start_time": "2023-11-30T19:31:29.890591Z"
    }
   },
   "outputs": [
    {
     "data": {
      "image/png": "[encoded data removed]",
      "text/plain": [
       "<Figure size 432x288 with 1 Axes>"
      ]
     },
     "metadata": {
      "needs_background": "light"
     },
     "output_type": "display_data"
    }
   ],
   "source": [
    "stat = 'bias_over_GTE'\n",
    "\n",
    "(est_stats_competition\n",
    " .unstack(level=0)[stat]\n",
    " .plot(kind='bar', color=rgb_0_1_array))\n",
    "\n",
    "#plt.yscale('log')\n",
    "plt.xlabel(\"Relative user arrival rate $\\lambda/\\\\tau$\")\n",
    "plt.title(\"Competition Simulations: Bias\")\n",
    "plt.legend(loc=[1.02,0.5])\n",
    "plt.ylabel(\"Bias/GTE\")\n",
    "plt.tight_layout()\n",
    "sns.despine()\n",
    "plt.savefig(\"competition_bias.svg\")"
   ]
  },
  {
   "cell_type": "code",
   "execution_count": 44,
   "metadata": {
    "ExecuteTime": {
     "end_time": "2023-11-30T19:31:35.063226Z",
     "start_time": "2023-11-30T19:31:34.770228Z"
    }
   },
   "outputs": [
    {
     "data": {
      "image/png": "[encoded data removed]",
      "text/plain": [
       "<Figure size 432x288 with 1 Axes>"
      ]
     },
     "metadata": {
      "needs_background": "light"
     },
     "output_type": "display_data"
    }
   ],
   "source": [
    "stat = 'std_over_GTE'\n",
    "\n",
    "(est_stats_competition\n",
    " .unstack(level=0)[stat]\n",
    " .plot(kind='bar',color=rgb_0_1_array))\n",
    "\n",
    "\n",
    "plt.xlabel(\"Relative user arrival rate $\\lambda/\\\\tau$\")\n",
    "plt.title(\"Competition Simulations: Standard Error\")\n",
    "plt.legend(loc=[1.02,0.5])\n",
    "plt.ylabel(\"Standard Error/GTE\")\n",
    "plt.tight_layout()\n",
    "sns.despine()\n"
   ]
  },
  {
   "cell_type": "code",
   "execution_count": 45,
   "metadata": {
    "ExecuteTime": {
     "end_time": "2023-11-30T19:31:38.896063Z",
     "start_time": "2023-11-30T19:31:35.752704Z"
    }
   },
   "outputs": [
    {
     "data": {
      "image/png": "[encoded data removed]",
      "text/plain": [
       "<Figure size 432x288 with 1 Axes>"
      ]
     },
     "metadata": {
      "needs_background": "light"
     },
     "output_type": "display_data"
    }
   ],
   "source": [
    "stat = 'rmse_over_GTE'\n",
    "\n",
    "(est_stats_competition\n",
    " .unstack(level=0)[stat]\n",
    " .plot(kind='bar', color=rgb_0_1_array))\n",
    "\n",
    "\n",
    "plt.yscale('log')\n",
    "plt.xlabel(\"Relative user arrival rate $\\lambda/\\\\tau$\")\n",
    "plt.title(\"Competition Simulations: RMSE\")\n",
    "plt.legend(loc=[1.02,0.5])\n",
    "plt.ylabel(\"RMSE/GTE\")\n",
    "plt.tight_layout()\n",
    "sns.despine()"
   ]
  },
  {
   "cell_type": "code",
   "execution_count": null,
   "metadata": {},
   "outputs": [],
   "source": []
  }
 ],
 "metadata": {
  "kernelspec": {
   "display_name": "Python 3",
   "language": "python",
   "name": "python3"
  },
  "language_info": {
   "codemirror_mode": {
    "name": "ipython",
    "version": 3
   },
   "file_extension": ".py",
   "mimetype": "text/x-python",
   "name": "python",
   "nbconvert_exporter": "python",
   "pygments_lexer": "ipython3",
   "version": "3.6.8"
  }
 },
 "nbformat": 4,
 "nbformat_minor": 4
}
