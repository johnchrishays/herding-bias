{
 "cells": [
  {
   "cell_type": "markdown",
   "metadata": {},
   "source": [
    "# Runs finite state space continuous time Markov chain with N listings."
   ]
  },
  {
   "cell_type": "code",
   "execution_count": 1,
   "metadata": {
    "ExecuteTime": {
     "end_time": "2023-12-11T02:33:32.429343Z",
     "start_time": "2023-12-11T02:33:32.420819Z"
    }
   },
   "outputs": [
    {
     "name": "stderr",
     "output_type": "stream",
     "text": [
      "/usr/lib/python3/dist-packages/scipy/__init__.py:146: UserWarning: A NumPy version >=1.17.3 and <1.25.0 is required for this version of SciPy (detected version 1.26.2\n",
      "  warnings.warn(f\"A NumPy version >={np_minversion} and <{np_maxversion}\"\n"
     ]
    }
   ],
   "source": [
    "import numpy as np\n",
    "import pandas as pd\n",
    "import matplotlib.pyplot as plt\n",
    "import seaborn as sns\n",
    "import copy\n",
    "import csv\n",
    "import time\n",
    "import itertools\n",
    "from numpy import random\n",
    "from operator import itemgetter\n",
    "import importlib\n",
    "import multiprocessing as mp\n",
    "import json\n",
    "import math"
   ]
  },
  {
   "cell_type": "code",
   "execution_count": 2,
   "metadata": {
    "ExecuteTime": {
     "end_time": "2023-12-08T04:10:41.888171Z",
     "start_time": "2023-12-08T04:10:34.060043Z"
    }
   },
   "outputs": [],
   "source": [
    "import experiment_helper\n",
    "import exp_wrapper \n",
    "\n",
    "import finite_sim as sim\n",
    "import finite_sim_wrapper as sim_wrapper"
   ]
  },
  {
   "cell_type": "code",
   "execution_count": 3,
   "metadata": {
    "ExecuteTime": {
     "end_time": "2023-12-12T04:06:59.484321Z",
     "start_time": "2023-12-12T04:06:57.731669Z"
    }
   },
   "outputs": [
    {
     "data": {
      "text/plain": [
       "<module 'finite_sim_wrapper' from '/home/ralur/herding-bias/finite_sim_wrapper.py'>"
      ]
     },
     "execution_count": 3,
     "metadata": {},
     "output_type": "execute_result"
    }
   ],
   "source": [
    "importlib.reload(exp_wrapper)\n",
    "importlib.reload(experiment_helper)\n",
    "importlib.reload(sim)\n",
    "importlib.reload(sim_wrapper)"
   ]
  },
  {
   "cell_type": "markdown",
   "metadata": {},
   "source": [
    "# Setting parameters model parameters"
   ]
  },
  {
   "cell_type": "code",
   "execution_count": 4,
   "metadata": {
    "ExecuteTime": {
     "end_time": "2023-12-08T04:10:53.821072Z",
     "start_time": "2023-12-08T04:10:53.812558Z"
    }
   },
   "outputs": [],
   "source": [
    "alpha = 1\n",
    "epsilon = 1\n",
    "tau = 1\n",
    "lams = [ .1, 1, 10, 100, 1000]\n",
    "\n",
    "\n",
    "tsr_ac_al_values = [.5]\n",
    "cr_a_C = 0.5\n",
    "lr_a_L = 0.5\n",
    "\n",
    "tsr_est_types = ['tsr_est_naive', 'tsri_1.0','tsri_2.0']+['mrd_avg']\n"
   ]
  },
  {
   "cell_type": "code",
   "execution_count": 5,
   "metadata": {
    "ExecuteTime": {
     "end_time": "2023-12-08T04:10:55.830814Z",
     "start_time": "2023-12-08T04:10:54.688631Z"
    }
   },
   "outputs": [
    {
     "name": "stdout",
     "output_type": "stream",
     "text": [
      "customer c1\n",
      "control {'l': 0.315}\n",
      "treatment {'l': 0.3937} \n",
      "\n",
      "Rhos: {'l': 1}\n",
      "Customer Proportions: {'c1': 1}\n"
     ]
    }
   ],
   "source": [
    "customer_types = ['c1']\n",
    "listing_types = ['l']\n",
    "exp_conditions = ['control', 'treat']\n",
    "rhos_pre_treat = {'l':1} #adds up to 1\n",
    "customer_proportions = {'c1':1} #adds up to 1\n",
    "\n",
    "# used for multiplicative utilities\n",
    "customer_type_base = {'c1':.315 }\n",
    "listing_type_base = {'l':1}\n",
    "exp_condition_base = {'control':1, 'treat':1.25}\n",
    "\n",
    "vs = {}\n",
    "#multiplicative -- default\n",
    "for c in customer_types:\n",
    "    vs[c] = {}\n",
    "    vs[c]['treat'] = {}   \n",
    "    vs[c]['control'] = {}\n",
    "    for l in listing_types:\n",
    "        for e in exp_conditions:\n",
    "            vs[c][e][l] = round(customer_type_base[c]\n",
    "                                *exp_condition_base[e]\n",
    "                                *listing_type_base[l],4)\n",
    "\n",
    "for c in customer_types:\n",
    "    print(\"customer\", c)\n",
    "    print(\"control\", vs[c]['control'])\n",
    "    print(\"treatment\", vs[c]['treat'], \"\\n\")\n",
    "print('Rhos:', rhos_pre_treat)\n",
    "print(\"Customer Proportions:\", customer_proportions)"
   ]
  },
  {
   "cell_type": "code",
   "execution_count": 6,
   "metadata": {
    "ExecuteTime": {
     "end_time": "2023-12-08T04:10:58.433365Z",
     "start_time": "2023-12-08T04:10:58.426736Z"
    }
   },
   "outputs": [],
   "source": [
    "params = sim_wrapper.calc_all_params(listing_types, rhos_pre_treat, \n",
    "                                     customer_types, customer_proportions, vs, \n",
    "                                    alpha, epsilon, tau, lams,\n",
    "                                    tsr_ac_al_values, cr_a_C, lr_a_L)"
   ]
  },
  {
   "cell_type": "code",
   "execution_count": 7,
   "metadata": {
    "ExecuteTime": {
     "end_time": "2023-12-12T14:11:35.025820Z",
     "start_time": "2023-12-12T14:11:35.011810Z"
    }
   },
   "outputs": [],
   "source": [
    "T_0 = 5\n",
    "T_1 = 40\n",
    "\n",
    "# normalizes time horizon by min(lam, tau)\n",
    "T_start = {lam: T_0/lam for lam in lams}\n",
    "T_end = {lam: T_1/lam for lam in lams}\n",
    "\n",
    "varying_time_horizons = True\n",
    "\n",
    "n_runs = 10\n",
    "n_listings = 100\n",
    "\n",
    "choice_set_type = 'alpha' #customers sample items into consideration set with prob alpha\n",
    "k = None"
   ]
  },
  {
   "cell_type": "markdown",
   "metadata": {},
   "source": [
    "# Naive designs and estimators over time"
   ]
  },
  {
   "cell_type": "code",
   "execution_count": 8,
   "metadata": {
    "ExecuteTime": {
     "end_time": "2023-12-12T14:37:25.745459Z",
     "start_time": "2023-12-12T14:37:25.709165Z"
    }
   },
   "outputs": [],
   "source": [
    "def get_events(herding, recency, exp_type='cr_params'):\n",
    "\n",
    "    s_full = {l: int(n_listings*rhos_pre_treat[l]) for l in rhos_pre_treat}\n",
    "    lam = lams[1]\n",
    "\n",
    "    # normalizes time horizon by min(lam, tau)\n",
    "    T_start = T_0/min(lam,tau)\n",
    "    T_end = T_1/min(lam,tau)\n",
    "\n",
    "    lam_gammas = {c: lam for c in customer_proportions}\n",
    "    vs = {}\n",
    "    #multiplicative -- default\n",
    "    for e in exp_conditions:\n",
    "        vs[e] = {}\n",
    "        for c in customer_types:\n",
    "            vs[e][c] = {}\n",
    "            for l in listing_types:\n",
    "                vs[e][c][l] = round(customer_type_base[c]\n",
    "                                    *exp_condition_base[e]\n",
    "                                    *listing_type_base[l],4)\n",
    "                \n",
    "    def run_sim_same_params(herding, recency, vs):\n",
    "        return sim.run_mc_listing_ids(choice_set_type=\"alpha\", \n",
    "                   n=n_listings, \n",
    "                   k=None, \n",
    "                   s_0=copy.copy(s_full), \n",
    "                   s_full=s_full, \n",
    "                   T=T_end, \n",
    "                   thetas=rhos_pre_treat, \n",
    "                   gammas=customer_proportions, \n",
    "                   vs=vs, \n",
    "                   tau=tau, \n",
    "                   lam_gammas=lam_gammas, \n",
    "                   alpha=alpha, \n",
    "                   epsilon=epsilon, \n",
    "                   run_number=1, \n",
    "                   herding=herding, \n",
    "                   recency=recency)[\"events\"]\n",
    "\n",
    "    mc_treat = run_sim_same_params(herding, recency, vs['treat'])\n",
    "\n",
    "    mc_control = run_sim_same_params(herding, recency, vs['control'])\n",
    "    \n",
    "    exp_params = params[exp_type][lam]\n",
    "    s_full_exp = {l: int(n_listings*exp_params['rhos_exp'][l]) for l in exp_params['rhos_exp']}\n",
    "\n",
    "    mc_exp = sim.run_mc_listing_ids(choice_set_type=\"alpha\", \n",
    "               n=n_listings, \n",
    "               k=None, \n",
    "               s_0=copy.copy(s_full_exp), \n",
    "               s_full=s_full_exp, \n",
    "               T=T_end, \n",
    "               thetas=exp_params[\"rhos_exp\"], \n",
    "               gammas=exp_params[\"gammas_exp\"], \n",
    "               vs=exp_params['v_gammas_exp'], \n",
    "               tau=tau, \n",
    "               lam_gammas=exp_params['lam_gammas_exp'], \n",
    "               alpha=alpha, \n",
    "               epsilon=epsilon, \n",
    "               run_number=1, \n",
    "               herding=herding, \n",
    "               recency=recency)[\"events\"]\n",
    "    \n",
    "    def get_customer_choice_events(df, exp=None):\n",
    "        if exp == \"c1_control\" or exp == \"c1_treat\":\n",
    "            new_df = df.loc[pd.notnull(df['choice_type']) & (df['customer_type'] == exp)]\n",
    "        else:\n",
    "            new_df = df.loc[pd.notnull(df['choice_type'])]\n",
    "        return new_df[[\"choice_type\", \"time\"]].set_index([\"time\"])\n",
    "\n",
    "    customer_events_t = get_customer_choice_events(mc_treat)\n",
    "    customer_events_c = get_customer_choice_events(mc_control) \n",
    "    if exp_type == \"cr_params\":\n",
    "        customer_events_exp_control = get_customer_choice_events(mc_exp, exp=\"c1_control\") \n",
    "        customer_events_exp_treat = get_customer_choice_events(mc_exp, exp=\"c1_treat\")\n",
    "    if exp_type == \"lr_params\":\n",
    "        customer_events_exp_control = get_customer_choice_events(mc_exp, exp=\"l_control\") \n",
    "        customer_events_exp_treat = get_customer_choice_events(mc_exp, exp=\"l_treat\")\n",
    "    return (customer_events_t, customer_events_c, customer_events_exp_treat, customer_events_exp_control)\n"
   ]
  },
  {
   "cell_type": "code",
   "execution_count": null,
   "metadata": {
    "ExecuteTime": {
     "start_time": "2023-12-12T14:53:47.187Z"
    }
   },
   "outputs": [],
   "source": [
    "herding = True\n",
    "recency = False\n",
    "exp_type = \"lr_params\"\n",
    "N = 5000\n",
    "\n",
    "T_0 = 5\n",
    "T_1 = 60\n",
    "\n",
    "lr_a_L = 0.5\n",
    "\n",
    "\n",
    "\n",
    "def get_concat(events):\n",
    "    concat_df = pd.concat(events).sort_index()\n",
    "    concat_df[\"not_outside\"] = concat_df[\"choice_type\"] != \"outside_option\"\n",
    "    return concat_df\n",
    "\n",
    "def get_mean_t(df, t_0, t_1, l_type):\n",
    "    if l_type == \"l_treat\" or l_type == \"l_control\":\n",
    "        return (df[(df.index >= t_0) & (df.index <= t_1)][\"choice_type\"] == l_type).mean()\n",
    "    else:\n",
    "        return df[(df.index >= t_0) & (df.index <= t_1)].mean()[\"not_outside\"]\n",
    "\n",
    "def get_mean(df, l_type = None):\n",
    "    return np.array([get_mean_t(df, t_0, t_0+1, l_type) for t_0 in range(T_1)])\n",
    "\n",
    "\n",
    "events = [get_events(herding, recency, exp_type) for _ in range(N)]\n",
    "customer_events_t, customer_events_c, customer_events_exp_treat, customer_events_exp_control = zip(*events)\n",
    "\n",
    "avgs_t = get_mean(get_concat(customer_events_t))\n",
    "avgs_c = get_mean(get_concat(customer_events_c))\n",
    "if exp_type == \"lr_params\":\n",
    "    avgs_exp_treat = get_mean(get_concat(customer_events_exp_treat), l_type = 'l_treat')\n",
    "    avgs_exp_control = get_mean(get_concat(customer_events_exp_control), l_type = 'l_control')\n",
    "else:\n",
    "    avgs_exp_treat = get_mean(get_concat(customer_events_exp_treat))\n",
    "    avgs_exp_control = get_mean(get_concat(customer_events_exp_control))"
   ]
  },
  {
   "cell_type": "code",
   "execution_count": null,
   "metadata": {
    "ExecuteTime": {
     "start_time": "2023-12-12T14:53:47.475Z"
    }
   },
   "outputs": [],
   "source": [
    "def get_sds(dfs_t, dfs_c):\n",
    "    for dfs in [dfs_t, dfs_c]:\n",
    "        for df in dfs:\n",
    "            df[\"not_outside\"] = df[\"choice_type\"] != \"outside_option\" \n",
    "    if exp_type == \"lr_params\":\n",
    "        means = [np.array(get_mean(df_t, l_type=\"l_treat\"))-np.array(get_mean(df_c, l_type=\"l_control\")) for df_t,df_c  in zip(dfs_t, dfs_c)]\n",
    "    else:\n",
    "        means = [np.array(get_mean(df_t))-np.array(get_mean(df_c)) for df_t,df_c  in zip(dfs_t, dfs_c)]\n",
    "    return np.std(np.vstack(means), axis=0)/math.sqrt(len(dfs_t))\n",
    "\n",
    "sds_gte = get_sds(customer_events_t, customer_events_c)\n",
    "sds_cr = get_sds(customer_events_exp_treat, customer_events_exp_control)"
   ]
  },
  {
   "cell_type": "code",
   "execution_count": null,
   "metadata": {
    "ExecuteTime": {
     "start_time": "2023-12-12T14:53:48.162Z"
    }
   },
   "outputs": [],
   "source": [
    "def get_sds_bias(dfs_t, dfs_c, dfs_exp_t, dfs_exp_c):\n",
    "    for dfs in [dfs_t, dfs_c, dfs_exp_t, dfs_exp_c]:\n",
    "        for df in dfs:\n",
    "            df[\"not_outside\"] = df[\"choice_type\"] != \"outside_option\" \n",
    "    if exp_type == \"lr_params\":\n",
    "        means = [(np.array(get_mean(df_exp_t, l_type=\"l_treat\")) - np.array(get_mean(df_exp_c, l_type=\"l_control\"))) - (np.array(get_mean(df_t))-np.array(get_mean(df_c))) for df_t,df_c,df_exp_t,df_exp_c  in zip(dfs_t, dfs_c, dfs_exp_t, dfs_exp_c)]\n",
    "    else:\n",
    "        means = [(np.array(get_mean(df_exp_t))-np.array(get_mean(df_exp_c))) - (np.array(get_mean(df_t))-np.array(get_mean(df_c))) for df_t,df_c,df_exp_t,df_exp_c  in zip(dfs_t, dfs_c, dfs_exp_t, dfs_exp_c)]\n",
    "    return np.std(np.vstack(means), axis=0)/math.sqrt(len(dfs_t))\n",
    "\n",
    "sds_bias = get_sds_bias(customer_events_t, customer_events_c, customer_events_exp_treat, customer_events_exp_control)"
   ]
  },
  {
   "cell_type": "code",
   "execution_count": null,
   "metadata": {
    "ExecuteTime": {
     "end_time": "2023-12-13T01:53:20.995671Z",
     "start_time": "2023-12-13T01:53:12.715715Z"
    }
   },
   "outputs": [],
   "source": [
    "fig, axes = plt.subplots(nrows = 1, ncols = 3, figsize=(18,4))\n",
    "\n",
    "def purchase_rate_plot(ax, avgs_t, avgs_c, avgs_exp_treat, avgs_exp_control, prefix = \"CR\"):\n",
    "    ax.plot(avgs_t, label=\"Global treatment\")\n",
    "    ax.plot(avgs_c, label=\"Global control\")\n",
    "    ax.plot(avgs_exp_treat, label=prefix + \" treatment\")\n",
    "    ax.plot(avgs_exp_control, label=prefix + \" control\")\n",
    "    ax.legend()\n",
    "    ax.set_xlabel(\"Time\")\n",
    "    ax.set_ylabel(\"Purchase rate\")\n",
    "    \n",
    "def effect_size_plot(ax, avgs_t, avgs_c, avgs_exp_treat, avgs_exp_control, sds_gte, sds_cr):\n",
    "    effects = avgs_t - avgs_c\n",
    "    ax.plot(effects, label=\"Global average treatment effect\")\n",
    "    ax.fill_between(range(T_1), effects + sds_gte[0], effects - sds_gte[1], alpha=0.2, label=\"S.E. of GATE\")\n",
    "    effects = avgs_exp_treat - avgs_exp_control\n",
    "    ax.plot(effects, label=\"Estimate using difference-in-means\")\n",
    "    ax.fill_between(range(T_1), effects + sds_cr[0], effects - sds_cr[1], alpha=0.2, label=\"S.E. of estimator\")\n",
    "    ax.legend()\n",
    "    ax.set_xlabel(\"Time\")\n",
    "    ax.set_ylabel(\"Effect size\")\n",
    "    \n",
    "def bias_plot(ax, avgs_t, avgs_c, avgs_exp_treat, avgs_exp_control, sds_bias):\n",
    "    biases = (avgs_exp_treat - avgs_exp_control) - (avgs_t - avgs_c)\n",
    "    ax.plot(biases, label=\"Bias of difference-in-means estimator\")\n",
    "    ax.fill_between(range(T_1), biases + sds_bias[0], biases - sds_bias[1], alpha=0.2, label=\"S.E. of estimator\")\n",
    "    ax.legend()\n",
    "    ax.set_xlabel(\"Time\")\n",
    "    ax.set_ylabel(\"Bias\")\n",
    "\n",
    "purchase_rate_plot(axes[0], avgs_t, avgs_c, avgs_exp_treat, avgs_exp_control, prefix=\"LR\")\n",
    "effect_size_plot(axes[1], avgs_t, avgs_c, avgs_exp_treat, avgs_exp_control, sds_gte, sds_cr)\n",
    "bias_plot(axes[2], avgs_t, avgs_c, avgs_exp_treat, avgs_exp_control, sds_bias)\n",
    "plt.savefig(\"lr_herdingovertime.png\", dpi=1000)"
   ]
  },
  {
   "cell_type": "markdown",
   "metadata": {},
   "source": [
    "# Simulations"
   ]
  },
  {
   "cell_type": "markdown",
   "metadata": {},
   "source": [
    "Setting simulation parameters. Remaining model parameters as defined in mean field parameters."
   ]
  },
  {
   "cell_type": "markdown",
   "metadata": {},
   "source": [
    "Define choice set type. If 'alpha', customers sample items into consideration set with prob alpha. If 'finite_k', each customer draws a fixed $k$ number of items into their consideration set."
   ]
  },
  {
   "cell_type": "markdown",
   "metadata": {},
   "source": [
    "## Herding"
   ]
  },
  {
   "cell_type": "code",
   "execution_count": null,
   "metadata": {
    "ExecuteTime": {
     "end_time": "2023-12-08T04:15:05.392070Z",
     "start_time": "2023-12-08T04:14:09.858792Z"
    }
   },
   "outputs": [],
   "source": [
    "events_herding = sim_wrapper.run_all_sims(n_runs, n_listings, T_start, T_end, \n",
    "                                  choice_set_type, k,\n",
    "                                 alpha, epsilon, tau, lams,\n",
    "                                 **params, herding=True)\n",
    "est_stats_herding = sim_wrapper.calc_all_ests_stats(\"sample_\", T_start, T_end, \n",
    "                                            n_listings, tau=tau, \n",
    "                                            tsr_est_types=tsr_est_types,\n",
    "                                            events=events_herding, \n",
    "                                            varying_time_horizons=varying_time_horizons,\n",
    "                                            **params, fname_suffix=\"_herding.csv\"\n",
    "                                           )\n",
    "est_stats_herding = est_stats_herding.rename({'cr':\"Customer-Side\", 'lr':\"Product-Side\",\n",
    "                            'tsri_2.0':'TSRI-2', 'tsri_1.0':'TSRI-1',\n",
    "                             'tsr_est_naive':\"TSR-Naive\"\n",
    "                            })"
   ]
  },
  {
   "cell_type": "markdown",
   "metadata": {},
   "source": [
    "## Competition"
   ]
  },
  {
   "cell_type": "code",
   "execution_count": null,
   "metadata": {
    "ExecuteTime": {
     "end_time": "2023-12-08T04:01:12.656143Z",
     "start_time": "2023-12-08T03:52:20.207420Z"
    }
   },
   "outputs": [],
   "source": [
    "events_competition = sim_wrapper.run_all_sims(n_runs, n_listings, T_start, T_end, \n",
    "                                  choice_set_type, k,\n",
    "                                 alpha, epsilon, tau, lams,\n",
    "                                 **params, herding=False)\n",
    "est_stats_competition = sim_wrapper.calc_all_ests_stats(\"sample_\", T_start, T_end, \n",
    "                                            n_listings, tau=tau, \n",
    "                                            tsr_est_types=tsr_est_types,\n",
    "                                            events=events_competition, \n",
    "                                            varying_time_horizons=varying_time_horizons,\n",
    "                                            **params, fname_suffix=\"_competition.csv\"\n",
    "                                           )\n",
    "est_stats_competition = est_stats_competition.rename({'cr':\"Customer-Side\", 'lr':\"Product-Side\",\n",
    "                            'tsri_2.0':'TSRI-2', 'tsri_1.0':'TSRI-1',\n",
    "                             'tsr_est_naive':\"TSR-Naive\"\n",
    "                            })"
   ]
  },
  {
   "cell_type": "markdown",
   "metadata": {},
   "source": [
    "## Herding, no recency bias"
   ]
  },
  {
   "cell_type": "code",
   "execution_count": null,
   "metadata": {
    "ExecuteTime": {
     "end_time": "2023-12-06T02:36:59.190756Z",
     "start_time": "2023-12-06T02:35:44.193213Z"
    }
   },
   "outputs": [],
   "source": [
    "events_herding_no_recency = sim_wrapper.run_all_sims(n_runs, n_listings, T_start, T_end, \n",
    "                                  choice_set_type, k,\n",
    "                                 alpha, epsilon, tau, lams,\n",
    "                                 **params, herding=True, recency=False)\n",
    "est_stats_herding_no_recency = sim_wrapper.calc_all_ests_stats(\"sample_\", T_start, T_end, \n",
    "                                            n_listings, tau=tau, \n",
    "                                            tsr_est_types=tsr_est_types,\n",
    "                                            events=events_herding_no_recency, \n",
    "                                            varying_time_horizons=varying_time_horizons,\n",
    "                                            **params, fname_suffix=\"_herding_no_recency.csv\"\n",
    "                                           )\n",
    "est_stats_herding_no_recency = est_stats_herding_no_recency.rename({'cr':\"Customer-Side\", 'lr':\"Product-Side\",\n",
    "                            'tsri_2.0':'TSRI-2', 'tsri_1.0':'TSRI-1',\n",
    "                             'tsr_est_naive':\"TSR-Naive\"\n",
    "                            })"
   ]
  },
  {
   "cell_type": "markdown",
   "metadata": {},
   "source": [
    "# Simulations, varying relative user arrival time"
   ]
  },
  {
   "cell_type": "code",
   "execution_count": null,
   "metadata": {},
   "outputs": [],
   "source": [
    "events_herding = sim_wrapper.run_all_sims(n_runs, n_listings, T_start, T_end, \n",
    "                                  choice_set_type, k,\n",
    "                                 alpha, epsilon, tau, lams,\n",
    "                                 **params, herding=True)\n",
    "est_stats_herding = sim_wrapper.calc_all_ests_stats(\"sample_\", T_start, T_end, \n",
    "                                            n_listings, tau=tau, \n",
    "                                            tsr_est_types=tsr_est_types,\n",
    "                                            events=events_herding, \n",
    "                                            varying_time_horizons=varying_time_horizons,\n",
    "                                            **params, fname_suffix=\"_herding.csv\"\n",
    "                                           )\n",
    "est_stats_herding = est_stats_herding.rename({'cr':\"Customer-Side\", 'lr':\"Product-Side\",\n",
    "                            'tsri_2.0':'TSRI-2', 'tsri_1.0':'TSRI-1',\n",
    "                             'tsr_est_naive':\"TSR-Naive\"\n",
    "                            })\n",
    "\n"
   ]
  },
  {
   "cell_type": "markdown",
   "metadata": {},
   "source": [
    "# Visualizations"
   ]
  },
  {
   "cell_type": "markdown",
   "metadata": {},
   "source": [
    "## Visualizations: Herding"
   ]
  },
  {
   "cell_type": "code",
   "execution_count": 305,
   "metadata": {
    "ExecuteTime": {
     "end_time": "2023-12-12T04:00:52.638756Z",
     "start_time": "2023-12-12T04:00:52.463474Z"
    }
   },
   "outputs": [],
   "source": [
    "est_stats_herding = pd.read_csv(\"sample_total_stats_herding1000.csv\", index_col=[\"estimator_type\", \"lambda\"])\n",
    "\n",
    "est_stats_herding = est_stats_herding.rename({'cr':\"Customer-Side\", 'lr':\"Product-Side\",\n",
    "                            'tsri_2.0':'TSRI-2', 'tsri_1.0':'TSRI-1',\n",
    "                             'tsr_est_naive':\"TSR-Naive\"\n",
    "                            })\n",
    "#est_stats_herding = est_stats_herding.loc[[\"Customer-Side\", \"Product-Side\", \"TSR-Naive\", \"TSRI-1\", \"TSRI-2\"]]\n",
    "est_stats_herding = est_stats_herding.loc[[\"Customer-Side\", \"Product-Side\"]]"
   ]
  },
  {
   "cell_type": "code",
   "execution_count": 311,
   "metadata": {
    "ExecuteTime": {
     "end_time": "2023-12-12T04:07:17.913976Z",
     "start_time": "2023-12-12T04:07:09.050939Z"
    }
   },
   "outputs": [
    {
     "data": {
      "image/png": "[encoded data removed]",
      "text/plain": [
       "<Figure size 720x720 with 6 Axes>"
      ]
     },
     "metadata": {
      "needs_background": "light"
     },
     "output_type": "display_data"
    }
   ],
   "source": [
    "sim_wrapper.plot_all_stats(est_stats_herding, \"\", yscale=\"symlog\")\n",
    "plt.savefig(\"herding.svg\")"
   ]
  },
  {
   "cell_type": "markdown",
   "metadata": {},
   "source": [
    "## Visualizations: competition"
   ]
  },
  {
   "cell_type": "code",
   "execution_count": 312,
   "metadata": {
    "ExecuteTime": {
     "end_time": "2023-12-12T04:07:23.389817Z",
     "start_time": "2023-12-12T04:07:23.301854Z"
    }
   },
   "outputs": [],
   "source": [
    "est_stats_competition = pd.read_csv(\"sample_total_stats_competition.csv\", index_col=[\"estimator_type\", \"lambda\"])\n",
    "\n",
    "est_stats_competition = est_stats_competition.rename({'cr':\"Customer-Side\", 'lr':\"Product-Side\",\n",
    "                            'tsri_2.0':'TSRI-2', 'tsri_1.0':'TSRI-1',\n",
    "                             'tsr_est_naive':\"TSR-Naive\"\n",
    "                            })\n",
    "#est_stats_competition = est_stats_competition.loc[[\"Customer-Side\", \"Product-Side\", \"TSR-Naive\", \"TSRI-1\", \"TSRI-2\"]]\n",
    "est_stats_competition = est_stats_competition.loc[[\"Customer-Side\", \"Product-Side\"]]"
   ]
  },
  {
   "cell_type": "code",
   "execution_count": 313,
   "metadata": {
    "ExecuteTime": {
     "end_time": "2023-12-12T04:07:27.211225Z",
     "start_time": "2023-12-12T04:07:23.461596Z"
    }
   },
   "outputs": [
    {
     "data": {
      "image/png": "[encoded data removed]",
      "text/plain": [
       "<Figure size 720x720 with 6 Axes>"
      ]
     },
     "metadata": {
      "needs_background": "light"
     },
     "output_type": "display_data"
    }
   ],
   "source": [
    "sim_wrapper.plot_all_stats(est_stats_competition, \"\", yscale=\"symlog\")\n",
    "plt.savefig(\"competition.svg\")"
   ]
  },
  {
   "cell_type": "markdown",
   "metadata": {},
   "source": [
    "## Visualizations: Herding, no recency"
   ]
  },
  {
   "cell_type": "code",
   "execution_count": 387,
   "metadata": {
    "ExecuteTime": {
     "end_time": "2023-12-08T02:45:35.590436Z",
     "start_time": "2023-12-08T02:45:35.565972Z"
    }
   },
   "outputs": [],
   "source": [
    "est_stats_herding_no_recency = pd.read_csv(\"sample_total_stats_herding_no_recency100.csv\", index_col=[\"estimator_type\", \"lambda\"])\n",
    "\n",
    "est_stats_herding_no_recency = est_stats_herding_no_recency.rename({'cr':\"Customer-Side\", 'lr':\"Product-Side\",\n",
    "                            'tsri_2.0':'TSRI-2', 'tsri_1.0':'TSRI-1',\n",
    "                             'tsr_est_naive':\"TSR-Naive\"\n",
    "                            })\n",
    "est_stats_herding_no_recency = est_stats_herding_no_recency.loc[[\"Customer-Side\", \"Product-Side\", \"TSR-Naive\", \"TSRI-1\", \"TSRI-2\"]]"
   ]
  },
  {
   "cell_type": "code",
   "execution_count": 388,
   "metadata": {
    "ExecuteTime": {
     "end_time": "2023-12-08T02:45:39.456150Z",
     "start_time": "2023-12-08T02:45:35.951439Z"
    }
   },
   "outputs": [
    {
     "data": {
      "text/plain": [
       "(<Figure size 720x720 with 6 Axes>,\n",
       " array([[<AxesSubplot:xlabel='Relative user arrival rate $\\\\lambda/\\\\tau$', ylabel='Bias'>,\n",
       "         <AxesSubplot:xlabel='Relative user arrival rate $\\\\lambda/\\\\tau$', ylabel='Bias / GTE'>],\n",
       "        [<AxesSubplot:xlabel='Relative user arrival rate $\\\\lambda/\\\\tau$', ylabel='SE'>,\n",
       "         <AxesSubplot:xlabel='Relative user arrival rate $\\\\lambda/\\\\tau$', ylabel='SE / GTE'>],\n",
       "        [<AxesSubplot:xlabel='Relative user arrival rate $\\\\lambda/\\\\tau$', ylabel='RMSE'>,\n",
       "         <AxesSubplot:xlabel='Relative user arrival rate $\\\\lambda/\\\\tau$', ylabel='RMSE / GTE'>]],\n",
       "       dtype=object))"
      ]
     },
     "execution_count": 388,
     "metadata": {},
     "output_type": "execute_result"
    },
    {
     "data": {
      "image/png": "[encoded data removed]",
      "text/plain": [
       "<Figure size 720x720 with 6 Axes>"
      ]
     },
     "metadata": {
      "needs_background": "light"
     },
     "output_type": "display_data"
    }
   ],
   "source": [
    "sim_wrapper.plot_all_stats(est_stats_herding_no_recency, \"Herding (with no recency bias) Simulations\", yscale=\"symlog\")"
   ]
  },
  {
   "cell_type": "code",
   "execution_count": null,
   "metadata": {},
   "outputs": [],
   "source": []
  }
 ],
 "metadata": {
  "kernelspec": {
   "display_name": "Python 3 (ipykernel)",
   "language": "python",
   "name": "python3"
  },
  "language_info": {
   "codemirror_mode": {
    "name": "ipython",
    "version": 3
   },
   "file_extension": ".py",
   "mimetype": "text/x-python",
   "name": "python",
   "nbconvert_exporter": "python",
   "pygments_lexer": "ipython3",
   "version": "3.10.12"
  }
 },
 "nbformat": 4,
 "nbformat_minor": 4
}
