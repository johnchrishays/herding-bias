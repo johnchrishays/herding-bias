{
 "cells": [
  {
   "cell_type": "markdown",
   "metadata": {},
   "source": [
    "# Runs finite state space continuous time Markov chain with N listings."
   ]
  },
  {
   "cell_type": "code",
   "execution_count": 142,
   "metadata": {
    "ExecuteTime": {
     "end_time": "2023-12-06T14:38:08.308769Z",
     "start_time": "2023-12-06T14:38:08.300440Z"
    }
   },
   "outputs": [],
   "source": [
    "import numpy as np\n",
    "import pandas as pd\n",
    "import matplotlib.pyplot as plt\n",
    "import seaborn as sns\n",
    "import copy\n",
    "import csv\n",
    "import time\n",
    "import itertools\n",
    "from numpy import random\n",
    "from operator import itemgetter\n",
    "import importlib\n",
    "import multiprocessing as mp\n",
    "import json"
   ]
  },
  {
   "cell_type": "code",
   "execution_count": 143,
   "metadata": {
    "ExecuteTime": {
     "end_time": "2023-12-06T14:38:08.512582Z",
     "start_time": "2023-12-06T14:38:08.507613Z"
    }
   },
   "outputs": [],
   "source": [
    "import experiment_helper\n",
    "import exp_wrapper \n",
    "\n",
    "import finite_sim as sim\n",
    "import finite_sim_wrapper as sim_wrapper"
   ]
  },
  {
   "cell_type": "code",
   "execution_count": 144,
   "metadata": {
    "ExecuteTime": {
     "end_time": "2023-12-06T14:38:08.866986Z",
     "start_time": "2023-12-06T14:38:08.784814Z"
    }
   },
   "outputs": [
    {
     "data": {
      "text/plain": [
       "<module 'finite_sim_wrapper' from '/home/jhays/herding-bias/finite_sim_wrapper.py'>"
      ]
     },
     "execution_count": 144,
     "metadata": {},
     "output_type": "execute_result"
    }
   ],
   "source": [
    "importlib.reload(exp_wrapper)\n",
    "importlib.reload(experiment_helper)\n",
    "importlib.reload(sim)\n",
    "importlib.reload(sim_wrapper)"
   ]
  },
  {
   "cell_type": "markdown",
   "metadata": {},
   "source": [
    "# Setting parameters model parameters"
   ]
  },
  {
   "cell_type": "code",
   "execution_count": 167,
   "metadata": {
    "ExecuteTime": {
     "end_time": "2023-12-06T15:42:39.735366Z",
     "start_time": "2023-12-06T15:42:39.723378Z"
    }
   },
   "outputs": [],
   "source": [
    "alpha = 1\n",
    "epsilon = 1\n",
    "tau = 1\n",
    "lams = [ .1, 1, 10]\n",
    "\n",
    "\n",
    "tsr_ac_al_values = [.5]\n",
    "cr_a_C = 0.5\n",
    "lr_a_L = 0.5\n",
    "\n",
    "tsr_est_types = ['tsr_est_naive', 'tsri_1.0','tsri_2.0']+['mrd_avg']\n"
   ]
  },
  {
   "cell_type": "code",
   "execution_count": 168,
   "metadata": {
    "ExecuteTime": {
     "end_time": "2023-12-06T15:42:40.982632Z",
     "start_time": "2023-12-06T15:42:39.895585Z"
    }
   },
   "outputs": [
    {
     "name": "stdout",
     "output_type": "stream",
     "text": [
      "customer c1\n",
      "control {'l': 0.315}\n",
      "treatment {'l': 0.3937} \n",
      "\n",
      "Rhos: {'l': 1}\n",
      "Customer Proportions: {'c1': 1}\n"
     ]
    }
   ],
   "source": [
    "customer_types = ['c1']\n",
    "listing_types = ['l']\n",
    "exp_conditions = ['control', 'treat']\n",
    "rhos_pre_treat = {'l':1} #adds up to 1\n",
    "customer_proportions = {'c1':1} #adds up to 1\n",
    "\n",
    "# used for multiplicative utilities\n",
    "customer_type_base = {'c1':.315 }\n",
    "listing_type_base = {'l':1}\n",
    "exp_condition_base = {'control':1, 'treat':1.25}\n",
    "\n",
    "vs = {}\n",
    "#multiplicative -- default\n",
    "for c in customer_types:\n",
    "    vs[c] = {}\n",
    "    vs[c]['treat'] = {}   \n",
    "    vs[c]['control'] = {}\n",
    "    for l in listing_types:\n",
    "        for e in exp_conditions:\n",
    "            vs[c][e][l] = round(customer_type_base[c]\n",
    "                                *exp_condition_base[e]\n",
    "                                *listing_type_base[l],4)\n",
    "\n",
    "for c in customer_types:\n",
    "    print(\"customer\", c)\n",
    "    print(\"control\", vs[c]['control'])\n",
    "    print(\"treatment\", vs[c]['treat'], \"\\n\")\n",
    "print('Rhos:', rhos_pre_treat)\n",
    "print(\"Customer Proportions:\", customer_proportions)"
   ]
  },
  {
   "cell_type": "code",
   "execution_count": 169,
   "metadata": {
    "ExecuteTime": {
     "end_time": "2023-12-06T15:42:41.461816Z",
     "start_time": "2023-12-06T15:42:40.986253Z"
    }
   },
   "outputs": [],
   "source": [
    "params = sim_wrapper.calc_all_params(listing_types, rhos_pre_treat, \n",
    "                                     customer_types, customer_proportions, vs, \n",
    "                                    alpha, epsilon, tau, lams,\n",
    "                                    tsr_ac_al_values, cr_a_C, lr_a_L)"
   ]
  },
  {
   "cell_type": "code",
   "execution_count": 172,
   "metadata": {
    "ExecuteTime": {
     "end_time": "2023-12-06T15:45:49.652580Z",
     "start_time": "2023-12-06T15:45:49.642331Z"
    }
   },
   "outputs": [],
   "source": [
    "T_0 = 5\n",
    "T_1 = 25\n",
    "\n",
    "# normalizes time horizon by min(lam, tau)\n",
    "T_start = {lam: T_0/min(lam,tau) for lam in lams}\n",
    "T_end = {lam: T_1/min(lam,tau) for lam in lams}\n",
    "\n",
    "varying_time_horizons = True\n",
    "\n",
    "n_runs = 10\n",
    "n_listings = 100\n",
    "\n",
    "choice_set_type = 'alpha' #customers sample items into consideration set with prob alpha\n",
    "k = None"
   ]
  },
  {
   "cell_type": "markdown",
   "metadata": {},
   "source": [
    "# Figure out whats wrong with these sims"
   ]
  },
  {
   "cell_type": "code",
   "execution_count": 149,
   "metadata": {
    "ExecuteTime": {
     "end_time": "2023-12-06T15:29:04.790239Z",
     "start_time": "2023-12-06T15:29:04.767487Z"
    }
   },
   "outputs": [
    {
     "data": {
      "text/plain": [
       "{0.1: {'thetas_exp': ['l'],\n",
       "  'rhos_exp': {'l': 1},\n",
       "  'rhos_c': {'l': 1},\n",
       "  'rhos_t': {'l': 1},\n",
       "  'gammas_exp': ['c1_control', 'c1_treat'],\n",
       "  'gammas_c': ['c1_control'],\n",
       "  'gammas_t': ['c1_treat'],\n",
       "  'alpha_gammas': {'c1_control': 1, 'c1_treat': 1},\n",
       "  'lam_gammas_exp': {'c1_control': 0.05, 'c1_treat': 0.05},\n",
       "  'lam_gammas_c': {'c1_control': 0.1},\n",
       "  'lam_gammas_t': {'c1_treat': 0.1},\n",
       "  'v_gammas_exp': {'c1_control': {'l': 0.315}, 'c1_treat': {'l': 0.3937}},\n",
       "  'v_gammas_c': {'c1_control': {'l': 0.315}},\n",
       "  'v_gammas_t': {'c1_treat': {'l': 0.3937}}},\n",
       " 1: {'thetas_exp': ['l'],\n",
       "  'rhos_exp': {'l': 1},\n",
       "  'rhos_c': {'l': 1},\n",
       "  'rhos_t': {'l': 1},\n",
       "  'gammas_exp': ['c1_control', 'c1_treat'],\n",
       "  'gammas_c': ['c1_control'],\n",
       "  'gammas_t': ['c1_treat'],\n",
       "  'alpha_gammas': {'c1_control': 1, 'c1_treat': 1},\n",
       "  'lam_gammas_exp': {'c1_control': 0.5, 'c1_treat': 0.5},\n",
       "  'lam_gammas_c': {'c1_control': 1},\n",
       "  'lam_gammas_t': {'c1_treat': 1},\n",
       "  'v_gammas_exp': {'c1_control': {'l': 0.315}, 'c1_treat': {'l': 0.3937}},\n",
       "  'v_gammas_c': {'c1_control': {'l': 0.315}},\n",
       "  'v_gammas_t': {'c1_treat': {'l': 0.3937}}},\n",
       " 10: {'thetas_exp': ['l'],\n",
       "  'rhos_exp': {'l': 1},\n",
       "  'rhos_c': {'l': 1},\n",
       "  'rhos_t': {'l': 1},\n",
       "  'gammas_exp': ['c1_control', 'c1_treat'],\n",
       "  'gammas_c': ['c1_control'],\n",
       "  'gammas_t': ['c1_treat'],\n",
       "  'alpha_gammas': {'c1_control': 1, 'c1_treat': 1},\n",
       "  'lam_gammas_exp': {'c1_control': 5.0, 'c1_treat': 5.0},\n",
       "  'lam_gammas_c': {'c1_control': 10},\n",
       "  'lam_gammas_t': {'c1_treat': 10},\n",
       "  'v_gammas_exp': {'c1_control': {'l': 0.315}, 'c1_treat': {'l': 0.3937}},\n",
       "  'v_gammas_c': {'c1_control': {'l': 0.315}},\n",
       "  'v_gammas_t': {'c1_treat': {'l': 0.3937}}}}"
      ]
     },
     "execution_count": 149,
     "metadata": {},
     "output_type": "execute_result"
    }
   ],
   "source": [
    "params['cr_params']"
   ]
  },
  {
   "cell_type": "markdown",
   "metadata": {},
   "source": [
    "### TODO: test out different randomization schemes and see what is going on"
   ]
  },
  {
   "cell_type": "code",
   "execution_count": 155,
   "metadata": {
    "ExecuteTime": {
     "end_time": "2023-12-06T15:34:43.859367Z",
     "start_time": "2023-12-06T15:34:41.206095Z"
    }
   },
   "outputs": [],
   "source": [
    "s_full = {l: int(n_listings*rhos_pre_treat[l]) for l in rhos_pre_treat}\n",
    "lam = lams[2]\n",
    "\n",
    "T_0 = 5\n",
    "T_1 = 25\n",
    "\n",
    "# normalizes time horizon by min(lam, tau)\n",
    "T_start = T_0/min(lam,tau)\n",
    "T_end = T_1/min(lam,tau)\n",
    "\n",
    "lam_gammas = {c: lam for c in customer_proportions}\n",
    "vs = {}\n",
    "#multiplicative -- default\n",
    "for e in exp_conditions:\n",
    "    vs[e] = {}\n",
    "    for c in customer_types:\n",
    "        vs[e][c] = {}\n",
    "        for l in listing_types:\n",
    "            vs[e][c][l] = round(customer_type_base[c]\n",
    "                                *exp_condition_base[e]\n",
    "                                *listing_type_base[l],4)\n",
    "\n",
    "            \n",
    "herding = True\n",
    "recency = True\n",
    "\n",
    "mc_treat = sim.run_mc_listing_ids(choice_set_type=\"alpha\", \n",
    "           n=n_listings, \n",
    "           k=None, \n",
    "           s_0=copy.copy(s_full), \n",
    "           s_full=s_full, \n",
    "           T=T_end, \n",
    "           thetas=rhos_pre_treat, \n",
    "           gammas=customer_proportions, \n",
    "           vs=vs['treat'], \n",
    "           tau=tau, \n",
    "           lam_gammas=lam_gammas, \n",
    "           alpha=alpha, \n",
    "           epsilon=epsilon, \n",
    "           run_number=1, \n",
    "           herding=herding, \n",
    "           recency=recency)[\"events\"]\n",
    "\n",
    "mc_control = sim.run_mc_listing_ids(choice_set_type=\"alpha\", \n",
    "           n=n_listings, \n",
    "           k=None, \n",
    "           s_0=copy.copy(s_full), \n",
    "           s_full=s_full, \n",
    "           T=T_end, \n",
    "           thetas=rhos_pre_treat, \n",
    "           gammas=customer_proportions, \n",
    "           vs=vs['control'], \n",
    "           tau=tau, \n",
    "           lam_gammas=lam_gammas, \n",
    "           alpha=alpha, \n",
    "           epsilon=epsilon, \n",
    "           run_number=1, \n",
    "           herding=herding, \n",
    "           recency=recency)[\"events\"]\n"
   ]
  },
  {
   "cell_type": "code",
   "execution_count": 156,
   "metadata": {
    "ExecuteTime": {
     "end_time": "2023-12-06T15:34:45.239445Z",
     "start_time": "2023-12-06T15:34:43.861129Z"
    }
   },
   "outputs": [],
   "source": [
    "lam = lams[2]\n",
    "cr_params = params['cr_params'][lam]\n",
    "\n",
    "mc_cr = sim.run_mc_listing_ids(choice_set_type=\"alpha\", \n",
    "           n=n_listings, \n",
    "           k=None, \n",
    "           s_0=copy.copy(s_full), \n",
    "           s_full=s_full, \n",
    "           T=T_end, \n",
    "           thetas=cr_params[\"rhos_exp\"], \n",
    "           gammas=cr_params[\"gammas_exp\"], \n",
    "           vs=cr_params['v_gammas_exp'], \n",
    "           tau=tau, \n",
    "           lam_gammas=cr_params['lam_gammas_exp'], \n",
    "           alpha=alpha, \n",
    "           epsilon=epsilon, \n",
    "           run_number=1, \n",
    "           herding=herding, \n",
    "           recency=recency)[\"events\"]"
   ]
  },
  {
   "cell_type": "code",
   "execution_count": 154,
   "metadata": {
    "ExecuteTime": {
     "end_time": "2023-12-06T15:34:18.491052Z",
     "start_time": "2023-12-06T15:34:18.458768Z"
    }
   },
   "outputs": [
    {
     "data": {
      "text/html": [
       "<div>\n",
       "<style scoped>\n",
       "    .dataframe tbody tr th:only-of-type {\n",
       "        vertical-align: middle;\n",
       "    }\n",
       "\n",
       "    .dataframe tbody tr th {\n",
       "        vertical-align: top;\n",
       "    }\n",
       "\n",
       "    .dataframe thead th {\n",
       "        text-align: right;\n",
       "    }\n",
       "</style>\n",
       "<table border=\"1\" class=\"dataframe\">\n",
       "  <thead>\n",
       "    <tr style=\"text-align: right;\">\n",
       "      <th></th>\n",
       "      <th>l</th>\n",
       "      <th>time</th>\n",
       "      <th>is_replenished</th>\n",
       "      <th>is_customer</th>\n",
       "      <th>customer_type</th>\n",
       "      <th>choice_type</th>\n",
       "    </tr>\n",
       "  </thead>\n",
       "  <tbody>\n",
       "    <tr>\n",
       "      <th>0</th>\n",
       "      <td>100</td>\n",
       "      <td>0.000000</td>\n",
       "      <td>0</td>\n",
       "      <td>1</td>\n",
       "      <td>c1_control</td>\n",
       "      <td>outside_option</td>\n",
       "    </tr>\n",
       "    <tr>\n",
       "      <th>1</th>\n",
       "      <td>100</td>\n",
       "      <td>0.003297</td>\n",
       "      <td>0</td>\n",
       "      <td>1</td>\n",
       "      <td>c1_control</td>\n",
       "      <td>outside_option</td>\n",
       "    </tr>\n",
       "    <tr>\n",
       "      <th>2</th>\n",
       "      <td>100</td>\n",
       "      <td>0.003742</td>\n",
       "      <td>0</td>\n",
       "      <td>1</td>\n",
       "      <td>c1_treat</td>\n",
       "      <td>outside_option</td>\n",
       "    </tr>\n",
       "    <tr>\n",
       "      <th>3</th>\n",
       "      <td>100</td>\n",
       "      <td>0.003943</td>\n",
       "      <td>0</td>\n",
       "      <td>1</td>\n",
       "      <td>c1_control</td>\n",
       "      <td>outside_option</td>\n",
       "    </tr>\n",
       "    <tr>\n",
       "      <th>4</th>\n",
       "      <td>100</td>\n",
       "      <td>0.005672</td>\n",
       "      <td>0</td>\n",
       "      <td>1</td>\n",
       "      <td>c1_treat</td>\n",
       "      <td>outside_option</td>\n",
       "    </tr>\n",
       "    <tr>\n",
       "      <th>...</th>\n",
       "      <td>...</td>\n",
       "      <td>...</td>\n",
       "      <td>...</td>\n",
       "      <td>...</td>\n",
       "      <td>...</td>\n",
       "      <td>...</td>\n",
       "    </tr>\n",
       "    <tr>\n",
       "      <th>42023</th>\n",
       "      <td>820</td>\n",
       "      <td>24.997590</td>\n",
       "      <td>1</td>\n",
       "      <td>0</td>\n",
       "      <td>None</td>\n",
       "      <td>None</td>\n",
       "    </tr>\n",
       "    <tr>\n",
       "      <th>42024</th>\n",
       "      <td>819</td>\n",
       "      <td>24.998772</td>\n",
       "      <td>0</td>\n",
       "      <td>1</td>\n",
       "      <td>c1_control</td>\n",
       "      <td>l</td>\n",
       "    </tr>\n",
       "    <tr>\n",
       "      <th>42025</th>\n",
       "      <td>820</td>\n",
       "      <td>24.999638</td>\n",
       "      <td>1</td>\n",
       "      <td>0</td>\n",
       "      <td>None</td>\n",
       "      <td>None</td>\n",
       "    </tr>\n",
       "    <tr>\n",
       "      <th>42026</th>\n",
       "      <td>819</td>\n",
       "      <td>24.999740</td>\n",
       "      <td>1</td>\n",
       "      <td>0</td>\n",
       "      <td>None</td>\n",
       "      <td>None</td>\n",
       "    </tr>\n",
       "    <tr>\n",
       "      <th>42027</th>\n",
       "      <td>818</td>\n",
       "      <td>24.999852</td>\n",
       "      <td>0</td>\n",
       "      <td>1</td>\n",
       "      <td>c1_treat</td>\n",
       "      <td>l</td>\n",
       "    </tr>\n",
       "  </tbody>\n",
       "</table>\n",
       "<p>42028 rows × 6 columns</p>\n",
       "</div>"
      ],
      "text/plain": [
       "         l       time  is_replenished  is_customer customer_type  \\\n",
       "0      100   0.000000               0            1    c1_control   \n",
       "1      100   0.003297               0            1    c1_control   \n",
       "2      100   0.003742               0            1      c1_treat   \n",
       "3      100   0.003943               0            1    c1_control   \n",
       "4      100   0.005672               0            1      c1_treat   \n",
       "...    ...        ...             ...          ...           ...   \n",
       "42023  820  24.997590               1            0          None   \n",
       "42024  819  24.998772               0            1    c1_control   \n",
       "42025  820  24.999638               1            0          None   \n",
       "42026  819  24.999740               1            0          None   \n",
       "42027  818  24.999852               0            1      c1_treat   \n",
       "\n",
       "          choice_type  \n",
       "0      outside_option  \n",
       "1      outside_option  \n",
       "2      outside_option  \n",
       "3      outside_option  \n",
       "4      outside_option  \n",
       "...               ...  \n",
       "42023            None  \n",
       "42024               l  \n",
       "42025            None  \n",
       "42026            None  \n",
       "42027               l  \n",
       "\n",
       "[42028 rows x 6 columns]"
      ]
     },
     "execution_count": 154,
     "metadata": {},
     "output_type": "execute_result"
    }
   ],
   "source": [
    "mc_control"
   ]
  },
  {
   "cell_type": "code",
   "execution_count": 133,
   "metadata": {
    "ExecuteTime": {
     "end_time": "2023-12-06T02:53:26.965159Z",
     "start_time": "2023-12-06T02:53:26.515543Z"
    }
   },
   "outputs": [],
   "source": [
    "# with pd.option_context('display.max_rows', None, 'display.max_columns', None):  # more options can be specified also\n",
    "#     print(mc)"
   ]
  },
  {
   "cell_type": "code",
   "execution_count": 162,
   "metadata": {
    "ExecuteTime": {
     "end_time": "2023-12-06T15:40:25.449334Z",
     "start_time": "2023-12-06T15:40:25.089965Z"
    }
   },
   "outputs": [
    {
     "data": {
      "text/plain": [
       "<matplotlib.legend.Legend at 0x2aab32d86eb8>"
      ]
     },
     "execution_count": 162,
     "metadata": {},
     "output_type": "execute_result"
    },
    {
     "data": {
      "image/png": "[encoded data removed]",
      "text/plain": [
       "<Figure size 432x288 with 1 Axes>"
      ]
     },
     "metadata": {
      "needs_background": "light"
     },
     "output_type": "display_data"
    }
   ],
   "source": [
    "def get_rolling_avg(df, window):\n",
    "    return (df[\"choice_type\"] != \"outside_option\").rolling(window=window).mean()\n",
    "\n",
    "w = 10000\n",
    "\n",
    "customer_events_t = mc_treat[pd.notnull(mc_treat['choice_type'])]\n",
    "rolling_avg_t = get_rolling_avg(customer_events_t, w)\n",
    "\n",
    "customer_events_c = mc_control[pd.notnull(mc_control['choice_type'])]\n",
    "rolling_avg_c = get_rolling_avg(customer_events_c, w)\n",
    "\n",
    "customer_events_cr_control = mc_cr[pd.notnull(mc_cr['choice_type']) & (mc_cr['customer_type'] == 'c1_control')]\n",
    "rolling_avg_cr_control = get_rolling_avg(customer_events_cr_control, int(w/2))\n",
    "\n",
    "customer_events_cr_treat = mc_cr[pd.notnull(mc_cr['choice_type']) & (mc_cr['customer_type'] == 'c1_treat')]\n",
    "rolling_avg_cr_treat = get_rolling_avg(customer_events_cr_treat, int(w/2))\n",
    "\n",
    "\n",
    "\n",
    "plt.plot(rolling_avg_t, label=\"t\")\n",
    "plt.plot(rolling_avg_c, label=\"c\")\n",
    "plt.plot(rolling_avg_cr_treat, label=\"cr_t\")\n",
    "plt.plot(rolling_avg_cr_control, label=\"cr_c\")\n",
    "\n",
    "plt.legend()\n"
   ]
  },
  {
   "cell_type": "code",
   "execution_count": 137,
   "metadata": {
    "ExecuteTime": {
     "end_time": "2023-12-06T02:53:54.607465Z",
     "start_time": "2023-12-06T02:53:54.396594Z"
    }
   },
   "outputs": [
    {
     "data": {
      "text/plain": [
       "[<matplotlib.lines.Line2D at 0x2aab32060908>]"
      ]
     },
     "execution_count": 137,
     "metadata": {},
     "output_type": "execute_result"
    },
    {
     "data": {
      "image/png": "[encoded data removed]",
      "text/plain": [
       "<Figure size 432x288 with 1 Axes>"
      ]
     },
     "metadata": {
      "needs_background": "light"
     },
     "output_type": "display_data"
    }
   ],
   "source": [
    "dsef get_notnull(df):\n",
    "    df[pd.notnull(df['choice_type'])]\n",
    "\n",
    "customer_events_t = get_not_null(df)\n",
    "customer_events_c = mc_control[pd.notnull(mc_control['choice_type'])]\n",
    "\n",
    "\n",
    "plt.plot(customer_events_t['l'].rolling(window=1000).mean(), label=\"t\")\n",
    "plt.plot(customer_events_c['l'].rolling(window=1000).mean(), label=\"c\")"
   ]
  },
  {
   "cell_type": "markdown",
   "metadata": {},
   "source": [
    "# Simulations"
   ]
  },
  {
   "cell_type": "markdown",
   "metadata": {},
   "source": [
    "Setting simulation parameters. Remaining model parameters as defined in mean field parameters."
   ]
  },
  {
   "cell_type": "markdown",
   "metadata": {},
   "source": [
    "Define choice set type. If 'alpha', customers sample items into consideration set with prob alpha. If 'finite_k', each customer draws a fixed $k$ number of items into their consideration set."
   ]
  },
  {
   "cell_type": "markdown",
   "metadata": {},
   "source": [
    "## Herding"
   ]
  },
  {
   "cell_type": "code",
   "execution_count": 175,
   "metadata": {
    "ExecuteTime": {
     "end_time": "2023-12-06T15:48:49.894761Z",
     "start_time": "2023-12-06T15:47:39.503281Z"
    }
   },
   "outputs": [
    {
     "name": "stdout",
     "output_type": "stream",
     "text": [
      "lambda= 0.1\n",
      "Time elapsed:  9.3\n",
      "lambda= 1\n",
      "Time elapsed:  9.3\n",
      "lambda= 10\n",
      "Time elapsed:  50.74\n"
     ]
    }
   ],
   "source": [
    "events_herding = sim_wrapper.run_all_sims(n_runs, n_listings, T_start, T_end, \n",
    "                                  choice_set_type, k,\n",
    "                                 alpha, epsilon, tau, lams,\n",
    "                                 **params, herding=True)\n",
    "est_stats_herding = sim_wrapper.calc_all_ests_stats(\"sample\", T_start, T_end, \n",
    "                                            n_listings, tau=tau, \n",
    "                                            tsr_est_types=tsr_est_types,\n",
    "                                            events=events_herding, \n",
    "                                            varying_time_horizons=varying_time_horizons,\n",
    "                                            **params\n",
    "                                           )\n",
    "est_stats_herding = est_stats_herding.rename({'cr':\"Customer-Side\", 'lr':\"Product-Side\",\n",
    "                            'tsri_2.0':'TSRI-2', 'tsri_1.0':'TSRI-1',\n",
    "                             'tsr_est_naive':\"TSR-Naive\"\n",
    "                            })"
   ]
  },
  {
   "cell_type": "markdown",
   "metadata": {},
   "source": [
    "## Competition"
   ]
  },
  {
   "cell_type": "code",
   "execution_count": 29,
   "metadata": {
    "ExecuteTime": {
     "end_time": "2023-12-05T21:51:43.393103Z",
     "start_time": "2023-12-05T21:46:37.123462Z"
    }
   },
   "outputs": [
    {
     "name": "stdout",
     "output_type": "stream",
     "text": [
      "lambda= 0.1\n",
      "Time elapsed:  49.43\n",
      "lambda= 1\n",
      "Time elapsed:  50.13\n",
      "lambda= 10\n",
      "Time elapsed:  201.13\n"
     ]
    }
   ],
   "source": [
    "events_competition = sim_wrapper.run_all_sims(n_runs, n_listings, T_start, T_end, \n",
    "                                  choice_set_type, k,\n",
    "                                 alpha, epsilon, tau, lams,\n",
    "                                 **params, herding=False)\n",
    "est_stats_competition = sim_wrapper.calc_all_ests_stats(\"sample\", T_start, T_end, \n",
    "                                            n_listings, tau=tau, \n",
    "                                            tsr_est_types=tsr_est_types,\n",
    "                                            events=events_competition, \n",
    "                                            varying_time_horizons=varying_time_horizons,\n",
    "                                            **params\n",
    "                                           )\n",
    "est_stats_competition = est_stats_competition.rename({'cr':\"Customer-Side\", 'lr':\"Product-Side\",\n",
    "                            'tsri_2.0':'TSRI-2', 'tsri_1.0':'TSRI-1',\n",
    "                             'tsr_est_naive':\"TSR-Naive\"\n",
    "                            })"
   ]
  },
  {
   "cell_type": "markdown",
   "metadata": {},
   "source": [
    "# Herding, no recency bias"
   ]
  },
  {
   "cell_type": "code",
   "execution_count": 87,
   "metadata": {
    "ExecuteTime": {
     "end_time": "2023-12-06T02:36:59.190756Z",
     "start_time": "2023-12-06T02:35:44.193213Z"
    }
   },
   "outputs": [
    {
     "name": "stdout",
     "output_type": "stream",
     "text": [
      "lambda= 0.1\n",
      "Time elapsed:  18.46\n",
      "lambda= 1\n",
      "Time elapsed:  6.33\n",
      "lambda= 10\n",
      "Time elapsed:  35.33\n"
     ]
    }
   ],
   "source": [
    "events_herding_no_recency = sim_wrapper.run_all_sims(n_runs, n_listings, T_start, T_end, \n",
    "                                  choice_set_type, k,\n",
    "                                 alpha, epsilon, tau, lams,\n",
    "                                 **params, herding=True, recency=False)\n",
    "est_stats_herding_no_recency = sim_wrapper.calc_all_ests_stats(\"sample\", T_start, T_end, \n",
    "                                            n_listings, tau=tau, \n",
    "                                            tsr_est_types=tsr_est_types,\n",
    "                                            events=events_herding_no_recency, \n",
    "                                            varying_time_horizons=varying_time_horizons,\n",
    "                                            **params\n",
    "                                           )\n",
    "est_stats_herding_no_recency = est_stats_herding_no_recency.rename({'cr':\"Customer-Side\", 'lr':\"Product-Side\",\n",
    "                            'tsri_2.0':'TSRI-2', 'tsri_1.0':'TSRI-1',\n",
    "                             'tsr_est_naive':\"TSR-Naive\"\n",
    "                            })"
   ]
  },
  {
   "cell_type": "markdown",
   "metadata": {},
   "source": [
    "# Visualizations"
   ]
  },
  {
   "cell_type": "markdown",
   "metadata": {},
   "source": [
    "## Visualizations: Herding"
   ]
  },
  {
   "cell_type": "code",
   "execution_count": 176,
   "metadata": {
    "ExecuteTime": {
     "end_time": "2023-12-06T15:48:56.194054Z",
     "start_time": "2023-12-06T15:48:56.178326Z"
    }
   },
   "outputs": [],
   "source": [
    "#est_stats_herding = pd.read_csv(\"sample_total_stats_herding.csv\", index_col=[\"estimator_type\", \"lambda\"])\n",
    "\n",
    "est_stats_herding = est_stats_herding.rename({'cr':\"Customer-Side\", 'lr':\"Product-Side\",\n",
    "                            'tsri_2.0':'TSRI-2', 'tsri_1.0':'TSRI-1',\n",
    "                             'tsr_est_naive':\"TSR-Naive\"\n",
    "                            })\n",
    "est_stats_herding = est_stats_herding.loc[[\"Customer-Side\", \"Product-Side\", \"TSR-Naive\", \"TSRI-1\", \"TSRI-2\"]]"
   ]
  },
  {
   "cell_type": "code",
   "execution_count": 177,
   "metadata": {
    "ExecuteTime": {
     "end_time": "2023-12-06T15:49:05.468779Z",
     "start_time": "2023-12-06T15:49:03.576654Z"
    }
   },
   "outputs": [
    {
     "data": {
      "text/plain": [
       "(<Figure size 720x720 with 6 Axes>,\n",
       " array([[<AxesSubplot:xlabel='Relative user arrival rate $\\\\lambda/\\\\tau$', ylabel='Bias'>,\n",
       "         <AxesSubplot:xlabel='Relative user arrival rate $\\\\lambda/\\\\tau$', ylabel='Bias / GTE'>],\n",
       "        [<AxesSubplot:xlabel='Relative user arrival rate $\\\\lambda/\\\\tau$', ylabel='SE'>,\n",
       "         <AxesSubplot:xlabel='Relative user arrival rate $\\\\lambda/\\\\tau$', ylabel='SE / GTE'>],\n",
       "        [<AxesSubplot:xlabel='Relative user arrival rate $\\\\lambda/\\\\tau$', ylabel='RMSE'>,\n",
       "         <AxesSubplot:xlabel='Relative user arrival rate $\\\\lambda/\\\\tau$', ylabel='RMSE / GTE'>]],\n",
       "       dtype=object))"
      ]
     },
     "execution_count": 177,
     "metadata": {},
     "output_type": "execute_result"
    },
    {
     "data": {
      "image/png": "[encoded data removed]",
      "text/plain": [
       "<Figure size 720x720 with 6 Axes>"
      ]
     },
     "metadata": {
      "needs_background": "light"
     },
     "output_type": "display_data"
    }
   ],
   "source": [
    "sim_wrapper.plot_all_stats(est_stats_herding, \"Herding Simulations\", yscale=\"symlog\")"
   ]
  },
  {
   "cell_type": "markdown",
   "metadata": {},
   "source": [
    "## Visualizations: competition"
   ]
  },
  {
   "cell_type": "code",
   "execution_count": 178,
   "metadata": {
    "ExecuteTime": {
     "end_time": "2023-12-06T15:49:22.192289Z",
     "start_time": "2023-12-06T15:49:22.177372Z"
    }
   },
   "outputs": [],
   "source": [
    "#est_stats_competition = pd.read_csv(\"sample_total_stats_competition.csv\", index_col=[\"estimator_type\", \"lambda\"])\n",
    "\n",
    "est_stats_competition = est_stats_competition.rename({'cr':\"Customer-Side\", 'lr':\"Product-Side\",\n",
    "                            'tsri_2.0':'TSRI-2', 'tsri_1.0':'TSRI-1',\n",
    "                             'tsr_est_naive':\"TSR-Naive\"\n",
    "                            })\n",
    "est_stats_competition = est_stats_competition.loc[[\"Customer-Side\", \"Product-Side\", \"TSR-Naive\", \"TSRI-1\", \"TSRI-2\"]]"
   ]
  },
  {
   "cell_type": "code",
   "execution_count": 179,
   "metadata": {
    "ExecuteTime": {
     "end_time": "2023-12-06T15:49:24.016429Z",
     "start_time": "2023-12-06T15:49:22.396895Z"
    }
   },
   "outputs": [
    {
     "data": {
      "text/plain": [
       "(<Figure size 720x720 with 6 Axes>,\n",
       " array([[<AxesSubplot:xlabel='Relative user arrival rate $\\\\lambda/\\\\tau$', ylabel='Bias'>,\n",
       "         <AxesSubplot:xlabel='Relative user arrival rate $\\\\lambda/\\\\tau$', ylabel='Bias / GTE'>],\n",
       "        [<AxesSubplot:xlabel='Relative user arrival rate $\\\\lambda/\\\\tau$', ylabel='SE'>,\n",
       "         <AxesSubplot:xlabel='Relative user arrival rate $\\\\lambda/\\\\tau$', ylabel='SE / GTE'>],\n",
       "        [<AxesSubplot:xlabel='Relative user arrival rate $\\\\lambda/\\\\tau$', ylabel='RMSE'>,\n",
       "         <AxesSubplot:xlabel='Relative user arrival rate $\\\\lambda/\\\\tau$', ylabel='RMSE / GTE'>]],\n",
       "       dtype=object))"
      ]
     },
     "execution_count": 179,
     "metadata": {},
     "output_type": "execute_result"
    },
    {
     "data": {
      "image/png": "[encoded data removed]",
      "text/plain": [
       "<Figure size 720x720 with 6 Axes>"
      ]
     },
     "metadata": {
      "needs_background": "light"
     },
     "output_type": "display_data"
    }
   ],
   "source": [
    "sim_wrapper.plot_all_stats(est_stats_competition, \"Crowding Out Simulations\", yscale=\"symlog\")"
   ]
  },
  {
   "cell_type": "markdown",
   "metadata": {},
   "source": [
    "## Visualizations: Herding, no recency"
   ]
  },
  {
   "cell_type": "code",
   "execution_count": 89,
   "metadata": {
    "ExecuteTime": {
     "end_time": "2023-12-06T02:38:16.079871Z",
     "start_time": "2023-12-06T02:38:16.049858Z"
    }
   },
   "outputs": [],
   "source": [
    "est_stats_herding_no_recency = pd.read_csv(\"sample_total_stats_herding_no_recency.csv\", index_col=[\"estimator_type\", \"lambda\"])\n",
    "\n",
    "est_stats_herding_no_recency = est_stats_herding_no_recency.rename({'cr':\"Customer-Side\", 'lr':\"Product-Side\",\n",
    "                            'tsri_2.0':'TSRI-2', 'tsri_1.0':'TSRI-1',\n",
    "                             'tsr_est_naive':\"TSR-Naive\"\n",
    "                            })\n",
    "est_stats_herding_no_recency = est_stats_herding_no_recency.loc[[\"Customer-Side\", \"Product-Side\", \"TSR-Naive\", \"TSRI-1\", \"TSRI-2\"]]"
   ]
  },
  {
   "cell_type": "code",
   "execution_count": 90,
   "metadata": {
    "ExecuteTime": {
     "end_time": "2023-12-06T02:38:21.351412Z",
     "start_time": "2023-12-06T02:38:16.593143Z"
    }
   },
   "outputs": [
    {
     "data": {
      "text/plain": [
       "(<Figure size 720x720 with 6 Axes>,\n",
       " array([[<AxesSubplot:xlabel='Relative user arrival rate $\\\\lambda/\\\\tau$', ylabel='Bias'>,\n",
       "         <AxesSubplot:xlabel='Relative user arrival rate $\\\\lambda/\\\\tau$', ylabel='Bias / GTE'>],\n",
       "        [<AxesSubplot:xlabel='Relative user arrival rate $\\\\lambda/\\\\tau$', ylabel='SE'>,\n",
       "         <AxesSubplot:xlabel='Relative user arrival rate $\\\\lambda/\\\\tau$', ylabel='SE / GTE'>],\n",
       "        [<AxesSubplot:xlabel='Relative user arrival rate $\\\\lambda/\\\\tau$', ylabel='RMSE'>,\n",
       "         <AxesSubplot:xlabel='Relative user arrival rate $\\\\lambda/\\\\tau$', ylabel='RMSE / GTE'>]],\n",
       "       dtype=object))"
      ]
     },
     "execution_count": 90,
     "metadata": {},
     "output_type": "execute_result"
    },
    {
     "data": {
      "image/png": "[encoded data removed]",
      "text/plain": [
       "<Figure size 720x720 with 6 Axes>"
      ]
     },
     "metadata": {
      "needs_background": "light"
     },
     "output_type": "display_data"
    }
   ],
   "source": [
    "sim_wrapper.plot_all_stats(est_stats_herding_no_recency, \"Herding (with no recency bias) Simulations\", yscale=\"symlog\")"
   ]
  },
  {
   "cell_type": "code",
   "execution_count": null,
   "metadata": {},
   "outputs": [],
   "source": []
  }
 ],
 "metadata": {
  "kernelspec": {
   "display_name": "Python 3",
   "language": "python",
   "name": "python3"
  },
  "language_info": {
   "codemirror_mode": {
    "name": "ipython",
    "version": 3
   },
   "file_extension": ".py",
   "mimetype": "text/x-python",
   "name": "python",
   "nbconvert_exporter": "python",
   "pygments_lexer": "ipython3",
   "version": "3.6.8"
  }
 },
 "nbformat": 4,
 "nbformat_minor": 4
}
