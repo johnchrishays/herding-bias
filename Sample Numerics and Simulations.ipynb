{
 "cells": [
  {
   "cell_type": "markdown",
   "metadata": {},
   "source": [
    "# Runs numerics for mean field model and numerics in finite state space continuous time Markov chain with N listings."
   ]
  },
  {
   "cell_type": "code",
   "execution_count": 1,
   "metadata": {
    "ExecuteTime": {
     "end_time": "2023-11-30T01:29:48.690247Z",
     "start_time": "2023-11-30T01:29:46.040840Z"
    }
   },
   "outputs": [],
   "source": [
    "import numpy as np\n",
    "import pandas as pd\n",
    "import matplotlib.pyplot as plt\n",
    "import seaborn as sns\n",
    "import copy\n",
    "import csv\n",
    "import time\n",
    "import itertools\n",
    "from numpy import random\n",
    "from operator import itemgetter\n",
    "import importlib\n",
    "import multiprocessing as mp\n",
    "import json"
   ]
  },
  {
   "cell_type": "code",
   "execution_count": 2,
   "metadata": {
    "ExecuteTime": {
     "end_time": "2023-11-30T01:29:48.715009Z",
     "start_time": "2023-11-30T01:29:48.703641Z"
    }
   },
   "outputs": [],
   "source": [
    "import experiment_helper\n",
    "import exp_wrapper \n",
    "\n",
    "import finite_sim as sim\n",
    "import finite_sim_wrapper as sim_wrapper"
   ]
  },
  {
   "cell_type": "code",
   "execution_count": 3,
   "metadata": {
    "ExecuteTime": {
     "end_time": "2023-11-30T01:29:48.731844Z",
     "start_time": "2023-11-30T01:29:48.717341Z"
    }
   },
   "outputs": [
    {
     "data": {
      "text/plain": [
       "<module 'finite_sim_wrapper' from '/home/jhays/herding-bias/finite_sim_wrapper.py'>"
      ]
     },
     "execution_count": 3,
     "metadata": {},
     "output_type": "execute_result"
    }
   ],
   "source": [
    "importlib.reload(exp_wrapper)\n",
    "importlib.reload(experiment_helper)\n",
    "importlib.reload(sim)\n",
    "importlib.reload(sim_wrapper)"
   ]
  },
  {
   "cell_type": "markdown",
   "metadata": {},
   "source": [
    "# Setting parameters model parameters"
   ]
  },
  {
   "cell_type": "code",
   "execution_count": 4,
   "metadata": {
    "ExecuteTime": {
     "end_time": "2023-11-30T01:29:50.029827Z",
     "start_time": "2023-11-30T01:29:50.021170Z"
    }
   },
   "outputs": [],
   "source": [
    "alpha = 1\n",
    "epsilon = 1\n",
    "tau = 1\n",
    "lams = [ .1, 1, 10]\n",
    "\n",
    "\n",
    "tsr_ac_al_values = [.5]\n",
    "cr_a_C = 0.5\n",
    "lr_a_L = 0.5\n",
    "\n",
    "tsr_est_types = ['tsr_est_naive', 'tsri_1.0','tsri_2.0']\n"
   ]
  },
  {
   "cell_type": "code",
   "execution_count": 5,
   "metadata": {
    "ExecuteTime": {
     "end_time": "2023-11-30T01:29:50.729375Z",
     "start_time": "2023-11-30T01:29:50.709553Z"
    }
   },
   "outputs": [
    {
     "name": "stdout",
     "output_type": "stream",
     "text": [
      "customer c1\n",
      "control {'l': 0.315}\n",
      "treatment {'l': 0.3937} \n",
      "\n",
      "Rhos: {'l': 1}\n",
      "Customer Proportions: {'c1': 1}\n"
     ]
    }
   ],
   "source": [
    "customer_types = ['c1']\n",
    "listing_types = ['l']\n",
    "exp_conditions = ['control', 'treat']\n",
    "rhos_pre_treat = {'l':1} #adds up to 1\n",
    "customer_proportions = {'c1':1} #adds up to 1\n",
    "\n",
    "# used for multiplicative utilities\n",
    "customer_type_base = {'c1':.315 }\n",
    "listing_type_base = {'l':1}\n",
    "exp_condition_base = {'control':1, 'treat':1.25}\n",
    "\n",
    "vs = {}\n",
    "#multiplicative -- default\n",
    "for c in customer_types:\n",
    "    vs[c] = {}\n",
    "    vs[c]['treat'] = {}   \n",
    "    vs[c]['control'] = {}\n",
    "    for l in listing_types:\n",
    "        for e in exp_conditions:\n",
    "            vs[c][e][l] = round(customer_type_base[c]\n",
    "                                *exp_condition_base[e]\n",
    "                                *listing_type_base[l],4)\n",
    "\n",
    "for c in customer_types:\n",
    "    print(\"customer\", c)\n",
    "    print(\"control\", vs[c]['control'])\n",
    "    print(\"treatment\", vs[c]['treat'], \"\\n\")\n",
    "print('Rhos:', rhos_pre_treat)\n",
    "print(\"Customer Proportions:\", customer_proportions)"
   ]
  },
  {
   "cell_type": "markdown",
   "metadata": {
    "heading_collapsed": true
   },
   "source": [
    "# Mean Field performance\n"
   ]
  },
  {
   "cell_type": "markdown",
   "metadata": {
    "hidden": true
   },
   "source": [
    "Calculates the GTE and estimates in the mean field setting.  Solves for the mean field steady state in each experiment setting, along with global treatment and global control settings. "
   ]
  },
  {
   "cell_type": "code",
   "execution_count": 6,
   "metadata": {
    "ExecuteTime": {
     "end_time": "2023-11-30T01:29:52.517638Z",
     "start_time": "2023-11-30T01:29:52.498038Z"
    },
    "hidden": true
   },
   "outputs": [],
   "source": [
    "tsr_bias_mf = {}\n",
    "lr_bias_mf = {}\n",
    "cr_bias_mf = {}\n",
    "global_control_booking_probs_mf = {}\n",
    "global_treat_booking_probs_mf = {}\n",
    "gc_occupancy = {}\n",
    "gtes = {}\n",
    "gtes_norm = {}\n",
    "\n",
    "global_solutions = {}\n",
    "lr_solutions = {}\n",
    "cr_solutions = {}\n",
    "tsr_solutions = {}\n",
    "tsr_fixed_solutions = {}\n",
    "\n",
    "tsr_full_results = {}\n",
    "tsr_fixed_full_results = {}\n",
    "\n",
    "lr_params = {}\n",
    "cr_params = {}\n",
    "tsr_params = {}\n",
    "tsr_fixed_params = {}\n",
    "\n",
    "a_Cs = {}\n",
    "a_Ls = {}\n",
    "betas = {}\n",
    "scales = {}\n",
    "cr_side_weights = {}\n",
    "\n",
    "tsr_fixed_customer_comp = {}\n",
    "tsr_fixed_listing_comp = {}\n",
    "\n",
    "norm_constants = {}\n",
    "# normalize estimates and booking rates by min(lam, tau) to control for size of market\n",
    "for lam in lams:\n",
    "    norm_constants[lam] = 1 / min(lam, tau)\n",
    "\n",
    "for lam in lams:\n",
    "    betas[lam] =  np.exp(-1*lam/tau)\n",
    "    cr_side_weights[lam] = np.exp(-lam/tau)\n",
    "    a_Cs[lam] = 1/2 * betas[lam] + 1*(1-betas[lam])\n",
    "    a_Ls[lam] = 1 * betas[lam] + 1/2 * (1-betas[lam])\n",
    "    scales[lam] = betas[lam]*(1-betas[lam]) #how to scale competition terms\n"
   ]
  },
  {
   "cell_type": "code",
   "execution_count": 7,
   "metadata": {
    "ExecuteTime": {
     "end_time": "2023-11-30T01:29:53.165918Z",
     "start_time": "2023-11-30T01:29:53.073165Z"
    },
    "hidden": true
   },
   "outputs": [],
   "source": [
    "for lam in lams:\n",
    "    tsr_param = exp_wrapper.tsr_exp_induced_parameters(listing_types, rhos_pre_treat, \n",
    "                                                     a_Cs[lam], a_Ls[lam], \n",
    "                                                      customer_types, customer_proportions, \n",
    "                                                       alpha, vs, lam)\n",
    "    global_solution = exp_wrapper.calc_gte_from_exp_type(\"tsr\", tau, epsilon, \n",
    "                                                         **tsr_param) \n",
    "    global_solutions[lam] = global_solution\n",
    "    gtes[lam] = global_solution['gte']\n",
    "    gtes_norm[lam] = global_solution['gte']*norm_constants[lam]\n",
    "    \n",
    "    tsr_results = exp_wrapper.run_experiment(\"tsr\", epsilon, tau, **tsr_param,\n",
    "                                             a_C=a_Cs[lam],  a_L=a_Ls[lam], \n",
    "                                            customer_side_weight=cr_side_weights[lam],\n",
    "                                             scale=scales[lam]\n",
    "                                            )\n",
    "    \n",
    "    tsr_bias_mf[lam]={}\n",
    "    for tsr_est in tsr_est_types:\n",
    "        tsr_bias_mf[lam][tsr_est]= ((tsr_results['estimator'][tsr_est] - gtes[lam])\n",
    "                                    *norm_constants[lam])\n",
    "\n",
    "    lr_exp_param = exp_wrapper.listing_side_exp_induced_parameters(listing_types, rhos_pre_treat, lr_a_L,\n",
    "                                                                customer_types, \n",
    "                                                                  alpha, vs, lam, customer_proportions)\n",
    "    lr_sol = exp_wrapper.run_experiment(\"listing\", epsilon, tau,**lr_exp_param, a_L=lr_a_L)\n",
    "    lr_bias_mf[lam] = abs(lr_sol['estimator']['naive_est'] - gtes[lam])*norm_constants[lam]\n",
    "\n",
    "    \n",
    "    cr_exp_param = exp_wrapper.customer_side_exp_induced_parameters(listing_types, rhos_pre_treat, cr_a_C, \n",
    "                                                    customer_types, alpha, vs, lam, customer_proportions)\n",
    "    cr_sol = exp_wrapper.run_experiment(\"customer\",epsilon, tau, **cr_exp_param, a_C=cr_a_C)\n",
    "    cr_bias_mf[lam] = abs(cr_sol['estimator']['naive_est'] - gtes[lam])*norm_constants[lam]\n",
    "\n",
    "    "
   ]
  },
  {
   "cell_type": "code",
   "execution_count": 8,
   "metadata": {
    "ExecuteTime": {
     "end_time": "2023-11-30T01:29:53.711547Z",
     "start_time": "2023-11-30T01:29:53.687273Z"
    },
    "hidden": true
   },
   "outputs": [],
   "source": [
    "\n",
    "mf_bias_df = pd.DataFrame([cr_bias_mf, lr_bias_mf]\n",
    "                     + [{lam:tsr_bias_mf[lam][tsr_est] for lam in lams} \n",
    "                        for tsr_est in tsr_est_types],\n",
    "                        index=['cr', 'lr'] +tsr_est_types)\n",
    "mf_bias_df = pd.DataFrame(mf_bias_df.stack())\n",
    "mf_bias_df.index.names = ['estimator_type', 'lambda']\n",
    "mf_bias_df = mf_bias_df.rename(columns={0:'bias'})\n",
    "mf_bias_df['dummy'] = 1"
   ]
  },
  {
   "cell_type": "markdown",
   "metadata": {
    "hidden": true
   },
   "source": [
    "### Comparing Estimators in mean field"
   ]
  },
  {
   "cell_type": "code",
   "execution_count": 12,
   "metadata": {
    "ExecuteTime": {
     "end_time": "2023-11-30T00:02:11.942562Z",
     "start_time": "2023-11-30T00:02:11.928635Z"
    },
    "hidden": true
   },
   "outputs": [],
   "source": [
    "rgb_dict = {'cr': (0, 114, 178), 'lr':(255, 127, 14),\n",
    "          'tsrn':(0, 158, 115), 'tsri1':(240, 228, 66), \n",
    "            'tsri2':(204, 121, 167),\n",
    "          'cluster':(86, 180, 233)}\n",
    "\n",
    "rgb_0_1_array = np.array(list(rgb_dict.values()))/255\n"
   ]
  },
  {
   "cell_type": "code",
   "execution_count": 10,
   "metadata": {
    "ExecuteTime": {
     "end_time": "2023-11-29T17:07:06.636792Z",
     "start_time": "2023-11-29T17:06:56.431452Z"
    },
    "hidden": true
   },
   "outputs": [
    {
     "data": {
      "image/png": "[encoded data removed]",
      "text/plain": [
       "<Figure size 432x288 with 1 Axes>"
      ]
     },
     "metadata": {
      "needs_background": "light"
     },
     "output_type": "display_data"
    }
   ],
   "source": [
    "ax = plt.figure().add_subplot(111)\n",
    "df = ((mf_bias_df\n",
    "         .rename({'tsr_est_gw':'Two-Sided', 'cr':\"Customer-Side\", 'lr':\"Listing-Side\",\n",
    "                 'tsri_2.0':'TSRI-2', 'tsri_1.0':'TSRI-1',\n",
    "                 'tsr_est_naive':\"TSR-Naive\"}, \n",
    "                 level=0)\n",
    "         .unstack(level=1)['bias']/gtes_norm)\n",
    "         .abs()\n",
    "         .reindex([\"Customer-Side\", \"Listing-Side\", \n",
    "                   \"TSR-Naive\",\n",
    "                   'TSRI-1',\n",
    "                   'TSRI-2'])\n",
    "        ).T\n",
    "\n",
    "\n",
    "df.plot(ax=ax, kind='bar', color=rgb_0_1_array)\n",
    "plt.xlabel(\"Relative Demand $\\lambda/\\\\tau$\")\n",
    "plt.yscale('log')\n",
    "plt.legend(loc=[1.02,0.5])\n",
    "\n",
    "\n",
    "plt.title(\"Mean Field Bias\")\n",
    "plt.ylabel(\"Bias/GTE\")\n",
    "plt.tight_layout()\n",
    "sns.despine()\n"
   ]
  },
  {
   "cell_type": "markdown",
   "metadata": {},
   "source": [
    "# Simulations"
   ]
  },
  {
   "cell_type": "markdown",
   "metadata": {},
   "source": [
    "Setting simulation parameters. Remaining model parameters as defined in mean field parameters."
   ]
  },
  {
   "cell_type": "code",
   "execution_count": 9,
   "metadata": {
    "ExecuteTime": {
     "end_time": "2023-11-30T01:30:03.743045Z",
     "start_time": "2023-11-30T01:30:03.734775Z"
    }
   },
   "outputs": [],
   "source": [
    "T_0 = 5\n",
    "T_1 = 25\n",
    "\n",
    "# normalizes time horizon by min(lam, tau)\n",
    "T_start = {lam: T_0/min(lam,tau) for lam in lams}\n",
    "T_end = {lam: T_1/min(lam,tau) for lam in lams}\n",
    "\n",
    "varying_time_horizons = True\n",
    "\n",
    "n_runs = 100\n",
    "n_listings = 100"
   ]
  },
  {
   "cell_type": "markdown",
   "metadata": {},
   "source": [
    "Define choice set type. If 'alpha', customers sample items into consideration set with prob alpha. If 'finite_k', each customer draws a fixed $k$ number of items into their consideration set."
   ]
  },
  {
   "cell_type": "code",
   "execution_count": 10,
   "metadata": {
    "ExecuteTime": {
     "end_time": "2023-11-30T01:30:05.087213Z",
     "start_time": "2023-11-30T01:30:05.082433Z"
    }
   },
   "outputs": [],
   "source": [
    "choice_set_type = 'alpha' #customers sample items into consideration set with prob alpha\n",
    "k = None"
   ]
  },
  {
   "cell_type": "code",
   "execution_count": 11,
   "metadata": {
    "ExecuteTime": {
     "end_time": "2023-11-30T01:30:05.704804Z",
     "start_time": "2023-11-30T01:30:05.698416Z"
    }
   },
   "outputs": [],
   "source": [
    "params = sim_wrapper.calc_all_params(listing_types, rhos_pre_treat, \n",
    "                                     customer_types, customer_proportions, vs, \n",
    "                                    alpha, epsilon, tau, lams,\n",
    "                                    tsr_ac_al_values, cr_a_C, lr_a_L)"
   ]
  },
  {
   "cell_type": "markdown",
   "metadata": {},
   "source": [
    "## Herding"
   ]
  },
  {
   "cell_type": "code",
   "execution_count": 12,
   "metadata": {
    "ExecuteTime": {
     "end_time": "2023-11-30T02:06:06.073376Z",
     "start_time": "2023-11-30T01:30:08.558672Z"
    }
   },
   "outputs": [
    {
     "name": "stdout",
     "output_type": "stream",
     "text": [
      "lambda= 0.1\n",
      "Time elapsed:  342.95\n",
      "lambda= 1\n",
      "Time elapsed:  298.57\n",
      "lambda= 10\n",
      "Time elapsed:  1510.37\n"
     ]
    }
   ],
   "source": [
    "events_herding = sim_wrapper.run_all_sims(n_runs, n_listings, T_start, T_end, \n",
    "                                  choice_set_type, k,\n",
    "                                 alpha, epsilon, tau, lams,\n",
    "                                 **params, herding=True)\n",
    "est_stats_herding = sim_wrapper.calc_all_ests_stats(\"sample\", T_start, T_end, \n",
    "                                            n_listings, tau=tau, \n",
    "                                            tsr_est_types=tsr_est_types,\n",
    "                                            events=events_herding, \n",
    "                                            varying_time_horizons=varying_time_horizons,\n",
    "                                            **params\n",
    "                                           )"
   ]
  },
  {
   "cell_type": "code",
   "execution_count": 13,
   "metadata": {
    "ExecuteTime": {
     "end_time": "2023-11-30T02:06:06.084747Z",
     "start_time": "2023-11-30T02:06:06.075482Z"
    }
   },
   "outputs": [],
   "source": [
    "est_stats_herding = est_stats_herding.rename({'cr':\"Customer-Side\", 'lr':\"Service-Side\",\n",
    "                            'tsri_2.0':'TSRI-2', 'tsri_1.0':'TSRI-1',\n",
    "                             'tsr_est_naive':\"TSR-Naive\"\n",
    "                            })"
   ]
  },
  {
   "cell_type": "markdown",
   "metadata": {},
   "source": [
    "## Competition"
   ]
  },
  {
   "cell_type": "code",
   "execution_count": 14,
   "metadata": {
    "ExecuteTime": {
     "end_time": "2023-11-30T02:43:25.011225Z",
     "start_time": "2023-11-30T02:06:06.087256Z"
    }
   },
   "outputs": [
    {
     "name": "stdout",
     "output_type": "stream",
     "text": [
      "lambda= 0.1\n",
      "Time elapsed:  370.3\n",
      "lambda= 1\n",
      "Time elapsed:  320.93\n",
      "lambda= 10\n",
      "Time elapsed:  1542.52\n"
     ]
    }
   ],
   "source": [
    "events_competition = sim_wrapper.run_all_sims(n_runs, n_listings, T_start, T_end, \n",
    "                                  choice_set_type, k,\n",
    "                                 alpha, epsilon, tau, lams,\n",
    "                                 **params)\n",
    "est_stats_competition = sim_wrapper.calc_all_ests_stats(\"sample\", T_start, T_end, \n",
    "                                            n_listings, tau=tau, \n",
    "                                            tsr_est_types=tsr_est_types,\n",
    "                                            events=events_competition, \n",
    "                                            varying_time_horizons=varying_time_horizons,\n",
    "                                            **params\n",
    "                                           )"
   ]
  },
  {
   "cell_type": "code",
   "execution_count": 15,
   "metadata": {
    "ExecuteTime": {
     "end_time": "2023-11-30T02:43:25.028772Z",
     "start_time": "2023-11-30T02:43:25.018269Z"
    }
   },
   "outputs": [],
   "source": [
    "est_stats_competition = est_stats_competition.rename({'cr':\"Customer-Side\", 'lr':\"Service-Side\",\n",
    "                            'tsri_2.0':'TSRI-2', 'tsri_1.0':'TSRI-1',\n",
    "                             'tsr_est_naive':\"TSR-Naive\"\n",
    "                            })"
   ]
  },
  {
   "cell_type": "markdown",
   "metadata": {},
   "source": [
    "## Visualizations: Herding"
   ]
  },
  {
   "cell_type": "code",
   "execution_count": 16,
   "metadata": {
    "ExecuteTime": {
     "end_time": "2023-11-30T02:45:01.612017Z",
     "start_time": "2023-11-30T02:45:01.603267Z"
    }
   },
   "outputs": [],
   "source": [
    "rgb_dict = {'cr': (0, 114, 178), 'lr':(255, 127, 14),\n",
    "          'tsrn':(0, 158, 115), 'tsri1':(240, 228, 66), \n",
    "            'tsri2':(204, 121, 167),\n",
    "          'cluster':(86, 180, 233)}\n",
    "\n",
    "rgb_0_1_array = np.array(list(rgb_dict.values()))/255"
   ]
  },
  {
   "cell_type": "code",
   "execution_count": 35,
   "metadata": {
    "ExecuteTime": {
     "end_time": "2023-11-30T03:07:36.994130Z",
     "start_time": "2023-11-30T03:07:36.610033Z"
    }
   },
   "outputs": [
    {
     "data": {
      "image/png": "[encoded data removed]",
      "text/plain": [
       "<Figure size 432x288 with 1 Axes>"
      ]
     },
     "metadata": {
      "needs_background": "light"
     },
     "output_type": "display_data"
    }
   ],
   "source": [
    "stat = 'bias_over_GTE'\n",
    "\n",
    "(est_stats_herding\n",
    " .unstack(level=0)[stat]\n",
    " .plot(kind='bar', color=rgb_0_1_array))\n",
    "\n",
    "#plt.yscale('log')\n",
    "plt.title(\"Herding Simulations: Bias\")\n",
    "plt.legend(loc=[1.02,0.5])\n",
    "plt.ylabel(\"Bias/GTE\")\n",
    "plt.xlabel(\"Relative Demand $\\lambda/\\\\tau$\")\n",
    "plt.tight_layout()\n",
    "sns.despine()\n",
    "plt.savefig(\"herding_bias.svg\")"
   ]
  },
  {
   "cell_type": "code",
   "execution_count": 21,
   "metadata": {
    "ExecuteTime": {
     "end_time": "2023-11-30T02:45:44.333833Z",
     "start_time": "2023-11-30T02:45:44.032824Z"
    }
   },
   "outputs": [
    {
     "data": {
      "image/png": "[encoded data removed]",
      "text/plain": [
       "<Figure size 432x288 with 1 Axes>"
      ]
     },
     "metadata": {
      "needs_background": "light"
     },
     "output_type": "display_data"
    }
   ],
   "source": [
    "stat = 'std_over_GTE'\n",
    "\n",
    "(est_stats_herding\n",
    " .unstack(level=0)[stat]\n",
    " .plot(kind='bar',color=rgb_0_1_array))\n",
    "\n",
    "\n",
    "plt.xlabel(\"Relative Demand $\\lambda/\\\\tau$\")\n",
    "plt.title(\"Herding Simulations: Standard Error\")\n",
    "plt.legend(loc=[1.02,0.5])\n",
    "plt.ylabel(\"Standard Error/GTE\")\n",
    "plt.tight_layout()\n",
    "sns.despine()\n"
   ]
  },
  {
   "cell_type": "code",
   "execution_count": 22,
   "metadata": {
    "ExecuteTime": {
     "end_time": "2023-11-30T02:45:45.473127Z",
     "start_time": "2023-11-30T02:45:45.001969Z"
    }
   },
   "outputs": [
    {
     "data": {
      "image/png": "[encoded data removed]",
      "text/plain": [
       "<Figure size 432x288 with 1 Axes>"
      ]
     },
     "metadata": {
      "needs_background": "light"
     },
     "output_type": "display_data"
    }
   ],
   "source": [
    "stat = 'rmse_over_GTE'\n",
    "\n",
    "(est_stats_herding\n",
    " .unstack(level=0)[stat]\n",
    " .plot(kind='bar', color=rgb_0_1_array))\n",
    "\n",
    "\n",
    "plt.yscale('log')\n",
    "plt.xlabel(\"Relative Demand $\\lambda/\\\\tau$\")\n",
    "plt.title(\"Herding Simulations: RMSE\")\n",
    "plt.legend(loc=[1.02,0.5])\n",
    "plt.ylabel(\"RMSE/GTE\")\n",
    "plt.tight_layout()\n",
    "sns.despine()"
   ]
  },
  {
   "cell_type": "markdown",
   "metadata": {},
   "source": [
    "## Visualizations: competition"
   ]
  },
  {
   "cell_type": "code",
   "execution_count": 34,
   "metadata": {
    "ExecuteTime": {
     "end_time": "2023-11-30T03:07:28.453761Z",
     "start_time": "2023-11-30T03:07:27.613593Z"
    }
   },
   "outputs": [
    {
     "data": {
      "image/png": "[encoded data removed]",
      "text/plain": [
       "<Figure size 432x288 with 1 Axes>"
      ]
     },
     "metadata": {
      "needs_background": "light"
     },
     "output_type": "display_data"
    }
   ],
   "source": [
    "stat = 'bias_over_GTE'\n",
    "\n",
    "(est_stats_competition\n",
    " .unstack(level=0)[stat]\n",
    " .plot(kind='bar', color=rgb_0_1_array))\n",
    "\n",
    "#plt.yscale('log')\n",
    "plt.xlabel(\"Relative Demand $\\lambda/\\\\tau$\")\n",
    "plt.title(\"Competition Simulations: Bias\")\n",
    "plt.legend(loc=[1.02,0.5])\n",
    "plt.ylabel(\"Bias/GTE\")\n",
    "plt.tight_layout()\n",
    "sns.despine()\n",
    "plt.savefig(\"competition_bias.svg\")"
   ]
  },
  {
   "cell_type": "code",
   "execution_count": 25,
   "metadata": {
    "ExecuteTime": {
     "end_time": "2023-11-30T02:46:30.763395Z",
     "start_time": "2023-11-30T02:46:30.396275Z"
    }
   },
   "outputs": [
    {
     "data": {
      "image/png": "[encoded data removed]",
      "text/plain": [
       "<Figure size 432x288 with 1 Axes>"
      ]
     },
     "metadata": {
      "needs_background": "light"
     },
     "output_type": "display_data"
    }
   ],
   "source": [
    "stat = 'std_over_GTE'\n",
    "\n",
    "(est_stats_competition\n",
    " .unstack(level=0)[stat]\n",
    " .plot(kind='bar',color=rgb_0_1_array))\n",
    "\n",
    "\n",
    "plt.xlabel(\"Relative Demand $\\lambda/\\\\tau$\")\n",
    "plt.title(\"Competition Simulations: Standard Error\")\n",
    "plt.legend(loc=[1.02,0.5])\n",
    "plt.ylabel(\"Standard Error/GTE\")\n",
    "plt.tight_layout()\n",
    "sns.despine()\n"
   ]
  },
  {
   "cell_type": "code",
   "execution_count": 26,
   "metadata": {
    "ExecuteTime": {
     "end_time": "2023-11-30T02:46:41.559895Z",
     "start_time": "2023-11-30T02:46:41.077821Z"
    }
   },
   "outputs": [
    {
     "data": {
      "image/png": "[encoded data removed]",
      "text/plain": [
       "<Figure size 432x288 with 1 Axes>"
      ]
     },
     "metadata": {
      "needs_background": "light"
     },
     "output_type": "display_data"
    }
   ],
   "source": [
    "stat = 'rmse_over_GTE'\n",
    "\n",
    "(est_stats_competition\n",
    " .unstack(level=0)[stat]\n",
    " .plot(kind='bar', color=rgb_0_1_array))\n",
    "\n",
    "\n",
    "plt.yscale('log')\n",
    "plt.xlabel(\"Relative Demand $\\lambda/\\\\tau$\")\n",
    "plt.title(\"Competition Simulations: RMSE\")\n",
    "plt.legend(loc=[1.02,0.5])\n",
    "plt.ylabel(\"RMSE/GTE\")\n",
    "plt.tight_layout()\n",
    "sns.despine()"
   ]
  },
  {
   "cell_type": "code",
   "execution_count": null,
   "metadata": {},
   "outputs": [],
   "source": []
  }
 ],
 "metadata": {
  "kernelspec": {
   "display_name": "Python 3",
   "language": "python",
   "name": "python3"
  },
  "language_info": {
   "codemirror_mode": {
    "name": "ipython",
    "version": 3
   },
   "file_extension": ".py",
   "mimetype": "text/x-python",
   "name": "python",
   "nbconvert_exporter": "python",
   "pygments_lexer": "ipython3",
   "version": "3.6.8"
  }
 },
 "nbformat": 4,
 "nbformat_minor": 4
}
