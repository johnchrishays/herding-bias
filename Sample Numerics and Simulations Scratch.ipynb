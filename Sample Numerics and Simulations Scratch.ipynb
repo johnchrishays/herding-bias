{
 "cells": [
  {
   "cell_type": "markdown",
   "metadata": {},
   "source": [
    "# Runs numerics for mean field model and numerics in finite state space continuous time Markov chain with N listings."
   ]
  },
  {
   "cell_type": "code",
   "execution_count": 1,
   "metadata": {
    "ExecuteTime": {
     "end_time": "2023-12-03T18:49:28.930051Z",
     "start_time": "2023-12-03T18:49:28.794974Z"
    }
   },
   "outputs": [],
   "source": [
    "import numpy as np\n",
    "import pandas as pd\n",
    "import matplotlib.pyplot as plt\n",
    "import seaborn as sns\n",
    "import copy\n",
    "import csv\n",
    "import time\n",
    "import itertools\n",
    "from numpy import random\n",
    "from operator import itemgetter\n",
    "import importlib\n",
    "import multiprocessing as mp\n",
    "import json"
   ]
  },
  {
   "cell_type": "code",
   "execution_count": 2,
   "metadata": {
    "ExecuteTime": {
     "start_time": "2023-12-03T18:49:28.885063Z"
    }
   },
   "outputs": [],
   "source": [
    "import experiment_helper\n",
    "import exp_wrapper \n",
    "\n",
    "import finite_sim as sim\n",
    "import finite_sim_wrapper as sim_wrapper"
   ]
  },
  {
   "cell_type": "code",
   "execution_count": 3,
   "metadata": {
    "ExecuteTime": {
     "end_time": "2023-12-03T18:48:17.530124Z",
     "start_time": "2023-12-03T18:48:17.486550Z"
    }
   },
   "outputs": [
    {
     "data": {
      "text/plain": [
       "<module 'finite_sim_wrapper' from '/Users/rohanalur/rsch/herding-bias/finite_sim_wrapper.py'>"
      ]
     },
     "execution_count": 3,
     "metadata": {},
     "output_type": "execute_result"
    }
   ],
   "source": [
    "importlib.reload(exp_wrapper)\n",
    "importlib.reload(experiment_helper)\n",
    "importlib.reload(sim)\n",
    "importlib.reload(sim_wrapper)"
   ]
  },
  {
   "cell_type": "markdown",
   "metadata": {
    "heading_collapsed": true
   },
   "source": [
    "# Setting parameters model parameters"
   ]
  },
  {
   "cell_type": "code",
   "execution_count": 4,
   "metadata": {
    "ExecuteTime": {
     "end_time": "2023-12-02T19:11:00.301118Z",
     "start_time": "2023-12-02T19:11:00.292654Z"
    },
    "hidden": true
   },
   "outputs": [],
   "source": [
    "alpha = 1\n",
    "epsilon = 1\n",
    "tau = 1\n",
    "lams = [ .1, 1, 10]\n",
    "\n",
    "\n",
    "tsr_ac_al_values = [.5]\n",
    "cr_a_C = 0.5\n",
    "lr_a_L = 0.5\n",
    "\n",
    "tsr_est_types = ['tsr_est_naive', 'tsri_1.0','tsri_2.0'] + ['mrd_direct', 'mrd_spillover_seller', 'mrd_spillover_buyer', 'mrd_avg']\n"
   ]
  },
  {
   "cell_type": "code",
   "execution_count": 5,
   "metadata": {
    "ExecuteTime": {
     "end_time": "2023-12-02T19:11:01.602716Z",
     "start_time": "2023-12-02T19:11:00.577417Z"
    },
    "hidden": true
   },
   "outputs": [
    {
     "name": "stdout",
     "output_type": "stream",
     "text": [
      "customer c1\n",
      "control {'l': 0.315}\n",
      "treatment {'l': 0.3937} \n",
      "\n",
      "Rhos: {'l': 1}\n",
      "Customer Proportions: {'c1': 1}\n"
     ]
    }
   ],
   "source": [
    "customer_types = ['c1']\n",
    "listing_types = ['l']\n",
    "exp_conditions = ['control', 'treat']\n",
    "rhos_pre_treat = {'l':1} #adds up to 1\n",
    "customer_proportions = {'c1':1} #adds up to 1\n",
    "\n",
    "# used for multiplicative utilities\n",
    "customer_type_base = {'c1':.315 }\n",
    "listing_type_base = {'l':1}\n",
    "exp_condition_base = {'control':1, 'treat':1.25}\n",
    "\n",
    "vs = {}\n",
    "#multiplicative -- default\n",
    "for c in customer_types:\n",
    "    vs[c] = {}\n",
    "    vs[c]['treat'] = {}   \n",
    "    vs[c]['control'] = {}\n",
    "    for l in listing_types:\n",
    "        for e in exp_conditions:\n",
    "            vs[c][e][l] = round(customer_type_base[c]\n",
    "                                *exp_condition_base[e]\n",
    "                                *listing_type_base[l],4)\n",
    "\n",
    "for c in customer_types:\n",
    "    print(\"customer\", c)\n",
    "    print(\"control\", vs[c]['control'])\n",
    "    print(\"treatment\", vs[c]['treat'], \"\\n\")\n",
    "print('Rhos:', rhos_pre_treat)\n",
    "print(\"Customer Proportions:\", customer_proportions)"
   ]
  },
  {
   "cell_type": "markdown",
   "metadata": {
    "heading_collapsed": true
   },
   "source": [
    "# Simulations"
   ]
  },
  {
   "cell_type": "markdown",
   "metadata": {
    "hidden": true
   },
   "source": [
    "Setting simulation parameters. Remaining model parameters as defined in mean field parameters."
   ]
  },
  {
   "cell_type": "code",
   "execution_count": 6,
   "metadata": {
    "ExecuteTime": {
     "end_time": "2023-12-02T19:11:10.593537Z",
     "start_time": "2023-12-02T19:11:10.587908Z"
    },
    "hidden": true
   },
   "outputs": [],
   "source": [
    "T_0 = 5\n",
    "T_1 = 25\n",
    "\n",
    "# normalizes time horizon by min(lam, tau)\n",
    "T_start = {lam: T_0/min(lam,tau) for lam in lams}\n",
    "T_end = {lam: T_1/min(lam,tau) for lam in lams}\n",
    "\n",
    "varying_time_horizons = True\n",
    "\n",
    "n_runs = 3\n",
    "n_listings = 3"
   ]
  },
  {
   "cell_type": "markdown",
   "metadata": {
    "hidden": true
   },
   "source": [
    "Define choice set type. If 'alpha', customers sample items into consideration set with prob alpha. If 'finite_k', each customer draws a fixed $k$ number of items into their consideration set."
   ]
  },
  {
   "cell_type": "code",
   "execution_count": 7,
   "metadata": {
    "ExecuteTime": {
     "end_time": "2023-12-02T19:11:12.206462Z",
     "start_time": "2023-12-02T19:11:12.201263Z"
    },
    "hidden": true
   },
   "outputs": [],
   "source": [
    "choice_set_type = 'alpha' #customers sample items into consideration set with prob alpha\n",
    "k = None"
   ]
  },
  {
   "cell_type": "code",
   "execution_count": 8,
   "metadata": {
    "ExecuteTime": {
     "end_time": "2023-12-02T19:11:15.658365Z",
     "start_time": "2023-12-02T19:11:15.652351Z"
    },
    "hidden": true
   },
   "outputs": [],
   "source": [
    "params = sim_wrapper.calc_all_params(listing_types, rhos_pre_treat, \n",
    "                                     customer_types, customer_proportions, vs, \n",
    "                                    alpha, epsilon, tau, lams,\n",
    "                                    tsr_ac_al_values, cr_a_C, lr_a_L)"
   ]
  },
  {
   "cell_type": "markdown",
   "metadata": {
    "hidden": true
   },
   "source": [
    "## Herding"
   ]
  },
  {
   "cell_type": "code",
   "execution_count": 9,
   "metadata": {
    "ExecuteTime": {
     "end_time": "2023-12-02T19:15:52.169950Z",
     "start_time": "2023-12-02T19:11:17.230709Z"
    },
    "hidden": true
   },
   "outputs": [
    {
     "name": "stdout",
     "output_type": "stream",
     "text": [
      "lambda= 0.1\n",
      "Time elapsed:  6.46\n",
      "lambda= 1\n",
      "Time elapsed:  5.44\n",
      "lambda= 10\n",
      "Time elapsed:  5.71\n"
     ]
    }
   ],
   "source": [
    "events_herding = sim_wrapper.run_all_sims(n_runs, n_listings, T_start, T_end, \n",
    "                                  choice_set_type, k,\n",
    "                                 alpha, epsilon, tau, lams,\n",
    "                                 **params, herding=True)\n",
    "est_stats_herding = sim_wrapper.calc_all_ests_stats(\"sample\", T_start, T_end, \n",
    "                                            n_listings, tau=tau, \n",
    "                                            tsr_est_types=tsr_est_types,\n",
    "                                            events=events_herding, \n",
    "                                            varying_time_horizons=varying_time_horizons,\n",
    "                                            **params\n",
    "                                           )"
   ]
  },
  {
   "cell_type": "code",
   "execution_count": 10,
   "metadata": {},
   "outputs": [
    {
     "data": {
      "text/html": [
       "<div>\n",
       "<style scoped>\n",
       "    .dataframe tbody tr th:only-of-type {\n",
       "        vertical-align: middle;\n",
       "    }\n",
       "\n",
       "    .dataframe tbody tr th {\n",
       "        vertical-align: top;\n",
       "    }\n",
       "\n",
       "    .dataframe thead th {\n",
       "        text-align: right;\n",
       "    }\n",
       "</style>\n",
       "<table border=\"1\" class=\"dataframe\">\n",
       "  <thead>\n",
       "    <tr style=\"text-align: right;\">\n",
       "      <th></th>\n",
       "      <th></th>\n",
       "      <th>est</th>\n",
       "      <th>gte</th>\n",
       "      <th>bias</th>\n",
       "      <th>bias_over_GTE</th>\n",
       "      <th>abs_bias_over_GTE</th>\n",
       "      <th>std</th>\n",
       "      <th>std_over_GTE</th>\n",
       "      <th>rmse</th>\n",
       "      <th>rmse_over_GTE</th>\n",
       "    </tr>\n",
       "    <tr>\n",
       "      <th>estimator_type</th>\n",
       "      <th>lambda</th>\n",
       "      <th></th>\n",
       "      <th></th>\n",
       "      <th></th>\n",
       "      <th></th>\n",
       "      <th></th>\n",
       "      <th></th>\n",
       "      <th></th>\n",
       "      <th></th>\n",
       "      <th></th>\n",
       "    </tr>\n",
       "  </thead>\n",
       "  <tbody>\n",
       "    <tr>\n",
       "      <th rowspan=\"3\" valign=\"top\">cr</th>\n",
       "      <th>0.1</th>\n",
       "      <td>0.066667</td>\n",
       "      <td>0.041596</td>\n",
       "      <td>0.025071</td>\n",
       "      <td>0.602722</td>\n",
       "      <td>0.602722</td>\n",
       "      <td>0.088192</td>\n",
       "      <td>2.120202</td>\n",
       "      <td>0.076248</td>\n",
       "      <td>1.833061</td>\n",
       "    </tr>\n",
       "    <tr>\n",
       "      <th>1.0</th>\n",
       "      <td>-0.100000</td>\n",
       "      <td>0.031069</td>\n",
       "      <td>-0.131069</td>\n",
       "      <td>-4.218658</td>\n",
       "      <td>4.218658</td>\n",
       "      <td>0.145297</td>\n",
       "      <td>4.676601</td>\n",
       "      <td>0.176786</td>\n",
       "      <td>5.690121</td>\n",
       "    </tr>\n",
       "    <tr>\n",
       "      <th>10.0</th>\n",
       "      <td>0.133333</td>\n",
       "      <td>0.039333</td>\n",
       "      <td>0.094001</td>\n",
       "      <td>2.389883</td>\n",
       "      <td>2.389883</td>\n",
       "      <td>0.202759</td>\n",
       "      <td>5.154963</td>\n",
       "      <td>0.190377</td>\n",
       "      <td>4.840176</td>\n",
       "    </tr>\n",
       "    <tr>\n",
       "      <th rowspan=\"3\" valign=\"top\">lr</th>\n",
       "      <th>0.1</th>\n",
       "      <td>0.044444</td>\n",
       "      <td>0.041596</td>\n",
       "      <td>0.002849</td>\n",
       "      <td>0.068482</td>\n",
       "      <td>0.068482</td>\n",
       "      <td>0.083887</td>\n",
       "      <td>2.016715</td>\n",
       "      <td>0.068553</td>\n",
       "      <td>1.648064</td>\n",
       "    </tr>\n",
       "    <tr>\n",
       "      <th>1.0</th>\n",
       "      <td>0.000000</td>\n",
       "      <td>0.031069</td>\n",
       "      <td>-0.031069</td>\n",
       "      <td>-1.000000</td>\n",
       "      <td>1.000000</td>\n",
       "      <td>0.000000</td>\n",
       "      <td>0.000000</td>\n",
       "      <td>0.031069</td>\n",
       "      <td>1.000000</td>\n",
       "    </tr>\n",
       "    <tr>\n",
       "      <th>10.0</th>\n",
       "      <td>0.077778</td>\n",
       "      <td>0.039333</td>\n",
       "      <td>0.038445</td>\n",
       "      <td>0.977432</td>\n",
       "      <td>0.977432</td>\n",
       "      <td>0.107152</td>\n",
       "      <td>2.724237</td>\n",
       "      <td>0.095563</td>\n",
       "      <td>2.429613</td>\n",
       "    </tr>\n",
       "    <tr>\n",
       "      <th rowspan=\"3\" valign=\"top\">tsr_est_naive</th>\n",
       "      <th>0.1</th>\n",
       "      <td>-0.025030</td>\n",
       "      <td>0.041596</td>\n",
       "      <td>-0.066626</td>\n",
       "      <td>-1.601748</td>\n",
       "      <td>1.601748</td>\n",
       "      <td>0.085018</td>\n",
       "      <td>2.043905</td>\n",
       "      <td>0.096217</td>\n",
       "      <td>2.313143</td>\n",
       "    </tr>\n",
       "    <tr>\n",
       "      <th>1.0</th>\n",
       "      <td>0.240986</td>\n",
       "      <td>0.031069</td>\n",
       "      <td>0.209918</td>\n",
       "      <td>6.756529</td>\n",
       "      <td>6.756529</td>\n",
       "      <td>0.011151</td>\n",
       "      <td>0.358898</td>\n",
       "      <td>0.210115</td>\n",
       "      <td>6.762881</td>\n",
       "    </tr>\n",
       "    <tr>\n",
       "      <th>10.0</th>\n",
       "      <td>0.133308</td>\n",
       "      <td>0.039333</td>\n",
       "      <td>0.093975</td>\n",
       "      <td>2.389229</td>\n",
       "      <td>2.389229</td>\n",
       "      <td>0.230941</td>\n",
       "      <td>5.871483</td>\n",
       "      <td>0.210683</td>\n",
       "      <td>5.356425</td>\n",
       "    </tr>\n",
       "    <tr>\n",
       "      <th rowspan=\"3\" valign=\"top\">tsri_1.0</th>\n",
       "      <th>0.1</th>\n",
       "      <td>-0.009205</td>\n",
       "      <td>0.041596</td>\n",
       "      <td>-0.050801</td>\n",
       "      <td>-1.221307</td>\n",
       "      <td>1.221307</td>\n",
       "      <td>0.079965</td>\n",
       "      <td>1.922420</td>\n",
       "      <td>0.082727</td>\n",
       "      <td>1.988816</td>\n",
       "    </tr>\n",
       "    <tr>\n",
       "      <th>1.0</th>\n",
       "      <td>0.260776</td>\n",
       "      <td>0.031069</td>\n",
       "      <td>0.229707</td>\n",
       "      <td>7.393488</td>\n",
       "      <td>7.393488</td>\n",
       "      <td>0.028212</td>\n",
       "      <td>0.908040</td>\n",
       "      <td>0.230859</td>\n",
       "      <td>7.430569</td>\n",
       "    </tr>\n",
       "    <tr>\n",
       "      <th>10.0</th>\n",
       "      <td>0.133330</td>\n",
       "      <td>0.039333</td>\n",
       "      <td>0.093998</td>\n",
       "      <td>2.389806</td>\n",
       "      <td>2.389806</td>\n",
       "      <td>0.230935</td>\n",
       "      <td>5.871316</td>\n",
       "      <td>0.210688</td>\n",
       "      <td>5.356561</td>\n",
       "    </tr>\n",
       "    <tr>\n",
       "      <th rowspan=\"3\" valign=\"top\">tsri_2.0</th>\n",
       "      <th>0.1</th>\n",
       "      <td>0.007447</td>\n",
       "      <td>0.041596</td>\n",
       "      <td>-0.034149</td>\n",
       "      <td>-0.820960</td>\n",
       "      <td>0.820960</td>\n",
       "      <td>0.074712</td>\n",
       "      <td>1.796147</td>\n",
       "      <td>0.069910</td>\n",
       "      <td>1.680696</td>\n",
       "    </tr>\n",
       "    <tr>\n",
       "      <th>1.0</th>\n",
       "      <td>0.291584</td>\n",
       "      <td>0.031069</td>\n",
       "      <td>0.260515</td>\n",
       "      <td>8.385086</td>\n",
       "      <td>8.385086</td>\n",
       "      <td>0.058311</td>\n",
       "      <td>1.876832</td>\n",
       "      <td>0.264830</td>\n",
       "      <td>8.523966</td>\n",
       "    </tr>\n",
       "    <tr>\n",
       "      <th>10.0</th>\n",
       "      <td>0.133353</td>\n",
       "      <td>0.039333</td>\n",
       "      <td>0.094020</td>\n",
       "      <td>2.390383</td>\n",
       "      <td>2.390383</td>\n",
       "      <td>0.230928</td>\n",
       "      <td>5.871150</td>\n",
       "      <td>0.210693</td>\n",
       "      <td>5.356696</td>\n",
       "    </tr>\n",
       "    <tr>\n",
       "      <th rowspan=\"3\" valign=\"top\">mrd_direct</th>\n",
       "      <th>0.1</th>\n",
       "      <td>-0.044262</td>\n",
       "      <td>0.041596</td>\n",
       "      <td>-0.085858</td>\n",
       "      <td>-2.064106</td>\n",
       "      <td>2.064106</td>\n",
       "      <td>0.091226</td>\n",
       "      <td>2.193151</td>\n",
       "      <td>0.113665</td>\n",
       "      <td>2.732607</td>\n",
       "    </tr>\n",
       "    <tr>\n",
       "      <th>1.0</th>\n",
       "      <td>0.146224</td>\n",
       "      <td>0.031069</td>\n",
       "      <td>0.115155</td>\n",
       "      <td>3.706447</td>\n",
       "      <td>3.706447</td>\n",
       "      <td>0.088112</td>\n",
       "      <td>2.836033</td>\n",
       "      <td>0.135781</td>\n",
       "      <td>4.370332</td>\n",
       "    </tr>\n",
       "    <tr>\n",
       "      <th>10.0</th>\n",
       "      <td>0.133285</td>\n",
       "      <td>0.039333</td>\n",
       "      <td>0.093952</td>\n",
       "      <td>2.388652</td>\n",
       "      <td>2.388652</td>\n",
       "      <td>0.230948</td>\n",
       "      <td>5.871649</td>\n",
       "      <td>0.210677</td>\n",
       "      <td>5.356289</td>\n",
       "    </tr>\n",
       "    <tr>\n",
       "      <th rowspan=\"3\" valign=\"top\">mrd_spillover_seller</th>\n",
       "      <th>0.1</th>\n",
       "      <td>0.193397</td>\n",
       "      <td>0.041596</td>\n",
       "      <td>0.151801</td>\n",
       "      <td>3.649432</td>\n",
       "      <td>3.649432</td>\n",
       "      <td>0.066995</td>\n",
       "      <td>1.610610</td>\n",
       "      <td>0.161356</td>\n",
       "      <td>3.879140</td>\n",
       "    </tr>\n",
       "    <tr>\n",
       "      <th>1.0</th>\n",
       "      <td>0.132482</td>\n",
       "      <td>0.031069</td>\n",
       "      <td>0.101413</td>\n",
       "      <td>3.264128</td>\n",
       "      <td>3.264128</td>\n",
       "      <td>0.132482</td>\n",
       "      <td>4.264128</td>\n",
       "      <td>0.148275</td>\n",
       "      <td>4.772461</td>\n",
       "    </tr>\n",
       "    <tr>\n",
       "      <th>10.0</th>\n",
       "      <td>0.000000</td>\n",
       "      <td>0.039333</td>\n",
       "      <td>-0.039333</td>\n",
       "      <td>-1.000000</td>\n",
       "      <td>1.000000</td>\n",
       "      <td>0.000000</td>\n",
       "      <td>0.000000</td>\n",
       "      <td>0.039333</td>\n",
       "      <td>1.000000</td>\n",
       "    </tr>\n",
       "    <tr>\n",
       "      <th rowspan=\"3\" valign=\"top\">mrd_spillover_buyer</th>\n",
       "      <th>0.1</th>\n",
       "      <td>0.000000</td>\n",
       "      <td>0.041596</td>\n",
       "      <td>-0.041596</td>\n",
       "      <td>-1.000000</td>\n",
       "      <td>1.000000</td>\n",
       "      <td>0.000000</td>\n",
       "      <td>0.000000</td>\n",
       "      <td>0.041596</td>\n",
       "      <td>1.000000</td>\n",
       "    </tr>\n",
       "    <tr>\n",
       "      <th>1.0</th>\n",
       "      <td>0.000000</td>\n",
       "      <td>0.031069</td>\n",
       "      <td>-0.031069</td>\n",
       "      <td>-1.000000</td>\n",
       "      <td>1.000000</td>\n",
       "      <td>0.000000</td>\n",
       "      <td>0.000000</td>\n",
       "      <td>0.031069</td>\n",
       "      <td>1.000000</td>\n",
       "    </tr>\n",
       "    <tr>\n",
       "      <th>10.0</th>\n",
       "      <td>0.500034</td>\n",
       "      <td>0.039333</td>\n",
       "      <td>0.460701</td>\n",
       "      <td>11.712927</td>\n",
       "      <td>11.712927</td>\n",
       "      <td>0.166678</td>\n",
       "      <td>4.237642</td>\n",
       "      <td>0.480382</td>\n",
       "      <td>12.213288</td>\n",
       "    </tr>\n",
       "    <tr>\n",
       "      <th rowspan=\"3\" valign=\"top\">mrd_avg</th>\n",
       "      <th>0.1</th>\n",
       "      <td>0.149135</td>\n",
       "      <td>0.041596</td>\n",
       "      <td>0.107539</td>\n",
       "      <td>2.585325</td>\n",
       "      <td>2.585325</td>\n",
       "      <td>0.036901</td>\n",
       "      <td>0.887138</td>\n",
       "      <td>0.111680</td>\n",
       "      <td>2.684881</td>\n",
       "    </tr>\n",
       "    <tr>\n",
       "      <th>1.0</th>\n",
       "      <td>0.278705</td>\n",
       "      <td>0.031069</td>\n",
       "      <td>0.247637</td>\n",
       "      <td>7.970575</td>\n",
       "      <td>7.970575</td>\n",
       "      <td>0.045614</td>\n",
       "      <td>1.468155</td>\n",
       "      <td>0.250422</td>\n",
       "      <td>8.060214</td>\n",
       "    </tr>\n",
       "    <tr>\n",
       "      <th>10.0</th>\n",
       "      <td>0.633319</td>\n",
       "      <td>0.039333</td>\n",
       "      <td>0.593986</td>\n",
       "      <td>15.101579</td>\n",
       "      <td>15.101579</td>\n",
       "      <td>0.120182</td>\n",
       "      <td>3.055530</td>\n",
       "      <td>0.602037</td>\n",
       "      <td>15.306268</td>\n",
       "    </tr>\n",
       "  </tbody>\n",
       "</table>\n",
       "</div>"
      ],
      "text/plain": [
       "                                  est       gte      bias  bias_over_GTE  \\\n",
       "estimator_type       lambda                                                \n",
       "cr                   0.1     0.066667  0.041596  0.025071       0.602722   \n",
       "                     1.0    -0.100000  0.031069 -0.131069      -4.218658   \n",
       "                     10.0    0.133333  0.039333  0.094001       2.389883   \n",
       "lr                   0.1     0.044444  0.041596  0.002849       0.068482   \n",
       "                     1.0     0.000000  0.031069 -0.031069      -1.000000   \n",
       "                     10.0    0.077778  0.039333  0.038445       0.977432   \n",
       "tsr_est_naive        0.1    -0.025030  0.041596 -0.066626      -1.601748   \n",
       "                     1.0     0.240986  0.031069  0.209918       6.756529   \n",
       "                     10.0    0.133308  0.039333  0.093975       2.389229   \n",
       "tsri_1.0             0.1    -0.009205  0.041596 -0.050801      -1.221307   \n",
       "                     1.0     0.260776  0.031069  0.229707       7.393488   \n",
       "                     10.0    0.133330  0.039333  0.093998       2.389806   \n",
       "tsri_2.0             0.1     0.007447  0.041596 -0.034149      -0.820960   \n",
       "                     1.0     0.291584  0.031069  0.260515       8.385086   \n",
       "                     10.0    0.133353  0.039333  0.094020       2.390383   \n",
       "mrd_direct           0.1    -0.044262  0.041596 -0.085858      -2.064106   \n",
       "                     1.0     0.146224  0.031069  0.115155       3.706447   \n",
       "                     10.0    0.133285  0.039333  0.093952       2.388652   \n",
       "mrd_spillover_seller 0.1     0.193397  0.041596  0.151801       3.649432   \n",
       "                     1.0     0.132482  0.031069  0.101413       3.264128   \n",
       "                     10.0    0.000000  0.039333 -0.039333      -1.000000   \n",
       "mrd_spillover_buyer  0.1     0.000000  0.041596 -0.041596      -1.000000   \n",
       "                     1.0     0.000000  0.031069 -0.031069      -1.000000   \n",
       "                     10.0    0.500034  0.039333  0.460701      11.712927   \n",
       "mrd_avg              0.1     0.149135  0.041596  0.107539       2.585325   \n",
       "                     1.0     0.278705  0.031069  0.247637       7.970575   \n",
       "                     10.0    0.633319  0.039333  0.593986      15.101579   \n",
       "\n",
       "                             abs_bias_over_GTE       std  std_over_GTE  \\\n",
       "estimator_type       lambda                                              \n",
       "cr                   0.1              0.602722  0.088192      2.120202   \n",
       "                     1.0              4.218658  0.145297      4.676601   \n",
       "                     10.0             2.389883  0.202759      5.154963   \n",
       "lr                   0.1              0.068482  0.083887      2.016715   \n",
       "                     1.0              1.000000  0.000000      0.000000   \n",
       "                     10.0             0.977432  0.107152      2.724237   \n",
       "tsr_est_naive        0.1              1.601748  0.085018      2.043905   \n",
       "                     1.0              6.756529  0.011151      0.358898   \n",
       "                     10.0             2.389229  0.230941      5.871483   \n",
       "tsri_1.0             0.1              1.221307  0.079965      1.922420   \n",
       "                     1.0              7.393488  0.028212      0.908040   \n",
       "                     10.0             2.389806  0.230935      5.871316   \n",
       "tsri_2.0             0.1              0.820960  0.074712      1.796147   \n",
       "                     1.0              8.385086  0.058311      1.876832   \n",
       "                     10.0             2.390383  0.230928      5.871150   \n",
       "mrd_direct           0.1              2.064106  0.091226      2.193151   \n",
       "                     1.0              3.706447  0.088112      2.836033   \n",
       "                     10.0             2.388652  0.230948      5.871649   \n",
       "mrd_spillover_seller 0.1              3.649432  0.066995      1.610610   \n",
       "                     1.0              3.264128  0.132482      4.264128   \n",
       "                     10.0             1.000000  0.000000      0.000000   \n",
       "mrd_spillover_buyer  0.1              1.000000  0.000000      0.000000   \n",
       "                     1.0              1.000000  0.000000      0.000000   \n",
       "                     10.0            11.712927  0.166678      4.237642   \n",
       "mrd_avg              0.1              2.585325  0.036901      0.887138   \n",
       "                     1.0              7.970575  0.045614      1.468155   \n",
       "                     10.0            15.101579  0.120182      3.055530   \n",
       "\n",
       "                                 rmse  rmse_over_GTE  \n",
       "estimator_type       lambda                           \n",
       "cr                   0.1     0.076248       1.833061  \n",
       "                     1.0     0.176786       5.690121  \n",
       "                     10.0    0.190377       4.840176  \n",
       "lr                   0.1     0.068553       1.648064  \n",
       "                     1.0     0.031069       1.000000  \n",
       "                     10.0    0.095563       2.429613  \n",
       "tsr_est_naive        0.1     0.096217       2.313143  \n",
       "                     1.0     0.210115       6.762881  \n",
       "                     10.0    0.210683       5.356425  \n",
       "tsri_1.0             0.1     0.082727       1.988816  \n",
       "                     1.0     0.230859       7.430569  \n",
       "                     10.0    0.210688       5.356561  \n",
       "tsri_2.0             0.1     0.069910       1.680696  \n",
       "                     1.0     0.264830       8.523966  \n",
       "                     10.0    0.210693       5.356696  \n",
       "mrd_direct           0.1     0.113665       2.732607  \n",
       "                     1.0     0.135781       4.370332  \n",
       "                     10.0    0.210677       5.356289  \n",
       "mrd_spillover_seller 0.1     0.161356       3.879140  \n",
       "                     1.0     0.148275       4.772461  \n",
       "                     10.0    0.039333       1.000000  \n",
       "mrd_spillover_buyer  0.1     0.041596       1.000000  \n",
       "                     1.0     0.031069       1.000000  \n",
       "                     10.0    0.480382      12.213288  \n",
       "mrd_avg              0.1     0.111680       2.684881  \n",
       "                     1.0     0.250422       8.060214  \n",
       "                     10.0    0.602037      15.306268  "
      ]
     },
     "execution_count": 10,
     "metadata": {},
     "output_type": "execute_result"
    }
   ],
   "source": [
    "est_stats_herding"
   ]
  },
  {
   "cell_type": "code",
   "execution_count": 11,
   "metadata": {
    "ExecuteTime": {
     "end_time": "2023-12-02T19:15:52.179022Z",
     "start_time": "2023-12-02T19:15:52.172638Z"
    },
    "hidden": true
   },
   "outputs": [],
   "source": [
    "est_stats_herding = est_stats_herding.rename({'cr':\"Customer-Side\", 'lr':\"Service-Side\",\n",
    "                            'tsri_2.0':'TSRI-2', 'tsri_1.0':'TSRI-1',\n",
    "                             'tsr_est_naive':\"TSR-Naive\",\n",
    "                            'mrd_direct':\"MRD-Direct\",\n",
    "                            'mrd_spillover_seller':\"MRD-Seller-Spillover\",\n",
    "                            'mrd_spillover_buyer':\"MRD-Buyer-Spillover\",\n",
    "                            'mrd_avg':\"MRD-Average\",\n",
    "                            })"
   ]
  },
  {
   "cell_type": "markdown",
   "metadata": {
    "hidden": true
   },
   "source": [
    "## Competition"
   ]
  },
  {
   "cell_type": "code",
   "execution_count": 67,
   "metadata": {
    "ExecuteTime": {
     "end_time": "2023-12-02T19:20:56.927089Z",
     "start_time": "2023-12-02T19:15:52.181325Z"
    },
    "hidden": true
   },
   "outputs": [
    {
     "name": "stdout",
     "output_type": "stream",
     "text": [
      "lambda= 0.1\n",
      "Time elapsed:  50.27\n",
      "lambda= 1\n",
      "Time elapsed:  44.0\n",
      "lambda= 10\n",
      "Time elapsed:  204.56\n"
     ]
    }
   ],
   "source": [
    "events_competition = sim_wrapper.run_all_sims(n_runs, n_listings, T_start, T_end, \n",
    "                                  choice_set_type, k,\n",
    "                                 alpha, epsilon, tau, lams,\n",
    "                                 **params, herding=False)\n",
    "est_stats_competition = sim_wrapper.calc_all_ests_stats(\"sample\", T_start, T_end, \n",
    "                                            n_listings, tau=tau, \n",
    "                                            tsr_est_types=tsr_est_types,\n",
    "                                            events=events_competition, \n",
    "                                            varying_time_horizons=varying_time_horizons,\n",
    "                                            **params\n",
    "                                           )"
   ]
  },
  {
   "cell_type": "code",
   "execution_count": 68,
   "metadata": {
    "ExecuteTime": {
     "end_time": "2023-12-02T19:20:56.946143Z",
     "start_time": "2023-12-02T19:20:56.932354Z"
    },
    "hidden": true
   },
   "outputs": [],
   "source": [
    "est_stats_competition = est_stats_competition.rename({'cr':\"Customer-Side\", 'lr':\"Service-Side\",\n",
    "                            'tsri_2.0':'TSRI-2', 'tsri_1.0':'TSRI-1',\n",
    "                             'tsr_est_naive':\"TSR-Naive\"\n",
    "                            })"
   ]
  },
  {
   "cell_type": "markdown",
   "metadata": {},
   "source": [
    "# Visualizations"
   ]
  },
  {
   "cell_type": "markdown",
   "metadata": {},
   "source": [
    "## Visualizations: Herding"
   ]
  },
  {
   "cell_type": "code",
   "execution_count": 13,
   "metadata": {
    "ExecuteTime": {
     "end_time": "2023-12-02T22:45:26.595269Z",
     "start_time": "2023-12-02T22:45:26.573066Z"
    }
   },
   "outputs": [],
   "source": [
    "est_stats_herding = pd.read_csv(\"sampletotal_stats.csv\", index_col=[\"estimator_type\", \"lambda\"])\n",
    "\n",
    "est_stats_herding = est_stats_herding.rename({'cr':\"Customer-Side\", 'lr':\"Product-Side\",\n",
    "                            'tsri_2.0':'TSRI-2', 'tsri_1.0':'TSRI-1',\n",
    "                             'tsr_est_naive':\"TSR-Naive\"\n",
    "                            })"
   ]
  },
  {
   "cell_type": "code",
   "execution_count": 14,
   "metadata": {
    "ExecuteTime": {
     "end_time": "2023-12-02T22:46:12.348983Z",
     "start_time": "2023-12-02T22:46:11.092077Z"
    }
   },
   "outputs": [
    {
     "data": {
      "text/plain": [
       "(<Figure size 720x720 with 6 Axes>,\n",
       " array([[<AxesSubplot:xlabel='Relative user arrival rate $\\\\lambda/\\\\tau$', ylabel='Bias'>,\n",
       "         <AxesSubplot:xlabel='Relative user arrival rate $\\\\lambda/\\\\tau$', ylabel='Bias / GTE'>],\n",
       "        [<AxesSubplot:xlabel='Relative user arrival rate $\\\\lambda/\\\\tau$', ylabel='SE'>,\n",
       "         <AxesSubplot:xlabel='Relative user arrival rate $\\\\lambda/\\\\tau$', ylabel='SE / GTE'>],\n",
       "        [<AxesSubplot:xlabel='Relative user arrival rate $\\\\lambda/\\\\tau$', ylabel='RMSE'>,\n",
       "         <AxesSubplot:xlabel='Relative user arrival rate $\\\\lambda/\\\\tau$', ylabel='RMSE / GTE'>]],\n",
       "       dtype=object))"
      ]
     },
     "execution_count": 14,
     "metadata": {},
     "output_type": "execute_result"
    },
    {
     "data": {
      "image/png": "[encoded data removed]",
      "text/plain": [
       "<Figure size 720x720 with 6 Axes>"
      ]
     },
     "metadata": {
      "needs_background": "light"
     },
     "output_type": "display_data"
    }
   ],
   "source": [
    "sim_wrapper.plot_all_stats(est_stats_herding, \"Herding Simulations\")"
   ]
  },
  {
   "cell_type": "markdown",
   "metadata": {},
   "source": [
    "## Visualizations: competition"
   ]
  },
  {
   "cell_type": "code",
   "execution_count": 8,
   "metadata": {
    "ExecuteTime": {
     "end_time": "2023-12-02T22:46:49.724889Z",
     "start_time": "2023-12-02T22:46:49.706953Z"
    }
   },
   "outputs": [],
   "source": [
    "est_stats_competition = pd.read_csv(\"sample_total_stats_competition.csv\", index_col=[\"estimator_type\", \"lambda\"])\n",
    "\n",
    "est_stats_competition = est_stats_competition.rename({'cr':\"Customer-Side\", 'lr':\"Service-Side\",\n",
    "                            'tsri_2.0':'TSRI-2', 'tsri_1.0':'TSRI-1',\n",
    "                             'tsr_est_naive':\"TSR-Naive\"\n",
    "                            })"
   ]
  },
  {
   "cell_type": "code",
   "execution_count": 10,
   "metadata": {
    "ExecuteTime": {
     "end_time": "2023-12-02T22:46:59.310011Z",
     "start_time": "2023-12-02T22:46:58.222884Z"
    }
   },
   "outputs": [
    {
     "data": {
      "text/plain": [
       "(<Figure size 720x720 with 6 Axes>,\n",
       " array([[<AxesSubplot:xlabel='Relative user arrival rate $\\\\lambda/\\\\tau$', ylabel='Bias'>,\n",
       "         <AxesSubplot:xlabel='Relative user arrival rate $\\\\lambda/\\\\tau$', ylabel='Bias / GTE'>],\n",
       "        [<AxesSubplot:xlabel='Relative user arrival rate $\\\\lambda/\\\\tau$', ylabel='SE'>,\n",
       "         <AxesSubplot:xlabel='Relative user arrival rate $\\\\lambda/\\\\tau$', ylabel='SE / GTE'>],\n",
       "        [<AxesSubplot:xlabel='Relative user arrival rate $\\\\lambda/\\\\tau$', ylabel='RMSE'>,\n",
       "         <AxesSubplot:xlabel='Relative user arrival rate $\\\\lambda/\\\\tau$', ylabel='RMSE / GTE'>]],\n",
       "       dtype=object))"
      ]
     },
     "execution_count": 10,
     "metadata": {},
     "output_type": "execute_result"
    },
    {
     "data": {
      "image/png": "[encoded data removed]",
      "text/plain": [
       "<Figure size 720x720 with 6 Axes>"
      ]
     },
     "metadata": {
      "needs_background": "light"
     },
     "output_type": "display_data"
    }
   ],
   "source": [
    "sim_wrapper.plot_all_stats(est_stats_competition, \"Crowding Out Simulations\")"
   ]
  },
  {
   "cell_type": "markdown",
   "metadata": {},
   "source": [
    "## Visualizations: Herding, no recency"
   ]
  },
  {
   "cell_type": "code",
   "execution_count": 11,
   "metadata": {
    "ExecuteTime": {
     "end_time": "2023-12-02T22:47:04.235404Z",
     "start_time": "2023-12-02T22:47:04.209882Z"
    }
   },
   "outputs": [],
   "source": [
    "est_stats_herding_no_recency = pd.read_csv(\"sample_total_stats_herding_no_recency.csv\", index_col=[\"estimator_type\", \"lambda\"])\n",
    "\n",
    "est_stats_herding_no_recency = est_stats_herding_no_recency.rename({'cr':\"Customer-Side\", 'lr':\"Service-Side\",\n",
    "                            'tsri_2.0':'TSRI-2', 'tsri_1.0':'TSRI-1',\n",
    "                             'tsr_est_naive':\"TSR-Naive\"\n",
    "                            })"
   ]
  },
  {
   "cell_type": "code",
   "execution_count": 13,
   "metadata": {
    "ExecuteTime": {
     "end_time": "2023-12-02T22:47:25.366573Z",
     "start_time": "2023-12-02T22:47:24.343856Z"
    }
   },
   "outputs": [
    {
     "data": {
      "text/plain": [
       "(<Figure size 720x720 with 6 Axes>,\n",
       " array([[<AxesSubplot:xlabel='Relative user arrival rate $\\\\lambda/\\\\tau$', ylabel='Bias'>,\n",
       "         <AxesSubplot:xlabel='Relative user arrival rate $\\\\lambda/\\\\tau$', ylabel='Bias / GTE'>],\n",
       "        [<AxesSubplot:xlabel='Relative user arrival rate $\\\\lambda/\\\\tau$', ylabel='SE'>,\n",
       "         <AxesSubplot:xlabel='Relative user arrival rate $\\\\lambda/\\\\tau$', ylabel='SE / GTE'>],\n",
       "        [<AxesSubplot:xlabel='Relative user arrival rate $\\\\lambda/\\\\tau$', ylabel='RMSE'>,\n",
       "         <AxesSubplot:xlabel='Relative user arrival rate $\\\\lambda/\\\\tau$', ylabel='RMSE / GTE'>]],\n",
       "       dtype=object))"
      ]
     },
     "execution_count": 13,
     "metadata": {},
     "output_type": "execute_result"
    },
    {
     "data": {
      "image/png": "[encoded data removed]",
      "text/plain": [
       "<Figure size 720x720 with 6 Axes>"
      ]
     },
     "metadata": {
      "needs_background": "light"
     },
     "output_type": "display_data"
    }
   ],
   "source": [
    "sim_wrapper.plot_all_stats(est_stats_herding_no_recency, \"Herding (with no recency bias) Simulations\")"
   ]
  },
  {
   "cell_type": "code",
   "execution_count": null,
   "metadata": {},
   "outputs": [],
   "source": []
  }
 ],
 "metadata": {
  "kernelspec": {
   "display_name": "Python 3 (ipykernel)",
   "language": "python",
   "name": "python3"
  },
  "language_info": {
   "codemirror_mode": {
    "name": "ipython",
    "version": 3
   },
   "file_extension": ".py",
   "mimetype": "text/x-python",
   "name": "python",
   "nbconvert_exporter": "python",
   "pygments_lexer": "ipython3",
   "version": "3.9.12"
  }
 },
 "nbformat": 4,
 "nbformat_minor": 4
}
