{
 "cells": [
  {
   "cell_type": "markdown",
   "metadata": {},
   "source": [
    "# Runs numerics for mean field model and numerics in finite state space continuous time Markov chain with N listings."
   ]
  },
  {
   "cell_type": "code",
   "execution_count": 1,
   "metadata": {
    "ExecuteTime": {
     "end_time": "2023-12-03T18:49:28.930051Z",
     "start_time": "2023-12-03T18:49:28.794974Z"
    }
   },
   "outputs": [
    {
     "name": "stderr",
     "output_type": "stream",
     "text": [
      "/usr/lib/python3/dist-packages/scipy/__init__.py:146: UserWarning: A NumPy version >=1.17.3 and <1.25.0 is required for this version of SciPy (detected version 1.26.2\n",
      "  warnings.warn(f\"A NumPy version >={np_minversion} and <{np_maxversion}\"\n"
     ]
    }
   ],
   "source": [
    "import numpy as np\n",
    "import pandas as pd\n",
    "import matplotlib.pyplot as plt\n",
    "import seaborn as sns\n",
    "import copy\n",
    "import csv\n",
    "import time\n",
    "import itertools\n",
    "from numpy import random\n",
    "from operator import itemgetter\n",
    "import importlib\n",
    "import multiprocessing as mp\n",
    "import json"
   ]
  },
  {
   "cell_type": "code",
   "execution_count": 2,
   "metadata": {
    "ExecuteTime": {
     "start_time": "2023-12-03T18:49:28.885063Z"
    }
   },
   "outputs": [],
   "source": [
    "import experiment_helper\n",
    "import exp_wrapper \n",
    "\n",
    "import finite_sim as sim\n",
    "import finite_sim_wrapper as sim_wrapper"
   ]
  },
  {
   "cell_type": "code",
   "execution_count": 3,
   "metadata": {
    "ExecuteTime": {
     "end_time": "2023-12-03T18:48:17.530124Z",
     "start_time": "2023-12-03T18:48:17.486550Z"
    }
   },
   "outputs": [
    {
     "data": {
      "text/plain": [
       "<module 'finite_sim_wrapper' from '/home/ralur/herding-bias/finite_sim_wrapper.py'>"
      ]
     },
     "execution_count": 3,
     "metadata": {},
     "output_type": "execute_result"
    }
   ],
   "source": [
    "importlib.reload(exp_wrapper)\n",
    "importlib.reload(experiment_helper)\n",
    "importlib.reload(sim)\n",
    "importlib.reload(sim_wrapper)"
   ]
  },
  {
   "cell_type": "markdown",
   "metadata": {
    "heading_collapsed": true
   },
   "source": [
    "# Setting parameters model parameters"
   ]
  },
  {
   "cell_type": "code",
   "execution_count": 4,
   "metadata": {
    "ExecuteTime": {
     "end_time": "2023-12-02T19:11:00.301118Z",
     "start_time": "2023-12-02T19:11:00.292654Z"
    },
    "hidden": true
   },
   "outputs": [],
   "source": [
    "alpha = 1\n",
    "epsilon = 1\n",
    "tau = 1\n",
    "lams = [ .1, 1, 10]\n",
    "\n",
    "\n",
    "tsr_ac_al_values = [.5]\n",
    "cr_a_C = 0.5\n",
    "lr_a_L = 0.5\n",
    "\n",
    "tsr_est_types = ['tsr_est_naive', 'tsri_1.0','tsri_2.0'] + ['mrd_direct', 'mrd_spillover_seller', 'mrd_spillover_buyer', 'mrd_avg']\n"
   ]
  },
  {
   "cell_type": "code",
   "execution_count": 5,
   "metadata": {
    "ExecuteTime": {
     "end_time": "2023-12-02T19:11:01.602716Z",
     "start_time": "2023-12-02T19:11:00.577417Z"
    },
    "hidden": true
   },
   "outputs": [
    {
     "name": "stdout",
     "output_type": "stream",
     "text": [
      "customer c1\n",
      "control {'l': 0.315}\n",
      "treatment {'l': 0.3937} \n",
      "\n",
      "Rhos: {'l': 1}\n",
      "Customer Proportions: {'c1': 1}\n"
     ]
    }
   ],
   "source": [
    "customer_types = ['c1']\n",
    "listing_types = ['l']\n",
    "exp_conditions = ['control', 'treat']\n",
    "rhos_pre_treat = {'l':1} #adds up to 1\n",
    "customer_proportions = {'c1':1} #adds up to 1\n",
    "\n",
    "# used for multiplicative utilities\n",
    "customer_type_base = {'c1':.315 }\n",
    "listing_type_base = {'l':1}\n",
    "exp_condition_base = {'control':1, 'treat':1.25}\n",
    "\n",
    "vs = {}\n",
    "#multiplicative -- default\n",
    "for c in customer_types:\n",
    "    vs[c] = {}\n",
    "    vs[c]['treat'] = {}   \n",
    "    vs[c]['control'] = {}\n",
    "    for l in listing_types:\n",
    "        for e in exp_conditions:\n",
    "            vs[c][e][l] = round(customer_type_base[c]\n",
    "                                *exp_condition_base[e]\n",
    "                                *listing_type_base[l],4)\n",
    "\n",
    "for c in customer_types:\n",
    "    print(\"customer\", c)\n",
    "    print(\"control\", vs[c]['control'])\n",
    "    print(\"treatment\", vs[c]['treat'], \"\\n\")\n",
    "print('Rhos:', rhos_pre_treat)\n",
    "print(\"Customer Proportions:\", customer_proportions)"
   ]
  },
  {
   "cell_type": "markdown",
   "metadata": {
    "heading_collapsed": true
   },
   "source": [
    "# Simulations"
   ]
  },
  {
   "cell_type": "markdown",
   "metadata": {
    "hidden": true
   },
   "source": [
    "Setting simulation parameters. Remaining model parameters as defined in mean field parameters."
   ]
  },
  {
   "cell_type": "code",
   "execution_count": 6,
   "metadata": {
    "ExecuteTime": {
     "end_time": "2023-12-02T19:11:10.593537Z",
     "start_time": "2023-12-02T19:11:10.587908Z"
    },
    "hidden": true
   },
   "outputs": [],
   "source": [
    "T_0 = 5\n",
    "T_1 = 25\n",
    "\n",
    "# normalizes time horizon by min(lam, tau)\n",
    "T_start = {lam: T_0/min(lam,tau) for lam in lams}\n",
    "T_end = {lam: T_1/min(lam,tau) for lam in lams}\n",
    "\n",
    "varying_time_horizons = True\n",
    "\n",
    "n_runs = 100\n",
    "n_listings = 100"
   ]
  },
  {
   "cell_type": "markdown",
   "metadata": {
    "hidden": true
   },
   "source": [
    "Define choice set type. If 'alpha', customers sample items into consideration set with prob alpha. If 'finite_k', each customer draws a fixed $k$ number of items into their consideration set."
   ]
  },
  {
   "cell_type": "code",
   "execution_count": 7,
   "metadata": {
    "ExecuteTime": {
     "end_time": "2023-12-02T19:11:12.206462Z",
     "start_time": "2023-12-02T19:11:12.201263Z"
    },
    "hidden": true
   },
   "outputs": [],
   "source": [
    "choice_set_type = 'alpha' #customers sample items into consideration set with prob alpha\n",
    "k = None"
   ]
  },
  {
   "cell_type": "code",
   "execution_count": 8,
   "metadata": {
    "ExecuteTime": {
     "end_time": "2023-12-02T19:11:15.658365Z",
     "start_time": "2023-12-02T19:11:15.652351Z"
    },
    "hidden": true
   },
   "outputs": [],
   "source": [
    "params = sim_wrapper.calc_all_params(listing_types, rhos_pre_treat, \n",
    "                                     customer_types, customer_proportions, vs, \n",
    "                                    alpha, epsilon, tau, lams,\n",
    "                                    tsr_ac_al_values, cr_a_C, lr_a_L)"
   ]
  },
  {
   "cell_type": "markdown",
   "metadata": {
    "hidden": true
   },
   "source": [
    "## Herding"
   ]
  },
  {
   "cell_type": "code",
   "execution_count": 9,
   "metadata": {
    "ExecuteTime": {
     "end_time": "2023-12-02T19:15:52.169950Z",
     "start_time": "2023-12-02T19:11:17.230709Z"
    },
    "hidden": true
   },
   "outputs": [
    {
     "name": "stdout",
     "output_type": "stream",
     "text": [
      "lambda= 0.1\n",
      "Time elapsed:  27.36\n",
      "lambda= 1\n",
      "Time elapsed:  24.58\n",
      "lambda= 10\n",
      "Time elapsed:  122.06\n"
     ]
    }
   ],
   "source": [
    "events_herding = sim_wrapper.run_all_sims(n_runs, n_listings, T_start, T_end, \n",
    "                                  choice_set_type, k,\n",
    "                                 alpha, epsilon, tau, lams,\n",
    "                                 **params, herding=True)\n",
    "est_stats_herding = sim_wrapper.calc_all_ests_stats(\"sample\", T_start, T_end, \n",
    "                                            n_listings, tau=tau, \n",
    "                                            tsr_est_types=tsr_est_types,\n",
    "                                            events=events_herding, \n",
    "                                            varying_time_horizons=varying_time_horizons,\n",
    "                                            **params\n",
    "                                           )"
   ]
  },
  {
   "cell_type": "code",
   "execution_count": 10,
   "metadata": {},
   "outputs": [
    {
     "data": {
      "text/html": [
       "<div>\n",
       "<style scoped>\n",
       "    .dataframe tbody tr th:only-of-type {\n",
       "        vertical-align: middle;\n",
       "    }\n",
       "\n",
       "    .dataframe tbody tr th {\n",
       "        vertical-align: top;\n",
       "    }\n",
       "\n",
       "    .dataframe thead th {\n",
       "        text-align: right;\n",
       "    }\n",
       "</style>\n",
       "<table border=\"1\" class=\"dataframe\">\n",
       "  <thead>\n",
       "    <tr style=\"text-align: right;\">\n",
       "      <th></th>\n",
       "      <th></th>\n",
       "      <th>est</th>\n",
       "      <th>gte</th>\n",
       "      <th>bias</th>\n",
       "      <th>bias_over_GTE</th>\n",
       "      <th>abs_bias_over_GTE</th>\n",
       "      <th>std</th>\n",
       "      <th>std_over_GTE</th>\n",
       "      <th>rmse</th>\n",
       "      <th>rmse_over_GTE</th>\n",
       "    </tr>\n",
       "    <tr>\n",
       "      <th>estimator_type</th>\n",
       "      <th>lambda</th>\n",
       "      <th></th>\n",
       "      <th></th>\n",
       "      <th></th>\n",
       "      <th></th>\n",
       "      <th></th>\n",
       "      <th></th>\n",
       "      <th></th>\n",
       "      <th></th>\n",
       "      <th></th>\n",
       "    </tr>\n",
       "  </thead>\n",
       "  <tbody>\n",
       "    <tr>\n",
       "      <th rowspan=\"3\" valign=\"top\">cr</th>\n",
       "      <th>0.1</th>\n",
       "      <td>0.041660</td>\n",
       "      <td>0.041596</td>\n",
       "      <td>0.000064</td>\n",
       "      <td>0.001541</td>\n",
       "      <td>0.001541</td>\n",
       "      <td>0.022879</td>\n",
       "      <td>0.550025</td>\n",
       "      <td>0.022764</td>\n",
       "      <td>0.547270</td>\n",
       "    </tr>\n",
       "    <tr>\n",
       "      <th>1.0</th>\n",
       "      <td>0.035950</td>\n",
       "      <td>0.031069</td>\n",
       "      <td>0.004881</td>\n",
       "      <td>0.157107</td>\n",
       "      <td>0.157107</td>\n",
       "      <td>0.020006</td>\n",
       "      <td>0.643916</td>\n",
       "      <td>0.020495</td>\n",
       "      <td>0.659670</td>\n",
       "    </tr>\n",
       "    <tr>\n",
       "      <th>10.0</th>\n",
       "      <td>0.152000</td>\n",
       "      <td>0.039333</td>\n",
       "      <td>0.112667</td>\n",
       "      <td>2.864467</td>\n",
       "      <td>2.864467</td>\n",
       "      <td>0.035615</td>\n",
       "      <td>0.905471</td>\n",
       "      <td>0.118109</td>\n",
       "      <td>3.002807</td>\n",
       "    </tr>\n",
       "    <tr>\n",
       "      <th rowspan=\"3\" valign=\"top\">lr</th>\n",
       "      <th>0.1</th>\n",
       "      <td>0.052100</td>\n",
       "      <td>0.041596</td>\n",
       "      <td>0.010504</td>\n",
       "      <td>0.252528</td>\n",
       "      <td>0.252528</td>\n",
       "      <td>0.022169</td>\n",
       "      <td>0.532950</td>\n",
       "      <td>0.024431</td>\n",
       "      <td>0.587338</td>\n",
       "    </tr>\n",
       "    <tr>\n",
       "      <th>1.0</th>\n",
       "      <td>0.034330</td>\n",
       "      <td>0.031069</td>\n",
       "      <td>0.003261</td>\n",
       "      <td>0.104965</td>\n",
       "      <td>0.104965</td>\n",
       "      <td>0.017758</td>\n",
       "      <td>0.571558</td>\n",
       "      <td>0.017967</td>\n",
       "      <td>0.578299</td>\n",
       "    </tr>\n",
       "    <tr>\n",
       "      <th>10.0</th>\n",
       "      <td>0.039240</td>\n",
       "      <td>0.039333</td>\n",
       "      <td>-0.000093</td>\n",
       "      <td>-0.002357</td>\n",
       "      <td>0.002357</td>\n",
       "      <td>0.032058</td>\n",
       "      <td>0.815040</td>\n",
       "      <td>0.031897</td>\n",
       "      <td>0.810958</td>\n",
       "    </tr>\n",
       "    <tr>\n",
       "      <th rowspan=\"3\" valign=\"top\">tsr_est_naive</th>\n",
       "      <th>0.1</th>\n",
       "      <td>0.050078</td>\n",
       "      <td>0.041596</td>\n",
       "      <td>0.008482</td>\n",
       "      <td>0.203913</td>\n",
       "      <td>0.203913</td>\n",
       "      <td>0.021740</td>\n",
       "      <td>0.522640</td>\n",
       "      <td>0.023234</td>\n",
       "      <td>0.558571</td>\n",
       "    </tr>\n",
       "    <tr>\n",
       "      <th>1.0</th>\n",
       "      <td>0.044442</td>\n",
       "      <td>0.031069</td>\n",
       "      <td>0.013373</td>\n",
       "      <td>0.430420</td>\n",
       "      <td>0.430420</td>\n",
       "      <td>0.018242</td>\n",
       "      <td>0.587147</td>\n",
       "      <td>0.022545</td>\n",
       "      <td>0.725641</td>\n",
       "    </tr>\n",
       "    <tr>\n",
       "      <th>10.0</th>\n",
       "      <td>0.058276</td>\n",
       "      <td>0.039333</td>\n",
       "      <td>0.018943</td>\n",
       "      <td>0.481606</td>\n",
       "      <td>0.481606</td>\n",
       "      <td>0.031046</td>\n",
       "      <td>0.789317</td>\n",
       "      <td>0.036236</td>\n",
       "      <td>0.921268</td>\n",
       "    </tr>\n",
       "    <tr>\n",
       "      <th rowspan=\"3\" valign=\"top\">tsri_1.0</th>\n",
       "      <th>0.1</th>\n",
       "      <td>0.053469</td>\n",
       "      <td>0.041596</td>\n",
       "      <td>0.011873</td>\n",
       "      <td>0.285432</td>\n",
       "      <td>0.285432</td>\n",
       "      <td>0.023092</td>\n",
       "      <td>0.555139</td>\n",
       "      <td>0.025862</td>\n",
       "      <td>0.621747</td>\n",
       "    </tr>\n",
       "    <tr>\n",
       "      <th>1.0</th>\n",
       "      <td>0.043809</td>\n",
       "      <td>0.031069</td>\n",
       "      <td>0.012740</td>\n",
       "      <td>0.410070</td>\n",
       "      <td>0.410070</td>\n",
       "      <td>0.022478</td>\n",
       "      <td>0.723484</td>\n",
       "      <td>0.025739</td>\n",
       "      <td>0.828464</td>\n",
       "    </tr>\n",
       "    <tr>\n",
       "      <th>10.0</th>\n",
       "      <td>0.058289</td>\n",
       "      <td>0.039333</td>\n",
       "      <td>0.018956</td>\n",
       "      <td>0.481938</td>\n",
       "      <td>0.481938</td>\n",
       "      <td>0.031019</td>\n",
       "      <td>0.788633</td>\n",
       "      <td>0.036220</td>\n",
       "      <td>0.920862</td>\n",
       "    </tr>\n",
       "    <tr>\n",
       "      <th rowspan=\"3\" valign=\"top\">tsri_2.0</th>\n",
       "      <th>0.1</th>\n",
       "      <td>0.056634</td>\n",
       "      <td>0.041596</td>\n",
       "      <td>0.015038</td>\n",
       "      <td>0.361534</td>\n",
       "      <td>0.361534</td>\n",
       "      <td>0.029638</td>\n",
       "      <td>0.712517</td>\n",
       "      <td>0.033102</td>\n",
       "      <td>0.795808</td>\n",
       "    </tr>\n",
       "    <tr>\n",
       "      <th>1.0</th>\n",
       "      <td>0.043124</td>\n",
       "      <td>0.031069</td>\n",
       "      <td>0.012055</td>\n",
       "      <td>0.387999</td>\n",
       "      <td>0.387999</td>\n",
       "      <td>0.037638</td>\n",
       "      <td>1.211441</td>\n",
       "      <td>0.039342</td>\n",
       "      <td>1.266276</td>\n",
       "    </tr>\n",
       "    <tr>\n",
       "      <th>10.0</th>\n",
       "      <td>0.058322</td>\n",
       "      <td>0.039333</td>\n",
       "      <td>0.018989</td>\n",
       "      <td>0.482779</td>\n",
       "      <td>0.482779</td>\n",
       "      <td>0.031011</td>\n",
       "      <td>0.788433</td>\n",
       "      <td>0.036231</td>\n",
       "      <td>0.921133</td>\n",
       "    </tr>\n",
       "    <tr>\n",
       "      <th rowspan=\"3\" valign=\"top\">mrd_direct</th>\n",
       "      <th>0.1</th>\n",
       "      <td>0.055311</td>\n",
       "      <td>0.041596</td>\n",
       "      <td>0.013715</td>\n",
       "      <td>0.329726</td>\n",
       "      <td>0.329726</td>\n",
       "      <td>0.091093</td>\n",
       "      <td>2.189946</td>\n",
       "      <td>0.091668</td>\n",
       "      <td>2.203775</td>\n",
       "    </tr>\n",
       "    <tr>\n",
       "      <th>1.0</th>\n",
       "      <td>0.044901</td>\n",
       "      <td>0.031069</td>\n",
       "      <td>0.013832</td>\n",
       "      <td>0.445214</td>\n",
       "      <td>0.445214</td>\n",
       "      <td>0.052371</td>\n",
       "      <td>1.685641</td>\n",
       "      <td>0.053913</td>\n",
       "      <td>1.735277</td>\n",
       "    </tr>\n",
       "    <tr>\n",
       "      <th>10.0</th>\n",
       "      <td>-0.822636</td>\n",
       "      <td>0.039333</td>\n",
       "      <td>-0.861969</td>\n",
       "      <td>-21.914801</td>\n",
       "      <td>21.914801</td>\n",
       "      <td>10.808134</td>\n",
       "      <td>274.787308</td>\n",
       "      <td>10.788447</td>\n",
       "      <td>274.286788</td>\n",
       "    </tr>\n",
       "    <tr>\n",
       "      <th rowspan=\"3\" valign=\"top\">mrd_spillover_seller</th>\n",
       "      <th>0.1</th>\n",
       "      <td>0.047269</td>\n",
       "      <td>0.041596</td>\n",
       "      <td>0.005673</td>\n",
       "      <td>0.136382</td>\n",
       "      <td>0.136382</td>\n",
       "      <td>0.063112</td>\n",
       "      <td>1.517267</td>\n",
       "      <td>0.063051</td>\n",
       "      <td>1.515809</td>\n",
       "    </tr>\n",
       "    <tr>\n",
       "      <th>1.0</th>\n",
       "      <td>0.002568</td>\n",
       "      <td>0.031069</td>\n",
       "      <td>-0.028501</td>\n",
       "      <td>-0.917345</td>\n",
       "      <td>0.917345</td>\n",
       "      <td>0.044757</td>\n",
       "      <td>1.440584</td>\n",
       "      <td>0.052872</td>\n",
       "      <td>1.701779</td>\n",
       "    </tr>\n",
       "    <tr>\n",
       "      <th>10.0</th>\n",
       "      <td>0.880939</td>\n",
       "      <td>0.039333</td>\n",
       "      <td>0.841606</td>\n",
       "      <td>21.397091</td>\n",
       "      <td>21.397091</td>\n",
       "      <td>10.808717</td>\n",
       "      <td>274.802131</td>\n",
       "      <td>10.787417</td>\n",
       "      <td>274.260614</td>\n",
       "    </tr>\n",
       "    <tr>\n",
       "      <th rowspan=\"3\" valign=\"top\">mrd_spillover_buyer</th>\n",
       "      <th>0.1</th>\n",
       "      <td>-0.010506</td>\n",
       "      <td>0.041596</td>\n",
       "      <td>-0.052102</td>\n",
       "      <td>-1.252572</td>\n",
       "      <td>1.252572</td>\n",
       "      <td>0.089988</td>\n",
       "      <td>2.163377</td>\n",
       "      <td>0.103592</td>\n",
       "      <td>2.490449</td>\n",
       "    </tr>\n",
       "    <tr>\n",
       "      <th>1.0</th>\n",
       "      <td>-0.005517</td>\n",
       "      <td>0.031069</td>\n",
       "      <td>-0.036586</td>\n",
       "      <td>-1.177564</td>\n",
       "      <td>1.177564</td>\n",
       "      <td>0.044651</td>\n",
       "      <td>1.437176</td>\n",
       "      <td>0.057553</td>\n",
       "      <td>1.852425</td>\n",
       "    </tr>\n",
       "    <tr>\n",
       "      <th>10.0</th>\n",
       "      <td>-0.152629</td>\n",
       "      <td>0.039333</td>\n",
       "      <td>-0.191962</td>\n",
       "      <td>-4.880459</td>\n",
       "      <td>4.880459</td>\n",
       "      <td>6.203454</td>\n",
       "      <td>157.717371</td>\n",
       "      <td>6.175343</td>\n",
       "      <td>157.002676</td>\n",
       "    </tr>\n",
       "    <tr>\n",
       "      <th rowspan=\"3\" valign=\"top\">mrd_avg</th>\n",
       "      <th>0.1</th>\n",
       "      <td>0.092074</td>\n",
       "      <td>0.041596</td>\n",
       "      <td>0.050478</td>\n",
       "      <td>1.213535</td>\n",
       "      <td>1.213535</td>\n",
       "      <td>0.062347</td>\n",
       "      <td>1.498870</td>\n",
       "      <td>0.079977</td>\n",
       "      <td>1.922710</td>\n",
       "    </tr>\n",
       "    <tr>\n",
       "      <th>1.0</th>\n",
       "      <td>0.041952</td>\n",
       "      <td>0.031069</td>\n",
       "      <td>0.010884</td>\n",
       "      <td>0.350306</td>\n",
       "      <td>0.350306</td>\n",
       "      <td>0.040354</td>\n",
       "      <td>1.298861</td>\n",
       "      <td>0.041601</td>\n",
       "      <td>1.338986</td>\n",
       "    </tr>\n",
       "    <tr>\n",
       "      <th>10.0</th>\n",
       "      <td>-0.094326</td>\n",
       "      <td>0.039333</td>\n",
       "      <td>-0.133659</td>\n",
       "      <td>-3.398168</td>\n",
       "      <td>3.398168</td>\n",
       "      <td>6.199558</td>\n",
       "      <td>157.618321</td>\n",
       "      <td>6.169930</td>\n",
       "      <td>156.865060</td>\n",
       "    </tr>\n",
       "  </tbody>\n",
       "</table>\n",
       "</div>"
      ],
      "text/plain": [
       "                                  est       gte      bias  bias_over_GTE  \\\n",
       "estimator_type       lambda                                                \n",
       "cr                   0.1     0.041660  0.041596  0.000064       0.001541   \n",
       "                     1.0     0.035950  0.031069  0.004881       0.157107   \n",
       "                     10.0    0.152000  0.039333  0.112667       2.864467   \n",
       "lr                   0.1     0.052100  0.041596  0.010504       0.252528   \n",
       "                     1.0     0.034330  0.031069  0.003261       0.104965   \n",
       "                     10.0    0.039240  0.039333 -0.000093      -0.002357   \n",
       "tsr_est_naive        0.1     0.050078  0.041596  0.008482       0.203913   \n",
       "                     1.0     0.044442  0.031069  0.013373       0.430420   \n",
       "                     10.0    0.058276  0.039333  0.018943       0.481606   \n",
       "tsri_1.0             0.1     0.053469  0.041596  0.011873       0.285432   \n",
       "                     1.0     0.043809  0.031069  0.012740       0.410070   \n",
       "                     10.0    0.058289  0.039333  0.018956       0.481938   \n",
       "tsri_2.0             0.1     0.056634  0.041596  0.015038       0.361534   \n",
       "                     1.0     0.043124  0.031069  0.012055       0.387999   \n",
       "                     10.0    0.058322  0.039333  0.018989       0.482779   \n",
       "mrd_direct           0.1     0.055311  0.041596  0.013715       0.329726   \n",
       "                     1.0     0.044901  0.031069  0.013832       0.445214   \n",
       "                     10.0   -0.822636  0.039333 -0.861969     -21.914801   \n",
       "mrd_spillover_seller 0.1     0.047269  0.041596  0.005673       0.136382   \n",
       "                     1.0     0.002568  0.031069 -0.028501      -0.917345   \n",
       "                     10.0    0.880939  0.039333  0.841606      21.397091   \n",
       "mrd_spillover_buyer  0.1    -0.010506  0.041596 -0.052102      -1.252572   \n",
       "                     1.0    -0.005517  0.031069 -0.036586      -1.177564   \n",
       "                     10.0   -0.152629  0.039333 -0.191962      -4.880459   \n",
       "mrd_avg              0.1     0.092074  0.041596  0.050478       1.213535   \n",
       "                     1.0     0.041952  0.031069  0.010884       0.350306   \n",
       "                     10.0   -0.094326  0.039333 -0.133659      -3.398168   \n",
       "\n",
       "                             abs_bias_over_GTE        std  std_over_GTE  \\\n",
       "estimator_type       lambda                                               \n",
       "cr                   0.1              0.001541   0.022879      0.550025   \n",
       "                     1.0              0.157107   0.020006      0.643916   \n",
       "                     10.0             2.864467   0.035615      0.905471   \n",
       "lr                   0.1              0.252528   0.022169      0.532950   \n",
       "                     1.0              0.104965   0.017758      0.571558   \n",
       "                     10.0             0.002357   0.032058      0.815040   \n",
       "tsr_est_naive        0.1              0.203913   0.021740      0.522640   \n",
       "                     1.0              0.430420   0.018242      0.587147   \n",
       "                     10.0             0.481606   0.031046      0.789317   \n",
       "tsri_1.0             0.1              0.285432   0.023092      0.555139   \n",
       "                     1.0              0.410070   0.022478      0.723484   \n",
       "                     10.0             0.481938   0.031019      0.788633   \n",
       "tsri_2.0             0.1              0.361534   0.029638      0.712517   \n",
       "                     1.0              0.387999   0.037638      1.211441   \n",
       "                     10.0             0.482779   0.031011      0.788433   \n",
       "mrd_direct           0.1              0.329726   0.091093      2.189946   \n",
       "                     1.0              0.445214   0.052371      1.685641   \n",
       "                     10.0            21.914801  10.808134    274.787308   \n",
       "mrd_spillover_seller 0.1              0.136382   0.063112      1.517267   \n",
       "                     1.0              0.917345   0.044757      1.440584   \n",
       "                     10.0            21.397091  10.808717    274.802131   \n",
       "mrd_spillover_buyer  0.1              1.252572   0.089988      2.163377   \n",
       "                     1.0              1.177564   0.044651      1.437176   \n",
       "                     10.0             4.880459   6.203454    157.717371   \n",
       "mrd_avg              0.1              1.213535   0.062347      1.498870   \n",
       "                     1.0              0.350306   0.040354      1.298861   \n",
       "                     10.0             3.398168   6.199558    157.618321   \n",
       "\n",
       "                                  rmse  rmse_over_GTE  \n",
       "estimator_type       lambda                            \n",
       "cr                   0.1      0.022764       0.547270  \n",
       "                     1.0      0.020495       0.659670  \n",
       "                     10.0     0.118109       3.002807  \n",
       "lr                   0.1      0.024431       0.587338  \n",
       "                     1.0      0.017967       0.578299  \n",
       "                     10.0     0.031897       0.810958  \n",
       "tsr_est_naive        0.1      0.023234       0.558571  \n",
       "                     1.0      0.022545       0.725641  \n",
       "                     10.0     0.036236       0.921268  \n",
       "tsri_1.0             0.1      0.025862       0.621747  \n",
       "                     1.0      0.025739       0.828464  \n",
       "                     10.0     0.036220       0.920862  \n",
       "tsri_2.0             0.1      0.033102       0.795808  \n",
       "                     1.0      0.039342       1.266276  \n",
       "                     10.0     0.036231       0.921133  \n",
       "mrd_direct           0.1      0.091668       2.203775  \n",
       "                     1.0      0.053913       1.735277  \n",
       "                     10.0    10.788447     274.286788  \n",
       "mrd_spillover_seller 0.1      0.063051       1.515809  \n",
       "                     1.0      0.052872       1.701779  \n",
       "                     10.0    10.787417     274.260614  \n",
       "mrd_spillover_buyer  0.1      0.103592       2.490449  \n",
       "                     1.0      0.057553       1.852425  \n",
       "                     10.0     6.175343     157.002676  \n",
       "mrd_avg              0.1      0.079977       1.922710  \n",
       "                     1.0      0.041601       1.338986  \n",
       "                     10.0     6.169930     156.865060  "
      ]
     },
     "execution_count": 10,
     "metadata": {},
     "output_type": "execute_result"
    }
   ],
   "source": [
    "est_stats_herding"
   ]
  },
  {
   "cell_type": "code",
   "execution_count": 11,
   "metadata": {
    "ExecuteTime": {
     "end_time": "2023-12-02T19:15:52.179022Z",
     "start_time": "2023-12-02T19:15:52.172638Z"
    },
    "hidden": true
   },
   "outputs": [],
   "source": [
    "est_stats_herding = est_stats_herding.rename({'cr':\"Customer-Side\", 'lr':\"Service-Side\",\n",
    "                            'tsri_2.0':'TSRI-2', 'tsri_1.0':'TSRI-1',\n",
    "                             'tsr_est_naive':\"TSR-Naive\",\n",
    "                            'mrd_direct':\"MRD-Direct\",\n",
    "                            'mrd_spillover_seller':\"MRD-Seller-Spillover\",\n",
    "                            'mrd_spillover_buyer':\"MRD-Buyer-Spillover\",\n",
    "                            'mrd_avg':\"MRD-Average\"\n",
    "                            })"
   ]
  },
  {
   "cell_type": "markdown",
   "metadata": {
    "hidden": true
   },
   "source": [
    "## Competition"
   ]
  },
  {
   "cell_type": "code",
   "execution_count": 12,
   "metadata": {
    "ExecuteTime": {
     "end_time": "2023-12-02T19:20:56.927089Z",
     "start_time": "2023-12-02T19:15:52.181325Z"
    },
    "hidden": true
   },
   "outputs": [
    {
     "name": "stdout",
     "output_type": "stream",
     "text": [
      "lambda= 0.1\n",
      "Time elapsed:  31.1\n",
      "lambda= 1\n",
      "Time elapsed:  27.89\n",
      "lambda= 10\n",
      "Time elapsed:  128.98\n"
     ]
    }
   ],
   "source": [
    "events_competition = sim_wrapper.run_all_sims(n_runs, n_listings, T_start, T_end, \n",
    "                                  choice_set_type, k,\n",
    "                                 alpha, epsilon, tau, lams,\n",
    "                                 **params, herding=False)\n",
    "est_stats_competition = sim_wrapper.calc_all_ests_stats(\"sample\", T_start, T_end, \n",
    "                                            n_listings, tau=tau, \n",
    "                                            tsr_est_types=tsr_est_types,\n",
    "                                            events=events_competition, \n",
    "                                            varying_time_horizons=varying_time_horizons,\n",
    "                                            **params\n",
    "                                           )"
   ]
  },
  {
   "cell_type": "code",
   "execution_count": 13,
   "metadata": {
    "ExecuteTime": {
     "end_time": "2023-12-02T19:20:56.946143Z",
     "start_time": "2023-12-02T19:20:56.932354Z"
    },
    "hidden": true
   },
   "outputs": [],
   "source": [
    "est_stats_competition = est_stats_competition.rename({'cr':\"Customer-Side\", 'lr':\"Service-Side\",\n",
    "                            'tsri_2.0':'TSRI-2', 'tsri_1.0':'TSRI-1',\n",
    "                             'tsr_est_naive':\"TSR-Naive\"\n",
    "                            })"
   ]
  },
  {
   "cell_type": "markdown",
   "metadata": {},
   "source": [
    "# Visualizations"
   ]
  },
  {
   "cell_type": "markdown",
   "metadata": {},
   "source": [
    "## Visualizations: Herding"
   ]
  },
  {
   "cell_type": "code",
   "execution_count": 16,
   "metadata": {
    "ExecuteTime": {
     "end_time": "2023-12-02T22:45:26.595269Z",
     "start_time": "2023-12-02T22:45:26.573066Z"
    }
   },
   "outputs": [],
   "source": [
    "est_stats_herding = pd.read_csv(\"sampletotal_stats.csv\", index_col=[\"estimator_type\", \"lambda\"])\n",
    "\n",
    "est_stats_herding = est_stats_herding.rename({'cr':\"Customer-Side\", 'lr':\"Product-Side\",\n",
    "                            'tsri_2.0':'TSRI-2', 'tsri_1.0':'TSRI-1',\n",
    "                            'tsr_est_naive':\"TSR-Naive\",\n",
    "                            'mrd_direct':\"MRD-Direct\",\n",
    "                            'mrd_spillover_seller':\"MRD-Seller-Spillover\",\n",
    "                            'mrd_spillover_buyer':\"MRD-Buyer-Spillover\",\n",
    "                            'mrd_avg':\"MRD-Average\"\n",
    "                            })"
   ]
  },
  {
   "cell_type": "code",
   "execution_count": null,
   "metadata": {},
   "outputs": [],
   "source": [
    "est_stats_herding"
   ]
  },
  {
   "cell_type": "code",
   "execution_count": 23,
   "metadata": {
    "ExecuteTime": {
     "end_time": "2023-12-02T22:46:12.348983Z",
     "start_time": "2023-12-02T22:46:11.092077Z"
    }
   },
   "outputs": [
    {
     "data": {
      "text/plain": [
       "(<Figure size 1000x1000 with 6 Axes>,\n",
       " array([[<AxesSubplot:xlabel='Relative user arrival rate $\\\\lambda/\\\\tau$', ylabel='Bias'>,\n",
       "         <AxesSubplot:xlabel='Relative user arrival rate $\\\\lambda/\\\\tau$', ylabel='Bias / GTE'>],\n",
       "        [<AxesSubplot:xlabel='Relative user arrival rate $\\\\lambda/\\\\tau$', ylabel='SE'>,\n",
       "         <AxesSubplot:xlabel='Relative user arrival rate $\\\\lambda/\\\\tau$', ylabel='SE / GTE'>],\n",
       "        [<AxesSubplot:xlabel='Relative user arrival rate $\\\\lambda/\\\\tau$', ylabel='RMSE'>,\n",
       "         <AxesSubplot:xlabel='Relative user arrival rate $\\\\lambda/\\\\tau$', ylabel='RMSE / GTE'>]],\n",
       "       dtype=object))"
      ]
     },
     "execution_count": 23,
     "metadata": {},
     "output_type": "execute_result"
    },
    {
     "data": {
      "image/png": "[encoded data removed]",
      "text/plain": [
       "<Figure size 1000x1000 with 6 Axes>"
      ]
     },
     "metadata": {},
     "output_type": "display_data"
    }
   ],
   "source": [
    "sim_wrapper.plot_all_stats(est_stats_herding, \"Herding Simulations\")"
   ]
  },
  {
   "cell_type": "markdown",
   "metadata": {},
   "source": [
    "## Visualizations: competition"
   ]
  },
  {
   "cell_type": "code",
   "execution_count": 18,
   "metadata": {
    "ExecuteTime": {
     "end_time": "2023-12-02T22:46:49.724889Z",
     "start_time": "2023-12-02T22:46:49.706953Z"
    }
   },
   "outputs": [
    {
     "ename": "FileNotFoundError",
     "evalue": "[Errno 2] No such file or directory: 'sample_total_stats_competition.csv'",
     "output_type": "error",
     "traceback": [
      "\u001b[0;31m---------------------------------------------------------------------------\u001b[0m",
      "\u001b[0;31mFileNotFoundError\u001b[0m                         Traceback (most recent call last)",
      "Cell \u001b[0;32mIn[18], line 1\u001b[0m\n\u001b[0;32m----> 1\u001b[0m est_stats_competition \u001b[38;5;241m=\u001b[39m \u001b[43mpd\u001b[49m\u001b[38;5;241;43m.\u001b[39;49m\u001b[43mread_csv\u001b[49m\u001b[43m(\u001b[49m\u001b[38;5;124;43m\"\u001b[39;49m\u001b[38;5;124;43msample_total_stats_competition.csv\u001b[39;49m\u001b[38;5;124;43m\"\u001b[39;49m\u001b[43m,\u001b[49m\u001b[43m \u001b[49m\u001b[43mindex_col\u001b[49m\u001b[38;5;241;43m=\u001b[39;49m\u001b[43m[\u001b[49m\u001b[38;5;124;43m\"\u001b[39;49m\u001b[38;5;124;43mestimator_type\u001b[39;49m\u001b[38;5;124;43m\"\u001b[39;49m\u001b[43m,\u001b[49m\u001b[43m \u001b[49m\u001b[38;5;124;43m\"\u001b[39;49m\u001b[38;5;124;43mlambda\u001b[39;49m\u001b[38;5;124;43m\"\u001b[39;49m\u001b[43m]\u001b[49m\u001b[43m)\u001b[49m\n\u001b[1;32m      3\u001b[0m est_stats_competition \u001b[38;5;241m=\u001b[39m est_stats_competition\u001b[38;5;241m.\u001b[39mrename({\u001b[38;5;124m'\u001b[39m\u001b[38;5;124mcr\u001b[39m\u001b[38;5;124m'\u001b[39m:\u001b[38;5;124m\"\u001b[39m\u001b[38;5;124mCustomer-Side\u001b[39m\u001b[38;5;124m\"\u001b[39m, \u001b[38;5;124m'\u001b[39m\u001b[38;5;124mlr\u001b[39m\u001b[38;5;124m'\u001b[39m:\u001b[38;5;124m\"\u001b[39m\u001b[38;5;124mService-Side\u001b[39m\u001b[38;5;124m\"\u001b[39m,\n\u001b[1;32m      4\u001b[0m                             \u001b[38;5;124m'\u001b[39m\u001b[38;5;124mtsri_2.0\u001b[39m\u001b[38;5;124m'\u001b[39m:\u001b[38;5;124m'\u001b[39m\u001b[38;5;124mTSRI-2\u001b[39m\u001b[38;5;124m'\u001b[39m, \u001b[38;5;124m'\u001b[39m\u001b[38;5;124mtsri_1.0\u001b[39m\u001b[38;5;124m'\u001b[39m:\u001b[38;5;124m'\u001b[39m\u001b[38;5;124mTSRI-1\u001b[39m\u001b[38;5;124m'\u001b[39m,\n\u001b[1;32m      5\u001b[0m                              \u001b[38;5;124m'\u001b[39m\u001b[38;5;124mtsr_est_naive\u001b[39m\u001b[38;5;124m'\u001b[39m:\u001b[38;5;124m\"\u001b[39m\u001b[38;5;124mTSR-Naive\u001b[39m\u001b[38;5;124m\"\u001b[39m\n\u001b[1;32m      6\u001b[0m                             })\n",
      "File \u001b[0;32m~/.local/lib/python3.10/site-packages/pandas/io/parsers/readers.py:948\u001b[0m, in \u001b[0;36mread_csv\u001b[0;34m(filepath_or_buffer, sep, delimiter, header, names, index_col, usecols, dtype, engine, converters, true_values, false_values, skipinitialspace, skiprows, skipfooter, nrows, na_values, keep_default_na, na_filter, verbose, skip_blank_lines, parse_dates, infer_datetime_format, keep_date_col, date_parser, date_format, dayfirst, cache_dates, iterator, chunksize, compression, thousands, decimal, lineterminator, quotechar, quoting, doublequote, escapechar, comment, encoding, encoding_errors, dialect, on_bad_lines, delim_whitespace, low_memory, memory_map, float_precision, storage_options, dtype_backend)\u001b[0m\n\u001b[1;32m    935\u001b[0m kwds_defaults \u001b[38;5;241m=\u001b[39m _refine_defaults_read(\n\u001b[1;32m    936\u001b[0m     dialect,\n\u001b[1;32m    937\u001b[0m     delimiter,\n\u001b[0;32m   (...)\u001b[0m\n\u001b[1;32m    944\u001b[0m     dtype_backend\u001b[38;5;241m=\u001b[39mdtype_backend,\n\u001b[1;32m    945\u001b[0m )\n\u001b[1;32m    946\u001b[0m kwds\u001b[38;5;241m.\u001b[39mupdate(kwds_defaults)\n\u001b[0;32m--> 948\u001b[0m \u001b[38;5;28;01mreturn\u001b[39;00m \u001b[43m_read\u001b[49m\u001b[43m(\u001b[49m\u001b[43mfilepath_or_buffer\u001b[49m\u001b[43m,\u001b[49m\u001b[43m \u001b[49m\u001b[43mkwds\u001b[49m\u001b[43m)\u001b[49m\n",
      "File \u001b[0;32m~/.local/lib/python3.10/site-packages/pandas/io/parsers/readers.py:611\u001b[0m, in \u001b[0;36m_read\u001b[0;34m(filepath_or_buffer, kwds)\u001b[0m\n\u001b[1;32m    608\u001b[0m _validate_names(kwds\u001b[38;5;241m.\u001b[39mget(\u001b[38;5;124m\"\u001b[39m\u001b[38;5;124mnames\u001b[39m\u001b[38;5;124m\"\u001b[39m, \u001b[38;5;28;01mNone\u001b[39;00m))\n\u001b[1;32m    610\u001b[0m \u001b[38;5;66;03m# Create the parser.\u001b[39;00m\n\u001b[0;32m--> 611\u001b[0m parser \u001b[38;5;241m=\u001b[39m \u001b[43mTextFileReader\u001b[49m\u001b[43m(\u001b[49m\u001b[43mfilepath_or_buffer\u001b[49m\u001b[43m,\u001b[49m\u001b[43m \u001b[49m\u001b[38;5;241;43m*\u001b[39;49m\u001b[38;5;241;43m*\u001b[39;49m\u001b[43mkwds\u001b[49m\u001b[43m)\u001b[49m\n\u001b[1;32m    613\u001b[0m \u001b[38;5;28;01mif\u001b[39;00m chunksize \u001b[38;5;129;01mor\u001b[39;00m iterator:\n\u001b[1;32m    614\u001b[0m     \u001b[38;5;28;01mreturn\u001b[39;00m parser\n",
      "File \u001b[0;32m~/.local/lib/python3.10/site-packages/pandas/io/parsers/readers.py:1448\u001b[0m, in \u001b[0;36mTextFileReader.__init__\u001b[0;34m(self, f, engine, **kwds)\u001b[0m\n\u001b[1;32m   1445\u001b[0m     \u001b[38;5;28mself\u001b[39m\u001b[38;5;241m.\u001b[39moptions[\u001b[38;5;124m\"\u001b[39m\u001b[38;5;124mhas_index_names\u001b[39m\u001b[38;5;124m\"\u001b[39m] \u001b[38;5;241m=\u001b[39m kwds[\u001b[38;5;124m\"\u001b[39m\u001b[38;5;124mhas_index_names\u001b[39m\u001b[38;5;124m\"\u001b[39m]\n\u001b[1;32m   1447\u001b[0m \u001b[38;5;28mself\u001b[39m\u001b[38;5;241m.\u001b[39mhandles: IOHandles \u001b[38;5;241m|\u001b[39m \u001b[38;5;28;01mNone\u001b[39;00m \u001b[38;5;241m=\u001b[39m \u001b[38;5;28;01mNone\u001b[39;00m\n\u001b[0;32m-> 1448\u001b[0m \u001b[38;5;28mself\u001b[39m\u001b[38;5;241m.\u001b[39m_engine \u001b[38;5;241m=\u001b[39m \u001b[38;5;28;43mself\u001b[39;49m\u001b[38;5;241;43m.\u001b[39;49m\u001b[43m_make_engine\u001b[49m\u001b[43m(\u001b[49m\u001b[43mf\u001b[49m\u001b[43m,\u001b[49m\u001b[43m \u001b[49m\u001b[38;5;28;43mself\u001b[39;49m\u001b[38;5;241;43m.\u001b[39;49m\u001b[43mengine\u001b[49m\u001b[43m)\u001b[49m\n",
      "File \u001b[0;32m~/.local/lib/python3.10/site-packages/pandas/io/parsers/readers.py:1705\u001b[0m, in \u001b[0;36mTextFileReader._make_engine\u001b[0;34m(self, f, engine)\u001b[0m\n\u001b[1;32m   1703\u001b[0m     \u001b[38;5;28;01mif\u001b[39;00m \u001b[38;5;124m\"\u001b[39m\u001b[38;5;124mb\u001b[39m\u001b[38;5;124m\"\u001b[39m \u001b[38;5;129;01mnot\u001b[39;00m \u001b[38;5;129;01min\u001b[39;00m mode:\n\u001b[1;32m   1704\u001b[0m         mode \u001b[38;5;241m+\u001b[39m\u001b[38;5;241m=\u001b[39m \u001b[38;5;124m\"\u001b[39m\u001b[38;5;124mb\u001b[39m\u001b[38;5;124m\"\u001b[39m\n\u001b[0;32m-> 1705\u001b[0m \u001b[38;5;28mself\u001b[39m\u001b[38;5;241m.\u001b[39mhandles \u001b[38;5;241m=\u001b[39m \u001b[43mget_handle\u001b[49m\u001b[43m(\u001b[49m\n\u001b[1;32m   1706\u001b[0m \u001b[43m    \u001b[49m\u001b[43mf\u001b[49m\u001b[43m,\u001b[49m\n\u001b[1;32m   1707\u001b[0m \u001b[43m    \u001b[49m\u001b[43mmode\u001b[49m\u001b[43m,\u001b[49m\n\u001b[1;32m   1708\u001b[0m \u001b[43m    \u001b[49m\u001b[43mencoding\u001b[49m\u001b[38;5;241;43m=\u001b[39;49m\u001b[38;5;28;43mself\u001b[39;49m\u001b[38;5;241;43m.\u001b[39;49m\u001b[43moptions\u001b[49m\u001b[38;5;241;43m.\u001b[39;49m\u001b[43mget\u001b[49m\u001b[43m(\u001b[49m\u001b[38;5;124;43m\"\u001b[39;49m\u001b[38;5;124;43mencoding\u001b[39;49m\u001b[38;5;124;43m\"\u001b[39;49m\u001b[43m,\u001b[49m\u001b[43m \u001b[49m\u001b[38;5;28;43;01mNone\u001b[39;49;00m\u001b[43m)\u001b[49m\u001b[43m,\u001b[49m\n\u001b[1;32m   1709\u001b[0m \u001b[43m    \u001b[49m\u001b[43mcompression\u001b[49m\u001b[38;5;241;43m=\u001b[39;49m\u001b[38;5;28;43mself\u001b[39;49m\u001b[38;5;241;43m.\u001b[39;49m\u001b[43moptions\u001b[49m\u001b[38;5;241;43m.\u001b[39;49m\u001b[43mget\u001b[49m\u001b[43m(\u001b[49m\u001b[38;5;124;43m\"\u001b[39;49m\u001b[38;5;124;43mcompression\u001b[39;49m\u001b[38;5;124;43m\"\u001b[39;49m\u001b[43m,\u001b[49m\u001b[43m \u001b[49m\u001b[38;5;28;43;01mNone\u001b[39;49;00m\u001b[43m)\u001b[49m\u001b[43m,\u001b[49m\n\u001b[1;32m   1710\u001b[0m \u001b[43m    \u001b[49m\u001b[43mmemory_map\u001b[49m\u001b[38;5;241;43m=\u001b[39;49m\u001b[38;5;28;43mself\u001b[39;49m\u001b[38;5;241;43m.\u001b[39;49m\u001b[43moptions\u001b[49m\u001b[38;5;241;43m.\u001b[39;49m\u001b[43mget\u001b[49m\u001b[43m(\u001b[49m\u001b[38;5;124;43m\"\u001b[39;49m\u001b[38;5;124;43mmemory_map\u001b[39;49m\u001b[38;5;124;43m\"\u001b[39;49m\u001b[43m,\u001b[49m\u001b[43m \u001b[49m\u001b[38;5;28;43;01mFalse\u001b[39;49;00m\u001b[43m)\u001b[49m\u001b[43m,\u001b[49m\n\u001b[1;32m   1711\u001b[0m \u001b[43m    \u001b[49m\u001b[43mis_text\u001b[49m\u001b[38;5;241;43m=\u001b[39;49m\u001b[43mis_text\u001b[49m\u001b[43m,\u001b[49m\n\u001b[1;32m   1712\u001b[0m \u001b[43m    \u001b[49m\u001b[43merrors\u001b[49m\u001b[38;5;241;43m=\u001b[39;49m\u001b[38;5;28;43mself\u001b[39;49m\u001b[38;5;241;43m.\u001b[39;49m\u001b[43moptions\u001b[49m\u001b[38;5;241;43m.\u001b[39;49m\u001b[43mget\u001b[49m\u001b[43m(\u001b[49m\u001b[38;5;124;43m\"\u001b[39;49m\u001b[38;5;124;43mencoding_errors\u001b[39;49m\u001b[38;5;124;43m\"\u001b[39;49m\u001b[43m,\u001b[49m\u001b[43m \u001b[49m\u001b[38;5;124;43m\"\u001b[39;49m\u001b[38;5;124;43mstrict\u001b[39;49m\u001b[38;5;124;43m\"\u001b[39;49m\u001b[43m)\u001b[49m\u001b[43m,\u001b[49m\n\u001b[1;32m   1713\u001b[0m \u001b[43m    \u001b[49m\u001b[43mstorage_options\u001b[49m\u001b[38;5;241;43m=\u001b[39;49m\u001b[38;5;28;43mself\u001b[39;49m\u001b[38;5;241;43m.\u001b[39;49m\u001b[43moptions\u001b[49m\u001b[38;5;241;43m.\u001b[39;49m\u001b[43mget\u001b[49m\u001b[43m(\u001b[49m\u001b[38;5;124;43m\"\u001b[39;49m\u001b[38;5;124;43mstorage_options\u001b[39;49m\u001b[38;5;124;43m\"\u001b[39;49m\u001b[43m,\u001b[49m\u001b[43m \u001b[49m\u001b[38;5;28;43;01mNone\u001b[39;49;00m\u001b[43m)\u001b[49m\u001b[43m,\u001b[49m\n\u001b[1;32m   1714\u001b[0m \u001b[43m\u001b[49m\u001b[43m)\u001b[49m\n\u001b[1;32m   1715\u001b[0m \u001b[38;5;28;01massert\u001b[39;00m \u001b[38;5;28mself\u001b[39m\u001b[38;5;241m.\u001b[39mhandles \u001b[38;5;129;01mis\u001b[39;00m \u001b[38;5;129;01mnot\u001b[39;00m \u001b[38;5;28;01mNone\u001b[39;00m\n\u001b[1;32m   1716\u001b[0m f \u001b[38;5;241m=\u001b[39m \u001b[38;5;28mself\u001b[39m\u001b[38;5;241m.\u001b[39mhandles\u001b[38;5;241m.\u001b[39mhandle\n",
      "File \u001b[0;32m~/.local/lib/python3.10/site-packages/pandas/io/common.py:863\u001b[0m, in \u001b[0;36mget_handle\u001b[0;34m(path_or_buf, mode, encoding, compression, memory_map, is_text, errors, storage_options)\u001b[0m\n\u001b[1;32m    858\u001b[0m \u001b[38;5;28;01melif\u001b[39;00m \u001b[38;5;28misinstance\u001b[39m(handle, \u001b[38;5;28mstr\u001b[39m):\n\u001b[1;32m    859\u001b[0m     \u001b[38;5;66;03m# Check whether the filename is to be opened in binary mode.\u001b[39;00m\n\u001b[1;32m    860\u001b[0m     \u001b[38;5;66;03m# Binary mode does not support 'encoding' and 'newline'.\u001b[39;00m\n\u001b[1;32m    861\u001b[0m     \u001b[38;5;28;01mif\u001b[39;00m ioargs\u001b[38;5;241m.\u001b[39mencoding \u001b[38;5;129;01mand\u001b[39;00m \u001b[38;5;124m\"\u001b[39m\u001b[38;5;124mb\u001b[39m\u001b[38;5;124m\"\u001b[39m \u001b[38;5;129;01mnot\u001b[39;00m \u001b[38;5;129;01min\u001b[39;00m ioargs\u001b[38;5;241m.\u001b[39mmode:\n\u001b[1;32m    862\u001b[0m         \u001b[38;5;66;03m# Encoding\u001b[39;00m\n\u001b[0;32m--> 863\u001b[0m         handle \u001b[38;5;241m=\u001b[39m \u001b[38;5;28;43mopen\u001b[39;49m\u001b[43m(\u001b[49m\n\u001b[1;32m    864\u001b[0m \u001b[43m            \u001b[49m\u001b[43mhandle\u001b[49m\u001b[43m,\u001b[49m\n\u001b[1;32m    865\u001b[0m \u001b[43m            \u001b[49m\u001b[43mioargs\u001b[49m\u001b[38;5;241;43m.\u001b[39;49m\u001b[43mmode\u001b[49m\u001b[43m,\u001b[49m\n\u001b[1;32m    866\u001b[0m \u001b[43m            \u001b[49m\u001b[43mencoding\u001b[49m\u001b[38;5;241;43m=\u001b[39;49m\u001b[43mioargs\u001b[49m\u001b[38;5;241;43m.\u001b[39;49m\u001b[43mencoding\u001b[49m\u001b[43m,\u001b[49m\n\u001b[1;32m    867\u001b[0m \u001b[43m            \u001b[49m\u001b[43merrors\u001b[49m\u001b[38;5;241;43m=\u001b[39;49m\u001b[43merrors\u001b[49m\u001b[43m,\u001b[49m\n\u001b[1;32m    868\u001b[0m \u001b[43m            \u001b[49m\u001b[43mnewline\u001b[49m\u001b[38;5;241;43m=\u001b[39;49m\u001b[38;5;124;43m\"\u001b[39;49m\u001b[38;5;124;43m\"\u001b[39;49m\u001b[43m,\u001b[49m\n\u001b[1;32m    869\u001b[0m \u001b[43m        \u001b[49m\u001b[43m)\u001b[49m\n\u001b[1;32m    870\u001b[0m     \u001b[38;5;28;01melse\u001b[39;00m:\n\u001b[1;32m    871\u001b[0m         \u001b[38;5;66;03m# Binary mode\u001b[39;00m\n\u001b[1;32m    872\u001b[0m         handle \u001b[38;5;241m=\u001b[39m \u001b[38;5;28mopen\u001b[39m(handle, ioargs\u001b[38;5;241m.\u001b[39mmode)\n",
      "\u001b[0;31mFileNotFoundError\u001b[0m: [Errno 2] No such file or directory: 'sample_total_stats_competition.csv'"
     ]
    }
   ],
   "source": [
    "est_stats_competition = pd.read_csv(\"sample_total_stats_competition.csv\", index_col=[\"estimator_type\", \"lambda\"])\n",
    "\n",
    "est_stats_competition = est_stats_competition.rename({'cr':\"Customer-Side\", 'lr':\"Service-Side\",\n",
    "                            'tsri_2.0':'TSRI-2', 'tsri_1.0':'TSRI-1',\n",
    "                             'tsr_est_naive':\"TSR-Naive\"\n",
    "                            })"
   ]
  },
  {
   "cell_type": "code",
   "execution_count": null,
   "metadata": {
    "ExecuteTime": {
     "end_time": "2023-12-02T22:46:59.310011Z",
     "start_time": "2023-12-02T22:46:58.222884Z"
    }
   },
   "outputs": [],
   "source": [
    "sim_wrapper.plot_all_stats(est_stats_competition, \"Crowding Out Simulations\")"
   ]
  },
  {
   "cell_type": "markdown",
   "metadata": {},
   "source": [
    "## Visualizations: Herding, no recency"
   ]
  },
  {
   "cell_type": "code",
   "execution_count": 19,
   "metadata": {
    "ExecuteTime": {
     "end_time": "2023-12-02T22:47:04.235404Z",
     "start_time": "2023-12-02T22:47:04.209882Z"
    }
   },
   "outputs": [
    {
     "ename": "FileNotFoundError",
     "evalue": "[Errno 2] No such file or directory: 'sample_total_stats_herding_no_recency.csv'",
     "output_type": "error",
     "traceback": [
      "\u001b[0;31m---------------------------------------------------------------------------\u001b[0m",
      "\u001b[0;31mFileNotFoundError\u001b[0m                         Traceback (most recent call last)",
      "Cell \u001b[0;32mIn[19], line 1\u001b[0m\n\u001b[0;32m----> 1\u001b[0m est_stats_herding_no_recency \u001b[38;5;241m=\u001b[39m \u001b[43mpd\u001b[49m\u001b[38;5;241;43m.\u001b[39;49m\u001b[43mread_csv\u001b[49m\u001b[43m(\u001b[49m\u001b[38;5;124;43m\"\u001b[39;49m\u001b[38;5;124;43msample_total_stats_herding_no_recency.csv\u001b[39;49m\u001b[38;5;124;43m\"\u001b[39;49m\u001b[43m,\u001b[49m\u001b[43m \u001b[49m\u001b[43mindex_col\u001b[49m\u001b[38;5;241;43m=\u001b[39;49m\u001b[43m[\u001b[49m\u001b[38;5;124;43m\"\u001b[39;49m\u001b[38;5;124;43mestimator_type\u001b[39;49m\u001b[38;5;124;43m\"\u001b[39;49m\u001b[43m,\u001b[49m\u001b[43m \u001b[49m\u001b[38;5;124;43m\"\u001b[39;49m\u001b[38;5;124;43mlambda\u001b[39;49m\u001b[38;5;124;43m\"\u001b[39;49m\u001b[43m]\u001b[49m\u001b[43m)\u001b[49m\n\u001b[1;32m      3\u001b[0m est_stats_herding_no_recency \u001b[38;5;241m=\u001b[39m est_stats_herding_no_recency\u001b[38;5;241m.\u001b[39mrename({\u001b[38;5;124m'\u001b[39m\u001b[38;5;124mcr\u001b[39m\u001b[38;5;124m'\u001b[39m:\u001b[38;5;124m\"\u001b[39m\u001b[38;5;124mCustomer-Side\u001b[39m\u001b[38;5;124m\"\u001b[39m, \u001b[38;5;124m'\u001b[39m\u001b[38;5;124mlr\u001b[39m\u001b[38;5;124m'\u001b[39m:\u001b[38;5;124m\"\u001b[39m\u001b[38;5;124mService-Side\u001b[39m\u001b[38;5;124m\"\u001b[39m,\n\u001b[1;32m      4\u001b[0m                             \u001b[38;5;124m'\u001b[39m\u001b[38;5;124mtsri_2.0\u001b[39m\u001b[38;5;124m'\u001b[39m:\u001b[38;5;124m'\u001b[39m\u001b[38;5;124mTSRI-2\u001b[39m\u001b[38;5;124m'\u001b[39m, \u001b[38;5;124m'\u001b[39m\u001b[38;5;124mtsri_1.0\u001b[39m\u001b[38;5;124m'\u001b[39m:\u001b[38;5;124m'\u001b[39m\u001b[38;5;124mTSRI-1\u001b[39m\u001b[38;5;124m'\u001b[39m,\n\u001b[1;32m      5\u001b[0m                              \u001b[38;5;124m'\u001b[39m\u001b[38;5;124mtsr_est_naive\u001b[39m\u001b[38;5;124m'\u001b[39m:\u001b[38;5;124m\"\u001b[39m\u001b[38;5;124mTSR-Naive\u001b[39m\u001b[38;5;124m\"\u001b[39m\n\u001b[1;32m      6\u001b[0m                             })\n",
      "File \u001b[0;32m~/.local/lib/python3.10/site-packages/pandas/io/parsers/readers.py:948\u001b[0m, in \u001b[0;36mread_csv\u001b[0;34m(filepath_or_buffer, sep, delimiter, header, names, index_col, usecols, dtype, engine, converters, true_values, false_values, skipinitialspace, skiprows, skipfooter, nrows, na_values, keep_default_na, na_filter, verbose, skip_blank_lines, parse_dates, infer_datetime_format, keep_date_col, date_parser, date_format, dayfirst, cache_dates, iterator, chunksize, compression, thousands, decimal, lineterminator, quotechar, quoting, doublequote, escapechar, comment, encoding, encoding_errors, dialect, on_bad_lines, delim_whitespace, low_memory, memory_map, float_precision, storage_options, dtype_backend)\u001b[0m\n\u001b[1;32m    935\u001b[0m kwds_defaults \u001b[38;5;241m=\u001b[39m _refine_defaults_read(\n\u001b[1;32m    936\u001b[0m     dialect,\n\u001b[1;32m    937\u001b[0m     delimiter,\n\u001b[0;32m   (...)\u001b[0m\n\u001b[1;32m    944\u001b[0m     dtype_backend\u001b[38;5;241m=\u001b[39mdtype_backend,\n\u001b[1;32m    945\u001b[0m )\n\u001b[1;32m    946\u001b[0m kwds\u001b[38;5;241m.\u001b[39mupdate(kwds_defaults)\n\u001b[0;32m--> 948\u001b[0m \u001b[38;5;28;01mreturn\u001b[39;00m \u001b[43m_read\u001b[49m\u001b[43m(\u001b[49m\u001b[43mfilepath_or_buffer\u001b[49m\u001b[43m,\u001b[49m\u001b[43m \u001b[49m\u001b[43mkwds\u001b[49m\u001b[43m)\u001b[49m\n",
      "File \u001b[0;32m~/.local/lib/python3.10/site-packages/pandas/io/parsers/readers.py:611\u001b[0m, in \u001b[0;36m_read\u001b[0;34m(filepath_or_buffer, kwds)\u001b[0m\n\u001b[1;32m    608\u001b[0m _validate_names(kwds\u001b[38;5;241m.\u001b[39mget(\u001b[38;5;124m\"\u001b[39m\u001b[38;5;124mnames\u001b[39m\u001b[38;5;124m\"\u001b[39m, \u001b[38;5;28;01mNone\u001b[39;00m))\n\u001b[1;32m    610\u001b[0m \u001b[38;5;66;03m# Create the parser.\u001b[39;00m\n\u001b[0;32m--> 611\u001b[0m parser \u001b[38;5;241m=\u001b[39m \u001b[43mTextFileReader\u001b[49m\u001b[43m(\u001b[49m\u001b[43mfilepath_or_buffer\u001b[49m\u001b[43m,\u001b[49m\u001b[43m \u001b[49m\u001b[38;5;241;43m*\u001b[39;49m\u001b[38;5;241;43m*\u001b[39;49m\u001b[43mkwds\u001b[49m\u001b[43m)\u001b[49m\n\u001b[1;32m    613\u001b[0m \u001b[38;5;28;01mif\u001b[39;00m chunksize \u001b[38;5;129;01mor\u001b[39;00m iterator:\n\u001b[1;32m    614\u001b[0m     \u001b[38;5;28;01mreturn\u001b[39;00m parser\n",
      "File \u001b[0;32m~/.local/lib/python3.10/site-packages/pandas/io/parsers/readers.py:1448\u001b[0m, in \u001b[0;36mTextFileReader.__init__\u001b[0;34m(self, f, engine, **kwds)\u001b[0m\n\u001b[1;32m   1445\u001b[0m     \u001b[38;5;28mself\u001b[39m\u001b[38;5;241m.\u001b[39moptions[\u001b[38;5;124m\"\u001b[39m\u001b[38;5;124mhas_index_names\u001b[39m\u001b[38;5;124m\"\u001b[39m] \u001b[38;5;241m=\u001b[39m kwds[\u001b[38;5;124m\"\u001b[39m\u001b[38;5;124mhas_index_names\u001b[39m\u001b[38;5;124m\"\u001b[39m]\n\u001b[1;32m   1447\u001b[0m \u001b[38;5;28mself\u001b[39m\u001b[38;5;241m.\u001b[39mhandles: IOHandles \u001b[38;5;241m|\u001b[39m \u001b[38;5;28;01mNone\u001b[39;00m \u001b[38;5;241m=\u001b[39m \u001b[38;5;28;01mNone\u001b[39;00m\n\u001b[0;32m-> 1448\u001b[0m \u001b[38;5;28mself\u001b[39m\u001b[38;5;241m.\u001b[39m_engine \u001b[38;5;241m=\u001b[39m \u001b[38;5;28;43mself\u001b[39;49m\u001b[38;5;241;43m.\u001b[39;49m\u001b[43m_make_engine\u001b[49m\u001b[43m(\u001b[49m\u001b[43mf\u001b[49m\u001b[43m,\u001b[49m\u001b[43m \u001b[49m\u001b[38;5;28;43mself\u001b[39;49m\u001b[38;5;241;43m.\u001b[39;49m\u001b[43mengine\u001b[49m\u001b[43m)\u001b[49m\n",
      "File \u001b[0;32m~/.local/lib/python3.10/site-packages/pandas/io/parsers/readers.py:1705\u001b[0m, in \u001b[0;36mTextFileReader._make_engine\u001b[0;34m(self, f, engine)\u001b[0m\n\u001b[1;32m   1703\u001b[0m     \u001b[38;5;28;01mif\u001b[39;00m \u001b[38;5;124m\"\u001b[39m\u001b[38;5;124mb\u001b[39m\u001b[38;5;124m\"\u001b[39m \u001b[38;5;129;01mnot\u001b[39;00m \u001b[38;5;129;01min\u001b[39;00m mode:\n\u001b[1;32m   1704\u001b[0m         mode \u001b[38;5;241m+\u001b[39m\u001b[38;5;241m=\u001b[39m \u001b[38;5;124m\"\u001b[39m\u001b[38;5;124mb\u001b[39m\u001b[38;5;124m\"\u001b[39m\n\u001b[0;32m-> 1705\u001b[0m \u001b[38;5;28mself\u001b[39m\u001b[38;5;241m.\u001b[39mhandles \u001b[38;5;241m=\u001b[39m \u001b[43mget_handle\u001b[49m\u001b[43m(\u001b[49m\n\u001b[1;32m   1706\u001b[0m \u001b[43m    \u001b[49m\u001b[43mf\u001b[49m\u001b[43m,\u001b[49m\n\u001b[1;32m   1707\u001b[0m \u001b[43m    \u001b[49m\u001b[43mmode\u001b[49m\u001b[43m,\u001b[49m\n\u001b[1;32m   1708\u001b[0m \u001b[43m    \u001b[49m\u001b[43mencoding\u001b[49m\u001b[38;5;241;43m=\u001b[39;49m\u001b[38;5;28;43mself\u001b[39;49m\u001b[38;5;241;43m.\u001b[39;49m\u001b[43moptions\u001b[49m\u001b[38;5;241;43m.\u001b[39;49m\u001b[43mget\u001b[49m\u001b[43m(\u001b[49m\u001b[38;5;124;43m\"\u001b[39;49m\u001b[38;5;124;43mencoding\u001b[39;49m\u001b[38;5;124;43m\"\u001b[39;49m\u001b[43m,\u001b[49m\u001b[43m \u001b[49m\u001b[38;5;28;43;01mNone\u001b[39;49;00m\u001b[43m)\u001b[49m\u001b[43m,\u001b[49m\n\u001b[1;32m   1709\u001b[0m \u001b[43m    \u001b[49m\u001b[43mcompression\u001b[49m\u001b[38;5;241;43m=\u001b[39;49m\u001b[38;5;28;43mself\u001b[39;49m\u001b[38;5;241;43m.\u001b[39;49m\u001b[43moptions\u001b[49m\u001b[38;5;241;43m.\u001b[39;49m\u001b[43mget\u001b[49m\u001b[43m(\u001b[49m\u001b[38;5;124;43m\"\u001b[39;49m\u001b[38;5;124;43mcompression\u001b[39;49m\u001b[38;5;124;43m\"\u001b[39;49m\u001b[43m,\u001b[49m\u001b[43m \u001b[49m\u001b[38;5;28;43;01mNone\u001b[39;49;00m\u001b[43m)\u001b[49m\u001b[43m,\u001b[49m\n\u001b[1;32m   1710\u001b[0m \u001b[43m    \u001b[49m\u001b[43mmemory_map\u001b[49m\u001b[38;5;241;43m=\u001b[39;49m\u001b[38;5;28;43mself\u001b[39;49m\u001b[38;5;241;43m.\u001b[39;49m\u001b[43moptions\u001b[49m\u001b[38;5;241;43m.\u001b[39;49m\u001b[43mget\u001b[49m\u001b[43m(\u001b[49m\u001b[38;5;124;43m\"\u001b[39;49m\u001b[38;5;124;43mmemory_map\u001b[39;49m\u001b[38;5;124;43m\"\u001b[39;49m\u001b[43m,\u001b[49m\u001b[43m \u001b[49m\u001b[38;5;28;43;01mFalse\u001b[39;49;00m\u001b[43m)\u001b[49m\u001b[43m,\u001b[49m\n\u001b[1;32m   1711\u001b[0m \u001b[43m    \u001b[49m\u001b[43mis_text\u001b[49m\u001b[38;5;241;43m=\u001b[39;49m\u001b[43mis_text\u001b[49m\u001b[43m,\u001b[49m\n\u001b[1;32m   1712\u001b[0m \u001b[43m    \u001b[49m\u001b[43merrors\u001b[49m\u001b[38;5;241;43m=\u001b[39;49m\u001b[38;5;28;43mself\u001b[39;49m\u001b[38;5;241;43m.\u001b[39;49m\u001b[43moptions\u001b[49m\u001b[38;5;241;43m.\u001b[39;49m\u001b[43mget\u001b[49m\u001b[43m(\u001b[49m\u001b[38;5;124;43m\"\u001b[39;49m\u001b[38;5;124;43mencoding_errors\u001b[39;49m\u001b[38;5;124;43m\"\u001b[39;49m\u001b[43m,\u001b[49m\u001b[43m \u001b[49m\u001b[38;5;124;43m\"\u001b[39;49m\u001b[38;5;124;43mstrict\u001b[39;49m\u001b[38;5;124;43m\"\u001b[39;49m\u001b[43m)\u001b[49m\u001b[43m,\u001b[49m\n\u001b[1;32m   1713\u001b[0m \u001b[43m    \u001b[49m\u001b[43mstorage_options\u001b[49m\u001b[38;5;241;43m=\u001b[39;49m\u001b[38;5;28;43mself\u001b[39;49m\u001b[38;5;241;43m.\u001b[39;49m\u001b[43moptions\u001b[49m\u001b[38;5;241;43m.\u001b[39;49m\u001b[43mget\u001b[49m\u001b[43m(\u001b[49m\u001b[38;5;124;43m\"\u001b[39;49m\u001b[38;5;124;43mstorage_options\u001b[39;49m\u001b[38;5;124;43m\"\u001b[39;49m\u001b[43m,\u001b[49m\u001b[43m \u001b[49m\u001b[38;5;28;43;01mNone\u001b[39;49;00m\u001b[43m)\u001b[49m\u001b[43m,\u001b[49m\n\u001b[1;32m   1714\u001b[0m \u001b[43m\u001b[49m\u001b[43m)\u001b[49m\n\u001b[1;32m   1715\u001b[0m \u001b[38;5;28;01massert\u001b[39;00m \u001b[38;5;28mself\u001b[39m\u001b[38;5;241m.\u001b[39mhandles \u001b[38;5;129;01mis\u001b[39;00m \u001b[38;5;129;01mnot\u001b[39;00m \u001b[38;5;28;01mNone\u001b[39;00m\n\u001b[1;32m   1716\u001b[0m f \u001b[38;5;241m=\u001b[39m \u001b[38;5;28mself\u001b[39m\u001b[38;5;241m.\u001b[39mhandles\u001b[38;5;241m.\u001b[39mhandle\n",
      "File \u001b[0;32m~/.local/lib/python3.10/site-packages/pandas/io/common.py:863\u001b[0m, in \u001b[0;36mget_handle\u001b[0;34m(path_or_buf, mode, encoding, compression, memory_map, is_text, errors, storage_options)\u001b[0m\n\u001b[1;32m    858\u001b[0m \u001b[38;5;28;01melif\u001b[39;00m \u001b[38;5;28misinstance\u001b[39m(handle, \u001b[38;5;28mstr\u001b[39m):\n\u001b[1;32m    859\u001b[0m     \u001b[38;5;66;03m# Check whether the filename is to be opened in binary mode.\u001b[39;00m\n\u001b[1;32m    860\u001b[0m     \u001b[38;5;66;03m# Binary mode does not support 'encoding' and 'newline'.\u001b[39;00m\n\u001b[1;32m    861\u001b[0m     \u001b[38;5;28;01mif\u001b[39;00m ioargs\u001b[38;5;241m.\u001b[39mencoding \u001b[38;5;129;01mand\u001b[39;00m \u001b[38;5;124m\"\u001b[39m\u001b[38;5;124mb\u001b[39m\u001b[38;5;124m\"\u001b[39m \u001b[38;5;129;01mnot\u001b[39;00m \u001b[38;5;129;01min\u001b[39;00m ioargs\u001b[38;5;241m.\u001b[39mmode:\n\u001b[1;32m    862\u001b[0m         \u001b[38;5;66;03m# Encoding\u001b[39;00m\n\u001b[0;32m--> 863\u001b[0m         handle \u001b[38;5;241m=\u001b[39m \u001b[38;5;28;43mopen\u001b[39;49m\u001b[43m(\u001b[49m\n\u001b[1;32m    864\u001b[0m \u001b[43m            \u001b[49m\u001b[43mhandle\u001b[49m\u001b[43m,\u001b[49m\n\u001b[1;32m    865\u001b[0m \u001b[43m            \u001b[49m\u001b[43mioargs\u001b[49m\u001b[38;5;241;43m.\u001b[39;49m\u001b[43mmode\u001b[49m\u001b[43m,\u001b[49m\n\u001b[1;32m    866\u001b[0m \u001b[43m            \u001b[49m\u001b[43mencoding\u001b[49m\u001b[38;5;241;43m=\u001b[39;49m\u001b[43mioargs\u001b[49m\u001b[38;5;241;43m.\u001b[39;49m\u001b[43mencoding\u001b[49m\u001b[43m,\u001b[49m\n\u001b[1;32m    867\u001b[0m \u001b[43m            \u001b[49m\u001b[43merrors\u001b[49m\u001b[38;5;241;43m=\u001b[39;49m\u001b[43merrors\u001b[49m\u001b[43m,\u001b[49m\n\u001b[1;32m    868\u001b[0m \u001b[43m            \u001b[49m\u001b[43mnewline\u001b[49m\u001b[38;5;241;43m=\u001b[39;49m\u001b[38;5;124;43m\"\u001b[39;49m\u001b[38;5;124;43m\"\u001b[39;49m\u001b[43m,\u001b[49m\n\u001b[1;32m    869\u001b[0m \u001b[43m        \u001b[49m\u001b[43m)\u001b[49m\n\u001b[1;32m    870\u001b[0m     \u001b[38;5;28;01melse\u001b[39;00m:\n\u001b[1;32m    871\u001b[0m         \u001b[38;5;66;03m# Binary mode\u001b[39;00m\n\u001b[1;32m    872\u001b[0m         handle \u001b[38;5;241m=\u001b[39m \u001b[38;5;28mopen\u001b[39m(handle, ioargs\u001b[38;5;241m.\u001b[39mmode)\n",
      "\u001b[0;31mFileNotFoundError\u001b[0m: [Errno 2] No such file or directory: 'sample_total_stats_herding_no_recency.csv'"
     ]
    }
   ],
   "source": [
    "est_stats_herding_no_recency = pd.read_csv(\"sample_total_stats_herding_no_recency.csv\", index_col=[\"estimator_type\", \"lambda\"])\n",
    "\n",
    "est_stats_herding_no_recency = est_stats_herding_no_recency.rename({'cr':\"Customer-Side\", 'lr':\"Service-Side\",\n",
    "                            'tsri_2.0':'TSRI-2', 'tsri_1.0':'TSRI-1',\n",
    "                             'tsr_est_naive':\"TSR-Naive\"\n",
    "                            })"
   ]
  },
  {
   "cell_type": "code",
   "execution_count": 13,
   "metadata": {
    "ExecuteTime": {
     "end_time": "2023-12-02T22:47:25.366573Z",
     "start_time": "2023-12-02T22:47:24.343856Z"
    }
   },
   "outputs": [
    {
     "data": {
      "text/plain": [
       "(<Figure size 720x720 with 6 Axes>,\n",
       " array([[<AxesSubplot:xlabel='Relative user arrival rate $\\\\lambda/\\\\tau$', ylabel='Bias'>,\n",
       "         <AxesSubplot:xlabel='Relative user arrival rate $\\\\lambda/\\\\tau$', ylabel='Bias / GTE'>],\n",
       "        [<AxesSubplot:xlabel='Relative user arrival rate $\\\\lambda/\\\\tau$', ylabel='SE'>,\n",
       "         <AxesSubplot:xlabel='Relative user arrival rate $\\\\lambda/\\\\tau$', ylabel='SE / GTE'>],\n",
       "        [<AxesSubplot:xlabel='Relative user arrival rate $\\\\lambda/\\\\tau$', ylabel='RMSE'>,\n",
       "         <AxesSubplot:xlabel='Relative user arrival rate $\\\\lambda/\\\\tau$', ylabel='RMSE / GTE'>]],\n",
       "       dtype=object))"
      ]
     },
     "execution_count": 13,
     "metadata": {},
     "output_type": "execute_result"
    },
    {
     "data": {
      "image/png": "[encoded data removed]",
      "text/plain": [
       "<Figure size 720x720 with 6 Axes>"
      ]
     },
     "metadata": {
      "needs_background": "light"
     },
     "output_type": "display_data"
    }
   ],
   "source": [
    "sim_wrapper.plot_all_stats(est_stats_herding_no_recency, \"Herding (with no recency bias) Simulations\")"
   ]
  },
  {
   "cell_type": "code",
   "execution_count": null,
   "metadata": {},
   "outputs": [],
   "source": []
  }
 ],
 "metadata": {
  "kernelspec": {
   "display_name": "Python 3 (ipykernel)",
   "language": "python",
   "name": "python3"
  },
  "language_info": {
   "codemirror_mode": {
    "name": "ipython",
    "version": 3
   },
   "file_extension": ".py",
   "mimetype": "text/x-python",
   "name": "python",
   "nbconvert_exporter": "python",
   "pygments_lexer": "ipython3",
   "version": "3.10.12"
  }
 },
 "nbformat": 4,
 "nbformat_minor": 4
}
